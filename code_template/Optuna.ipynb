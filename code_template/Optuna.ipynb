{
 "cells": [
  {
   "cell_type": "markdown",
   "id": "16dddd4b-6b29-475b-8781-baea6224de9c",
   "metadata": {},
   "source": [
    "# Import"
   ]
  },
  {
   "cell_type": "code",
   "execution_count": null,
   "id": "9258d471-c602-49c6-9125-6332150a4855",
   "metadata": {},
   "outputs": [],
   "source": [
    "import optuna\n",
    "from optuna.visualization import plot_edf, plot_slice, plot_optimization_history, plot_param_importances"
   ]
  },
  {
   "cell_type": "markdown",
   "id": "62eddaa2-ece3-4317-9bfd-36b89daadcb4",
   "metadata": {},
   "source": [
    "# DeterministicProcess params"
   ]
  },
  {
   "cell_type": "code",
   "execution_count": null,
   "id": "bbb85ac2-9fcb-484f-b70e-1b300542dacc",
   "metadata": {},
   "outputs": [],
   "source": [
    "df_full = pd.concat([df_train, df_test], axis=0)\n",
    "    \n",
    "def objective(trial):\n",
    "    \n",
    "    fourier_order = trial.suggest_int(\"fourier_order\", 0, 20)\n",
    "    constant = trial.suggest_categorical(\"constant\", [True, False])\n",
    "    dp_order = trial.suggest_int(\"dp_order\", 1, 3)\n",
    "    seasonal = trial.suggest_categorical(\"seasonal\", [True, False])\n",
    "    \n",
    "    #     Prepare datasets with new params\n",
    "    df_full_prep = data_prep_optuna(df_full, fourier_order, constant, dp_order, seasonal)\n",
    "    features = df_full_prep.columns\n",
    "    df_full_prep['date'] = df_full.date\n",
    "    df_full_prep['num_sold'] = df_full.num_sold.astype(np.float32)\n",
    "\n",
    "    df_train_prep = df_full_prep[df_full_prep.date.dt.year < 2018]\n",
    "    df_val_prep = df_full_prep[df_full_prep.date.dt.year == 2018]\n",
    "    df_test_prep = df_full_prep[df_full_prep.date.dt.year == 2019]\n",
    "    \n",
    "    #     Eval model\n",
    "    preproc, model, y_va_pred = fit_simple_model(df_train_prep, X_va=df_val_prep, outliers=False, features=features)\n",
    "    y_va_true = df_val_prep.num_sold.values.reshape(-1, 1)\n",
    "    score = f_smape(y_va_true, y_va_pred)\n",
    "\n",
    "    return score\n",
    "\n",
    "optuna.logging.set_verbosity(optuna.logging.INFO)\n",
    "study = optuna.create_study(direction=\"minimize\")\n",
    "study.optimize(objective, n_trials=20)\n",
    "\n",
    "df_study = study.trials_dataframe()\n",
    "df_study.to_excel('study_DeterministicProcess_params.xlsx')\n",
    "\n",
    "best_params = study.best_params\n",
    "best_params"
   ]
  },
  {
   "cell_type": "markdown",
   "id": "9c8023aa-c0e3-4db0-b8a6-13b55f8f6918",
   "metadata": {},
   "source": [
    "# Models optimization"
   ]
  },
  {
   "cell_type": "markdown",
   "id": "2e521567-1169-4803-a7b5-16fc8f4facbd",
   "metadata": {},
   "source": [
    "## ExtraTreesRegressor"
   ]
  },
  {
   "cell_type": "code",
   "execution_count": null,
   "id": "9b8a297d-85cd-4b74-a83f-0b3e8160ac3b",
   "metadata": {},
   "outputs": [],
   "source": [
    "def objective(trial):\n",
    "    params = {\n",
    "        'n_estimators': trial.suggest_int(\"n_estimators\", 50,200),\n",
    "#         'criterion': trial.suggest_categorical(\"criterion\", ['squared_error', 'absolute_error']),\n",
    "#         'max_depth': trial.suggest_int(\"max_depth\", 3,15),\n",
    "#         'min_samples_split': trial.suggest_int(\"min_samples_split\", 2, 5),\n",
    "#         'min_samples_leaf': trial.suggest_int(\"min_samples_leaf\", 1, 5),\n",
    "        'max_features': trial.suggest_categorical(\"max_features\", ['auto', 'sqrt', 'log2']),\n",
    "#         'bootstrap': trial.suggest_categorical(\"bootstrap\", [True, False]),\n",
    "        'n_jobs': -1,\n",
    "        'random_state': 0,\n",
    "        }\n",
    "    \n",
    "    model = ExtraTreesRegressor(**params)\n",
    "    score = modelisation_TT_scoring(model, preprocessor, X_train, y_train)\n",
    "    return score\n",
    "\n",
    "optuna.logging.set_verbosity(optuna.logging.INFO)\n",
    "study = optuna.create_study(direction=\"maximize\")\n",
    "study.optimize(objective, n_trials=20)\n",
    "\n",
    "df_study = study.trials_dataframe()\n",
    "df_study.to_excel('study_ET.xlsx')\n",
    "\n",
    "ET_params = study.best_params\n",
    "ET_params"
   ]
  },
  {
   "cell_type": "markdown",
   "id": "6b369964-a32d-4cdb-b52b-0711cfbc9af4",
   "metadata": {},
   "source": [
    "## NuSVR"
   ]
  },
  {
   "cell_type": "code",
   "execution_count": null,
   "id": "d4ace3e8-a2f1-4fe4-8afa-8c71621b9069",
   "metadata": {},
   "outputs": [],
   "source": [
    "def objective(trial):\n",
    "    # default params : nu=0.5, C=1.0, kernel='rbf', degree=3, gamma='scale', coef0=0.0, shrinking=True, tol=0.001, cache_size=200, verbose=False, max_iter=- 1)\n",
    "    params = {\n",
    "        'nu' : trial.suggest_float(\"nu\", 0.2, 0.5), \n",
    "        'C' : trial.suggest_float(\"C\", 0.1, 1),\n",
    "        'kernel' : trial.suggest_categorical(\"kernel\", ['linear', 'poly', 'rbf']),\n",
    "#         'kernel':'linear',\n",
    "#         'degree' : trial.suggest_int(\"degree\", 2, 4),\n",
    "#         'tol' : trial.suggest_float(\"tol\", 5e-4, 1e-2, log=True),\n",
    "        'tol':5e-4,\n",
    "#         'max_iter': 30000,\n",
    "    }\n",
    "    \n",
    "    model = NuSVR(**params)\n",
    "    \n",
    "    score = modelisation_TT_scoring_NuSVR (model, preprocessor, X_train, y_train)\n",
    "    return score\n",
    "\n",
    "optuna.logging.set_verbosity(optuna.logging.INFO)\n",
    "study = optuna.create_study(direction=\"maximize\")\n",
    "study.optimize(objective, n_trials=20)\n",
    "\n",
    "df_study = study.trials_dataframe()\n",
    "df_study.to_excel('study_NuSVR.xlsx')\n",
    "\n",
    "NuSVR_params = study.best_params\n",
    "NuSVR_params"
   ]
  },
  {
   "cell_type": "markdown",
   "id": "6cac973b-53b2-4481-a4c3-f15aafc8d5ae",
   "metadata": {},
   "source": [
    "## XGBRegressor"
   ]
  },
  {
   "cell_type": "code",
   "execution_count": null,
   "id": "331bb0e9-68d1-475b-9a00-4606ef87ffa9",
   "metadata": {
    "collapsed": true,
    "jupyter": {
     "outputs_hidden": true
    },
    "tags": []
   },
   "outputs": [],
   "source": [
    "def objective(trial):\n",
    "    \n",
    "    params = {\n",
    "        'learning_rate' : trial.suggest_float(\"learning_rate\", 0.05, 1),\n",
    "        'max_depth' : trial.suggest_int(\"max_depth\", 3, 15),\n",
    "        'min_child_weight' : trial.suggest_int(\"min_child_weight\", 1, 7),\n",
    "        'gamma' : trial.suggest_float(\"gamma\", 0, 1),\n",
    "        'colsample_bytree' : trial.suggest_float(\"colsample_bytree\", 0.3, 1),\n",
    "        'colsample_bylevel' : trial.suggest_float(\"colsample_bylevel\", 0.3, 1),\n",
    "        'colsample_bynode' : trial.suggest_float(\"colsample_bynode\", 0.3, 1),\n",
    "        'n_estimators' : trial.suggest_int(\"n_estimators\", 50, 250),\n",
    "        'n_jobs' : -1,\n",
    "             }\n",
    "    model = XGBRegressor(**params)\n",
    "    score = modelisation_TT_scoring (model, preprocessor, X_train, y_train)\n",
    "    return score\n",
    "\n",
    "optuna.logging.set_verbosity(optuna.logging.INFO)\n",
    "study = optuna.create_study(direction=\"maximize\")\n",
    "study.optimize(objective, n_trials=50)\n",
    "\n",
    "df_study = study.trials_dataframe()\n",
    "df_study.to_excel('study_XGB.xlsx')\n",
    "\n",
    "XGB_params = study.best_params\n",
    "XGB_params"
   ]
  },
  {
   "cell_type": "markdown",
   "id": "72e0c809-9464-4e7d-af45-a75ff7f392df",
   "metadata": {},
   "source": [
    "## RandomForestRegressor"
   ]
  },
  {
   "cell_type": "code",
   "execution_count": null,
   "id": "1d9a7ff5-04ab-472c-a370-001fb2327335",
   "metadata": {
    "collapsed": true,
    "jupyter": {
     "outputs_hidden": true
    },
    "tags": []
   },
   "outputs": [],
   "source": [
    "def objective(trial):\n",
    "#     n_estimators=100, *, criterion='squared_error', max_depth=None, min_samples_split=2, min_samples_leaf=1, min_weight_fraction_leaf=0.0, \n",
    "#     max_features='auto', max_leaf_nodes=None, min_impurity_decrease=0.0, bootstrap=True, oob_score=False, n_jobs=None, random_state=None, \n",
    "#     verbose=0, warm_start=False, ccp_alpha=0.0, max_samples=None    \n",
    "    params = {\n",
    "        'n_estimators' : trial.suggest_int(\"n_estimators\", 50, 200),\n",
    "    #     'criterion' : trial.suggest_categorical(\"criterion\", [\"squared_error\", \"absolute_error\", \"poisson\"]),\n",
    "    #     'max_depth' : trial.suggest_int(\"max_depth\", 3, 15),\n",
    "    #     'min_samples_split' : trial.suggest_int(\"min_samples_split\", 2, 5),\n",
    "    #     'min_samples_leaf' : trial.suggest_int(\"min_samples_leaf\", 1, 5),\n",
    "        'n_jobs':-1,\n",
    "             }\n",
    "    \n",
    "    model = RandomForestRegressor(**params)\n",
    "    \n",
    "    score = modelisation_TT_scoring (model, preprocessor, X_train, y_train)\n",
    "    return score\n",
    "\n",
    "optuna.logging.set_verbosity(optuna.logging.INFO)\n",
    "study = optuna.create_study(direction=\"maximize\")\n",
    "study.optimize(objective, n_trials=10)\n",
    "\n",
    "df_study = study.trials_dataframe()\n",
    "df_study.to_excel('study_RF.xlsx')\n",
    "\n",
    "RF_params = study.best_params\n",
    "RF_params"
   ]
  },
  {
   "cell_type": "markdown",
   "id": "b4433648-71b0-4877-b64e-fc639fc58d5e",
   "metadata": {},
   "source": [
    "# MLPClassifier"
   ]
  },
  {
   "cell_type": "code",
   "execution_count": null,
   "id": "782ef0cc-e395-4d1e-a237-dac45dd7a828",
   "metadata": {
    "tags": []
   },
   "outputs": [],
   "source": [
    "warnings.simplefilter(action='ignore', category=UserWarning)\n",
    "\n",
    "N_FOLDS = 3\n",
    "subsample_pr = 0.8\n",
    "\n",
    "df_mlp = pd.DataFrame(Normalizer().fit_transform(df), columns=cols)\n",
    "X = df_mlp.loc[index_trusted]\n",
    "y = pd.Series(pred_method_2[index_trusted])\n",
    "\n",
    "def objective(trial):\n",
    "    # hidden_layer_1 = int(trial.suggest_categorical(\"hidden_layer_1\", [1, 2, 4, 8, 16, 32, 64, 128]))\n",
    "    # hidden_layer_2 = int(trial.suggest_categorical(\"hidden_layer_2\", [0, 1, 2, 4, 8, 16, 32, 64, 128]))\n",
    "    # hidden_layer_3 = int(trial.suggest_categorical(\"hidden_layer_3\", [0, 1, 2, 4, 8, 16, 32, 64, 128]))\n",
    "    hidden_layer_1 = 2 ** trial.suggest_int(\"hidden_layer_1\", 0, 7)\n",
    "    hidden_layer_2 = 2 ** trial.suggest_int(\"hidden_layer_2\", 0, 7)\n",
    "    hidden_layer_3 = 2 ** trial.suggest_int(\"hidden_layer_3\", 0, 7)\n",
    "    if hidden_layer_2 == 1:\n",
    "        hidden_layer_sizes = (hidden_layer_1)\n",
    "    elif hidden_layer_3 == 1:\n",
    "        hidden_layer_sizes = (hidden_layer_1, hidden_layer_2)\n",
    "    else:\n",
    "        hidden_layer_sizes = (hidden_layer_1, hidden_layer_2, hidden_layer_3)\n",
    "        \n",
    "    print(hidden_layer_sizes)\n",
    "    \n",
    "    params_MLP = {    \n",
    "        'hidden_layer_sizes' : hidden_layer_sizes,\n",
    "        # 'activation' : trial.suggest_categorical(\"activation\", ['identity', 'logistic', 'tanh', 'relu']),\n",
    "        # 'activation' : trial.suggest_categorical(\"activation\", ['logistic', 'tanh']),\n",
    "#         'activation': 'logistic',\n",
    "        # 'solver' : trial.suggest_categorical(\"solver\", ['lbfgs', 'sgd', 'adam']), #lbfgs is the best choice for small dataset\n",
    "        # 'solver': 'adam',\n",
    "        # 'tol' : trial.suggest_float(\"tol\", 5e-5, 1e-3, log=True),\n",
    "        # 'alpha' : trial.suggest_float(\"alpha\", 5e-4, 1e-2, log=True),\n",
    "        # 'learning_rate' : trial.suggest_categorical(\"learning_rate\", ['constant', 'invscaling', 'adaptive']),\n",
    "#         'learning_rate': 'adaptive',\n",
    "        # 'learning_rate_init': trial.suggest_float(\"learning_rate_init\", 1e-5, 1e-2, log=True),\n",
    "#         'max_iter': trial.suggest_int(\"max_iter\", 50, 500),\n",
    "        'max_iter': 1000,\n",
    "#         'beta_1': trial.suggest_float(\"beta_1\", 0.1, 1),\n",
    "#         'beta_2': trial.suggest_float(\"beta_2\", 0.1, 1),\n",
    "        'early_stopping': True,\n",
    "        # 'random_state': 0,\n",
    "        'warm_start': True,\n",
    "             }\n",
    "\n",
    "    score = 0\n",
    "    for seed in range(N_FOLDS):\n",
    "        subsample_X, _, subsample_y, _ = train_test_split(X, y, train_size=subsample_pr, random_state=seed)\n",
    "        model = MLPClassifier(**params_MLP)\n",
    "        model.fit(subsample_X, subsample_y)\n",
    "        # print(model.score(subsample_X, subsample_y), model.score(X, y), model.score(df_mlp, pred_method_2))\n",
    "        score += model.score(df_mlp, pd.Series(pred_method_2))\n",
    "    return score / N_FOLDS\n",
    "\n",
    "optuna.logging.set_verbosity(optuna.logging.INFO)\n",
    "study = optuna.create_study(direction=\"maximize\")\n",
    "study.optimize(objective, n_trials=50)\n",
    "\n",
    "df_study = study.trials_dataframe()\n",
    "df_study.to_excel('study_MLP.xlsx')\n",
    "\n",
    "MLP_params = study.best_params\n",
    "MLP_params"
   ]
  },
  {
   "cell_type": "markdown",
   "id": "73f6af84-dba4-4c76-ada2-2afd8aa4ae98",
   "metadata": {},
   "source": [
    "## MLPRegressor"
   ]
  },
  {
   "cell_type": "code",
   "execution_count": null,
   "id": "f677549d-9542-425e-a953-8b06cb219afe",
   "metadata": {
    "collapsed": true,
    "jupyter": {
     "outputs_hidden": true
    },
    "tags": []
   },
   "outputs": [],
   "source": [
    "def objective(trial):\n",
    "    params = {    \n",
    "        # 'hidden_layer_sizes' : trial.suggest_int(\"hidden_layer_sizes\", 50, 300),\n",
    "        'hidden_layer_sizes': 250,\n",
    "        # 'activation' : trial.suggest_categorical(\"activation\", ['identity', 'logistic', 'tanh', 'relu']),\n",
    "        'activation' : trial.suggest_categorical(\"activation\", ['logistic', 'tanh']),\n",
    "#         'activation': 'logistic',\n",
    "        # 'solver' : trial.suggest_categorical(\"solver\", ['lbfgs', 'sgd', 'adam']), #lbfgs is the best choice for small dataset\n",
    "        'solver': 'adam',\n",
    "        'tol' : trial.suggest_float(\"tol\", 5e-5, 1e-3, log=True),\n",
    "        'alpha' : trial.suggest_float(\"alpha\", 5e-4, 1e-2, log=True),\n",
    "        'learning_rate' : trial.suggest_categorical(\"learning_rate\", ['constant', 'invscaling', 'adaptive']),\n",
    "#         'learning_rate': 'adaptive',\n",
    "        'learning_rate_init': trial.suggest_float(\"learning_rate_init\", 1e-5, 1e-2, log=True),\n",
    "#         'max_iter': trial.suggest_int(\"max_iter\", 50, 500),\n",
    "        'max_iter': 1000,\n",
    "#         'beta_1': trial.suggest_float(\"beta_1\", 0.1, 1),\n",
    "#         'beta_2': trial.suggest_float(\"beta_2\", 0.1, 1),\n",
    "        'early_stopping': True,\n",
    "        'random_state': 0,\n",
    "        'warm_start': True,\n",
    "             }\n",
    "    \n",
    "    model = MLPRegressor(**params)\n",
    "    score = modelisation_TT_scoring (model, preprocessor, X_train, y_train)\n",
    "    return score\n",
    "\n",
    "optuna.logging.set_verbosity(optuna.logging.INFO)\n",
    "study = optuna.create_study(direction=\"maximize\")\n",
    "study.optimize(objective, n_trials=100)\n",
    "\n",
    "df_study = study.trials_dataframe()\n",
    "df_study.to_excel('study_MLP.xlsx')\n",
    "\n",
    "MLP_params = study.best_params\n",
    "MLP_params"
   ]
  },
  {
   "cell_type": "markdown",
   "id": "6c2ade98-678c-4dac-b3fa-942b252302f9",
   "metadata": {},
   "source": [
    "## LGBMRegressor"
   ]
  },
  {
   "cell_type": "code",
   "execution_count": null,
   "id": "0d099d2b-e3ac-4a3e-8d2f-768b7a38e932",
   "metadata": {
    "collapsed": true,
    "jupyter": {
     "outputs_hidden": true
    },
    "tags": []
   },
   "outputs": [],
   "source": [
    "def objective(trial):\n",
    "    \n",
    "    params = {\n",
    "        'boosting_type': trial.suggest_categorical(\"boosting_type\", ['gbdt', 'dart', 'goss', 'rf']), # default=gbdt\n",
    "        'num_leaves': trial.suggest_int(\"num_leaves\", 7, 50), # default=31\n",
    "#         'max_depth' : trial.suggest_int(\"max_depth\", 3, 15), # default=-1\n",
    "        'learning_rate' : trial.suggest_float(\"learning_rate\", 0.01, 0.5), # default=0.1\n",
    "#         'n_estimators' : trial.suggest_int(\"n_estimators\", 50, 250), # default=100\n",
    "#         'min_child_weight' : trial.suggest_float(\"min_child_weight\", 1e-4, 1e-2, log=True), # default=1e-3\n",
    "        'colsample_bytree' : trial.suggest_float(\"colsample_bytree\", 0.3, 1), # default=1.\n",
    "        'random_state': 0,\n",
    "        'n_jobs' : -1,\n",
    "             }\n",
    "    model = LGBMRegressor(**params)\n",
    "    score = modelisation_TT_scoring (model, preprocessor, X_train, y_train)\n",
    "    return score\n",
    "\n",
    "optuna.logging.set_verbosity(optuna.logging.INFO)\n",
    "study = optuna.create_study(direction=\"maximize\")\n",
    "study.optimize(objective, n_trials=50)\n",
    "\n",
    "df_study = study.trials_dataframe()\n",
    "df_study.to_excel('study_LGBM.xlsx')\n",
    "\n",
    "LGBM_params = study.best_params\n",
    "LGBM_params"
   ]
  },
  {
   "cell_type": "markdown",
   "id": "0845de80-5e1d-43fb-a800-31436884ad29",
   "metadata": {},
   "source": [
    "## MLExtend stacking regressor"
   ]
  },
  {
   "cell_type": "code",
   "execution_count": null,
   "id": "2353b9ee-11a1-468b-af5c-79cccd0156be",
   "metadata": {},
   "outputs": [],
   "source": [
    "def evaluate_model(model, X_tr, X_va):\n",
    "    \n",
    "    # Preprocess the data\n",
    "    X_tr_f = X_tr[features]\n",
    "    # preproc = MinMaxScaler()\n",
    "    preproc = StandardScaler()\n",
    "    X_tr_f = preproc.fit_transform(X_tr_f)\n",
    "    y_tr = X_tr.num_sold.values.reshape(-1, 1)\n",
    "    \n",
    "    # Train the model\n",
    "    model.fit(X_tr_f, np.log(y_tr).ravel())\n",
    "    y_tr_pred = np.ceil(np.exp(model.predict(X_tr_f)).reshape(-1, 1))\n",
    "    score_tr = f_smape(y_tr, y_tr_pred)  \n",
    "    \n",
    "    y_va_pred = None\n",
    "\n",
    "    if X_va is not None:\n",
    "        # Preprocess the validation data\n",
    "        X_va_f = X_va[features]\n",
    "        X_va_f = preproc.transform(X_va_f)\n",
    "        y_va = X_va.num_sold.values.reshape(-1, 1)\n",
    "\n",
    "        # Inference for validation\n",
    "        y_va_pred = np.ceil(np.exp(model.predict(X_va_f)).reshape(-1, 1))\n",
    "        \n",
    "        # Print SMAPE and plot graph\n",
    "        # eval_plot (y_va, y_va_pred)\n",
    "    \n",
    "    #     Eval model\n",
    "    y_va_true = X_va.num_sold.values.reshape(-1, 1)\n",
    "    score_val = f_smape(y_va_true, y_va_pred)  \n",
    "    \n",
    "    return score_tr, score_val, y_tr_pred, y_va_pred\n",
    "\n",
    "    \n",
    "def objective(trial):\n",
    "    models = {\n",
    "    'lr' : LinearRegression(),\n",
    "    'ridge' : Ridge(),\n",
    "    'huber' : HuberRegressor(),\n",
    "    'sgdr' : SGDRegressor(),\n",
    "    'mlp' : MLPRegressor(solver = 'lbfgs', activation = 'identity'),\n",
    "    'br' : BayesianRidge(),\n",
    "    'lgb' : LGBMRegressor(),\n",
    "    }\n",
    "    \n",
    "    models_selection = {    \n",
    "        'lr' : trial.suggest_categorical(\"lr\", [False, True]),\n",
    "        'ridge' : trial.suggest_categorical(\"ridge\", [False, True]),\n",
    "        'huber' : trial.suggest_categorical(\"huber\", [False, True]),\n",
    "        'sgdr' : trial.suggest_categorical(\"sgdr\", [False, True]),\n",
    "        'mlp' : trial.suggest_categorical(\"mlp\", [False, True]),\n",
    "        'br' : trial.suggest_categorical(\"br\", [False, True]),\n",
    "    }\n",
    "    \n",
    "    meta_models = {\n",
    "    'lr' : LinearRegression(),\n",
    "    'ridge' : Ridge(),\n",
    "    'huber' : HuberRegressor(),\n",
    "    'sgdr' : SGDRegressor(),\n",
    "    'mlp' : MLPRegressor(solver = 'lbfgs', activation = 'identity'),\n",
    "    'br' : BayesianRidge(),\n",
    "    'lgb' : LGBMRegressor(),\n",
    "    }\n",
    "    \n",
    "    regressors = []\n",
    "    for key, value in models_selection.items():\n",
    "        if value:\n",
    "            regressors.append(models[key])\n",
    "    \n",
    "    if len(regressors) == 0:\n",
    "        regressors = [LinearRegression()]\n",
    "            \n",
    "    use_features_in_secondary = trial.suggest_categorical(\"use_features_in_secondary\", [False, True])\n",
    "    meta_regressor_selection = trial.suggest_categorical(\n",
    "        \"meta_regressor_selection\",\n",
    "        ['lr', 'ridge', 'huber', 'sgdr', 'mlp', 'br', 'lgb']\n",
    "    )\n",
    "                                    \n",
    "    model = mlxtend.regressor.StackingRegressor(\n",
    "        regressors=regressors, \n",
    "        meta_regressor=meta_models[meta_regressor_selection], \n",
    "        use_features_in_secondary=use_features_in_secondary,\n",
    "    )\n",
    "    score_tr, score_eval, pred_tr, y_va_pred = evaluate_model(model, df_train_prep, df_val_prep)\n",
    "\n",
    "    score = score_tr + score_eval\n",
    "    return score\n",
    "\n",
    "optuna.logging.set_verbosity(optuna.logging.INFO)\n",
    "study = optuna.create_study(direction=\"minimize\")\n",
    "study.optimize(objective, n_trials=50)\n",
    "\n",
    "df_study = study.trials_dataframe()\n",
    "df_study.to_excel('study_MLP.xlsx')\n",
    "\n",
    "MLP_params = study.best_params\n",
    "MLP_params"
   ]
  },
  {
   "cell_type": "markdown",
   "id": "0ae43aac-0961-4b71-9609-a3307cb6a5c5",
   "metadata": {},
   "source": [
    "## Feature selection"
   ]
  },
  {
   "cell_type": "code",
   "execution_count": null,
   "id": "eda3b256-3e81-48b7-8dae-62919f041815",
   "metadata": {},
   "outputs": [],
   "source": [
    "bad_features = ['row_id','time',TARGET, 'test']\n",
    "POSSIBLE_FEATURES = [feat for feat in df.columns if feat not in bad_features]\n",
    "\n",
    "def objective(trial):\n",
    "    ###################################\n",
    "    # Generate our trial model.\n",
    "    ###################################\n",
    "    FEATURES = []\n",
    "    for feat in POSSIBLE_FEATURES:\n",
    "        select_feat = trial.suggest_categorical(feat, [True, False])\n",
    "        if select_feat:\n",
    "            FEATURES.append(feat)\n",
    "    model = LGBMRegressor()\n",
    "    only_test = trial.suggest_categorical('only_test_day',[True,False])\n",
    "    if only_test:\n",
    "        msk = train.time.dt.weekday.isin([0])\n",
    "    else:\n",
    "        msk = [True for i in range(train.shape[0])]\n",
    "    model.fit(train.loc[msk, FEATURES], train.loc[msk, TARGET])\n",
    "    \n",
    "    \n",
    "    #Val Score\n",
    "    val_preds = model.predict(val[FEATURES])\n",
    "    score = np.mean(np.abs(val[TARGET].values - val_preds))    \n",
    "    return score\n",
    "\n",
    "study = optuna.create_study(direction=\"minimize\")\n",
    "study.optimize(objective, n_trials=100)\n",
    "\n",
    "print(\"Study statistics: \")\n",
    "print(\"  Number of finished trials: \", len(study.trials))\n",
    "\n",
    "print(\"Best trial:\")\n",
    "trial = study.best_trial\n",
    "\n",
    "print(\"  Value: \", trial.value)\n",
    "\n",
    "print(\"  Params: \")\n",
    "for key, value in trial.params.items():\n",
    "    print(\"    {}: {}\".format(key, value))"
   ]
  },
  {
   "attachments": {},
   "cell_type": "markdown",
   "id": "eb455247",
   "metadata": {},
   "source": [
    "# LogisticRegression"
   ]
  },
  {
   "cell_type": "code",
   "execution_count": null,
   "id": "f5cab0d0",
   "metadata": {},
   "outputs": [
    {
     "name": "stderr",
     "output_type": "stream",
     "text": [
      "\u001b[32m[I 2023-04-13 11:32:20,099]\u001b[0m A new study created in memory with name: no-name-115914e4-130a-4f09-bae1-eeb13c4b1959\u001b[0m\n",
      "\u001b[32m[I 2023-04-13 11:32:24,340]\u001b[0m Trial 0 finished with value: 0.5974785248619706 and parameters: {'solver_penalty': 'lbfgs_l2', 'C': 0.0008001215659820334, 'l1_ratio': 0.17670579688640475}. Best is trial 0 with value: 0.5974785248619706.\u001b[0m\n"
     ]
    },
    {
     "name": "stdout",
     "output_type": "stream",
     "text": [
      "ROC AUC: 0.7493 +/- 0.0759\n"
     ]
    },
    {
     "name": "stderr",
     "output_type": "stream",
     "text": [
      "\u001b[32m[I 2023-04-13 11:32:24,654]\u001b[0m Trial 1 finished with value: 0.6432341995625586 and parameters: {'solver_penalty': 'newton-cg_l2', 'C': 0.460790495771823, 'l1_ratio': 0.23597090850515656}. Best is trial 1 with value: 0.6432341995625586.\u001b[0m\n"
     ]
    },
    {
     "name": "stdout",
     "output_type": "stream",
     "text": [
      "ROC AUC: 0.7855 +/- 0.0711\n"
     ]
    },
    {
     "name": "stderr",
     "output_type": "stream",
     "text": [
      "\u001b[32m[I 2023-04-13 11:32:24,890]\u001b[0m Trial 2 finished with value: 0.6440682617554017 and parameters: {'solver_penalty': 'saga_elasticnet', 'C': 1.675046069786646, 'l1_ratio': 0.7880294483420687}. Best is trial 2 with value: 0.6440682617554017.\u001b[0m\n",
      "\u001b[32m[I 2023-04-13 11:32:25,096]\u001b[0m Trial 3 finished with value: 0.6456207833961292 and parameters: {'solver_penalty': 'liblinear_l1', 'C': 0.4436128986522135, 'l1_ratio': 0.3926265033571048}. Best is trial 3 with value: 0.6456207833961292.\u001b[0m\n"
     ]
    },
    {
     "name": "stdout",
     "output_type": "stream",
     "text": [
      "ROC AUC: 0.7857 +/- 0.0708\n",
      "ROC AUC: 0.7867 +/- 0.0705\n"
     ]
    },
    {
     "name": "stderr",
     "output_type": "stream",
     "text": [
      "\u001b[32m[I 2023-04-13 11:32:25,326]\u001b[0m Trial 4 finished with value: 0.64289520157143 and parameters: {'solver_penalty': 'saga_l2', 'C': 9319.50467086551, 'l1_ratio': 0.4567636825609537}. Best is trial 3 with value: 0.6456207833961292.\u001b[0m\n"
     ]
    },
    {
     "name": "stdout",
     "output_type": "stream",
     "text": [
      "ROC AUC: 0.7853 +/- 0.0712\n"
     ]
    },
    {
     "name": "stderr",
     "output_type": "stream",
     "text": [
      "\u001b[32m[I 2023-04-13 11:32:25,550]\u001b[0m Trial 5 finished with value: 0.5929636590613871 and parameters: {'solver_penalty': 'newton-cholesky_l2', 'C': 0.00017953229389241912, 'l1_ratio': 0.6643464681576196}. Best is trial 3 with value: 0.6456207833961292.\u001b[0m\n"
     ]
    },
    {
     "name": "stdout",
     "output_type": "stream",
     "text": [
      "ROC AUC: 0.7448 +/- 0.0759\n"
     ]
    },
    {
     "name": "stderr",
     "output_type": "stream",
     "text": [
      "\u001b[32m[I 2023-04-13 11:32:25,808]\u001b[0m Trial 6 finished with value: 0.6318379162327652 and parameters: {'solver_penalty': 'lbfgs_l2', 'C': 0.01624269961387337, 'l1_ratio': 0.6850080693000887}. Best is trial 3 with value: 0.6456207833961292.\u001b[0m\n"
     ]
    },
    {
     "name": "stdout",
     "output_type": "stream",
     "text": [
      "ROC AUC: 0.7776 +/- 0.0729\n"
     ]
    },
    {
     "name": "stderr",
     "output_type": "stream",
     "text": [
      "\u001b[32m[I 2023-04-13 11:32:26,107]\u001b[0m Trial 7 finished with value: 0.64289520157143 and parameters: {'solver_penalty': 'lbfgs_none', 'C': 1744.3131878023992, 'l1_ratio': 0.7540962220248101}. Best is trial 3 with value: 0.6456207833961292.\u001b[0m\n"
     ]
    },
    {
     "name": "stdout",
     "output_type": "stream",
     "text": [
      "ROC AUC: 0.7853 +/- 0.0712\n"
     ]
    },
    {
     "name": "stderr",
     "output_type": "stream",
     "text": [
      "\u001b[32m[I 2023-04-13 11:32:26,430]\u001b[0m Trial 8 finished with value: 0.64289520157143 and parameters: {'solver_penalty': 'newton-cg_none', 'C': 0.009929849854339074, 'l1_ratio': 0.6289897734116643}. Best is trial 3 with value: 0.6456207833961292.\u001b[0m\n"
     ]
    },
    {
     "name": "stdout",
     "output_type": "stream",
     "text": [
      "ROC AUC: 0.7853 +/- 0.0712\n"
     ]
    },
    {
     "name": "stderr",
     "output_type": "stream",
     "text": [
      "\u001b[32m[I 2023-04-13 11:32:26,776]\u001b[0m Trial 9 finished with value: 0.64289520157143 and parameters: {'solver_penalty': 'newton-cg_none', 'C': 0.0016203514482328117, 'l1_ratio': 0.6894707270359101}. Best is trial 3 with value: 0.6456207833961292.\u001b[0m\n"
     ]
    },
    {
     "name": "stdout",
     "output_type": "stream",
     "text": [
      "ROC AUC: 0.7853 +/- 0.0712\n"
     ]
    },
    {
     "name": "stderr",
     "output_type": "stream",
     "text": [
      "\u001b[32m[I 2023-04-13 11:32:26,991]\u001b[0m Trial 10 finished with value: 0.6430204073759024 and parameters: {'solver_penalty': 'liblinear_l1', 'C': 39.41003458056367, 'l1_ratio': 0.9838076777330077}. Best is trial 3 with value: 0.6456207833961292.\u001b[0m\n"
     ]
    },
    {
     "name": "stdout",
     "output_type": "stream",
     "text": [
      "ROC AUC: 0.7853 +/- 0.0711\n"
     ]
    },
    {
     "name": "stderr",
     "output_type": "stream",
     "text": [
      "\u001b[32m[I 2023-04-13 11:32:27,229]\u001b[0m Trial 11 finished with value: 0.643218273894823 and parameters: {'solver_penalty': 'saga_elasticnet', 'C': 1.811194061740316, 'l1_ratio': 0.001290698600305562}. Best is trial 3 with value: 0.6456207833961292.\u001b[0m\n",
      "\u001b[32m[I 2023-04-13 11:32:27,447]\u001b[0m Trial 12 finished with value: 0.6445231736171061 and parameters: {'solver_penalty': 'liblinear_l1', 'C': 0.9925348169092364, 'l1_ratio': 0.4303486898888229}. Best is trial 3 with value: 0.6456207833961292.\u001b[0m\n"
     ]
    },
    {
     "name": "stdout",
     "output_type": "stream",
     "text": [
      "ROC AUC: 0.7854 +/- 0.0711\n",
      "ROC AUC: 0.7862 +/- 0.0709\n"
     ]
    },
    {
     "name": "stderr",
     "output_type": "stream",
     "text": [
      "\u001b[32m[I 2023-04-13 11:32:27,759]\u001b[0m Trial 13 finished with value: 0.6429283933918515 and parameters: {'solver_penalty': 'newton-cholesky_none', 'C': 31.187014734281885, 'l1_ratio': 0.42955551431139144}. Best is trial 3 with value: 0.6456207833961292.\u001b[0m\n"
     ]
    },
    {
     "name": "stdout",
     "output_type": "stream",
     "text": [
      "ROC AUC: 0.7853 +/- 0.0712\n"
     ]
    },
    {
     "name": "stderr",
     "output_type": "stream",
     "text": [
      "\u001b[32m[I 2023-04-13 11:32:27,992]\u001b[0m Trial 14 finished with value: 0.6481649800684912 and parameters: {'solver_penalty': 'liblinear_l1', 'C': 0.14760873549535483, 'l1_ratio': 0.30948502430020597}. Best is trial 14 with value: 0.6481649800684912.\u001b[0m\n"
     ]
    },
    {
     "name": "stdout",
     "output_type": "stream",
     "text": [
      "ROC AUC: 0.7884 +/- 0.0701\n"
     ]
    },
    {
     "name": "stderr",
     "output_type": "stream",
     "text": [
      "\u001b[32m[I 2023-04-13 11:32:28,236]\u001b[0m Trial 15 finished with value: 0.6409609468026556 and parameters: {'solver_penalty': 'sag_l2', 'C': 0.10707002320002461, 'l1_ratio': 0.2402325027976387}. Best is trial 14 with value: 0.6481649800684912.\u001b[0m\n"
     ]
    },
    {
     "name": "stdout",
     "output_type": "stream",
     "text": [
      "ROC AUC: 0.7842 +/- 0.0716\n"
     ]
    },
    {
     "name": "stderr",
     "output_type": "stream",
     "text": [
      "\u001b[32m[I 2023-04-13 11:32:28,501]\u001b[0m Trial 16 finished with value: 0.64289520157143 and parameters: {'solver_penalty': 'saga_none', 'C': 9.961937219253956, 'l1_ratio': 0.3281071965308107}. Best is trial 14 with value: 0.6481649800684912.\u001b[0m\n"
     ]
    },
    {
     "name": "stdout",
     "output_type": "stream",
     "text": [
      "ROC AUC: 0.7853 +/- 0.0712\n"
     ]
    },
    {
     "name": "stderr",
     "output_type": "stream",
     "text": [
      "\u001b[32m[I 2023-04-13 11:32:28,779]\u001b[0m Trial 17 finished with value: 0.6428991874622355 and parameters: {'solver_penalty': 'sag_none', 'C': 0.05503001591737031, 'l1_ratio': 0.08834681374851877}. Best is trial 14 with value: 0.6481649800684912.\u001b[0m\n"
     ]
    },
    {
     "name": "stdout",
     "output_type": "stream",
     "text": [
      "ROC AUC: 0.7853 +/- 0.0712\n"
     ]
    },
    {
     "name": "stderr",
     "output_type": "stream",
     "text": [
      "\u001b[32m[I 2023-04-13 11:32:29,005]\u001b[0m Trial 18 finished with value: 0.6429021701294928 and parameters: {'solver_penalty': 'liblinear_l1', 'C': 247.23645932812857, 'l1_ratio': 0.3667395184466254}. Best is trial 14 with value: 0.6481649800684912.\u001b[0m\n"
     ]
    },
    {
     "name": "stdout",
     "output_type": "stream",
     "text": [
      "ROC AUC: 0.7853 +/- 0.0712\n"
     ]
    },
    {
     "name": "stderr",
     "output_type": "stream",
     "text": [
      "\u001b[32m[I 2023-04-13 11:32:29,221]\u001b[0m Trial 19 finished with value: 0.6507478160222712 and parameters: {'solver_penalty': 'saga_l1', 'C': 0.06907683585927755, 'l1_ratio': 0.5838495468845403}. Best is trial 19 with value: 0.6507478160222712.\u001b[0m\n",
      "\u001b[32m[I 2023-04-13 11:32:29,429]\u001b[0m Trial 20 finished with value: 0.5 and parameters: {'solver_penalty': 'saga_l1', 'C': 0.006875213603461983, 'l1_ratio': 0.561339766781751}. Best is trial 19 with value: 0.6507478160222712.\u001b[0m\n"
     ]
    },
    {
     "name": "stdout",
     "output_type": "stream",
     "text": [
      "ROC AUC: 0.7900 +/- 0.0696\n",
      "ROC AUC: 0.5000 +/- 0.0000\n"
     ]
    },
    {
     "name": "stderr",
     "output_type": "stream",
     "text": [
      "\u001b[32m[I 2023-04-13 11:32:29,652]\u001b[0m Trial 21 finished with value: 0.6483222032320821 and parameters: {'solver_penalty': 'saga_l1', 'C': 0.138531283673097, 'l1_ratio': 0.5267720115627361}. Best is trial 19 with value: 0.6507478160222712.\u001b[0m\n"
     ]
    },
    {
     "name": "stdout",
     "output_type": "stream",
     "text": [
      "ROC AUC: 0.7886 +/- 0.0701\n"
     ]
    },
    {
     "name": "stderr",
     "output_type": "stream",
     "text": [
      "\u001b[32m[I 2023-04-13 11:32:29,899]\u001b[0m Trial 22 finished with value: 0.6507734567019612 and parameters: {'solver_penalty': 'saga_l1', 'C': 0.07867758738325711, 'l1_ratio': 0.5858595261688582}. Best is trial 22 with value: 0.6507734567019612.\u001b[0m\n"
     ]
    },
    {
     "name": "stdout",
     "output_type": "stream",
     "text": [
      "ROC AUC: 0.7900 +/- 0.0696\n"
     ]
    },
    {
     "name": "stderr",
     "output_type": "stream",
     "text": [
      "\u001b[32m[I 2023-04-13 11:32:30,197]\u001b[0m Trial 23 finished with value: 0.6511821366828551 and parameters: {'solver_penalty': 'saga_l1', 'C': 0.04349403065199462, 'l1_ratio': 0.569760298788535}. Best is trial 23 with value: 0.6511821366828551.\u001b[0m\n"
     ]
    },
    {
     "name": "stdout",
     "output_type": "stream",
     "text": [
      "ROC AUC: 0.7902 +/- 0.0695\n"
     ]
    },
    {
     "name": "stderr",
     "output_type": "stream",
     "text": [
      "\u001b[32m[I 2023-04-13 11:32:30,413]\u001b[0m Trial 24 finished with value: 0.6511821366828551 and parameters: {'solver_penalty': 'saga_l1', 'C': 0.02315058397458379, 'l1_ratio': 0.830354934503715}. Best is trial 23 with value: 0.6511821366828551.\u001b[0m\n"
     ]
    },
    {
     "name": "stdout",
     "output_type": "stream",
     "text": [
      "ROC AUC: 0.7902 +/- 0.0695\n"
     ]
    },
    {
     "name": "stderr",
     "output_type": "stream",
     "text": [
      "\u001b[32m[I 2023-04-13 11:32:30,640]\u001b[0m Trial 25 finished with value: 0.6092812090193578 and parameters: {'solver_penalty': 'liblinear_l2', 'C': 0.0026837538596708194, 'l1_ratio': 0.9145682843160197}. Best is trial 23 with value: 0.6511821366828551.\u001b[0m\n"
     ]
    },
    {
     "name": "stdout",
     "output_type": "stream",
     "text": [
      "ROC AUC: 0.7601 +/- 0.0754\n"
     ]
    },
    {
     "name": "stderr",
     "output_type": "stream",
     "text": [
      "\u001b[32m[I 2023-04-13 11:32:30,859]\u001b[0m Trial 26 finished with value: 0.6511821366828551 and parameters: {'solver_penalty': 'saga_l1', 'C': 0.023136706129392105, 'l1_ratio': 0.8438813763571007}. Best is trial 23 with value: 0.6511821366828551.\u001b[0m\n",
      "\u001b[32m[I 2023-04-13 11:32:31,054]\u001b[0m Trial 27 finished with value: 0.5 and parameters: {'solver_penalty': 'saga_l1', 'C': 0.00010554495038710986, 'l1_ratio': 0.8156045283777369}. Best is trial 23 with value: 0.6511821366828551.\u001b[0m\n"
     ]
    },
    {
     "name": "stdout",
     "output_type": "stream",
     "text": [
      "ROC AUC: 0.7902 +/- 0.0695\n",
      "ROC AUC: 0.5000 +/- 0.0000\n"
     ]
    },
    {
     "name": "stderr",
     "output_type": "stream",
     "text": [
      "\u001b[32m[I 2023-04-13 11:32:31,264]\u001b[0m Trial 28 finished with value: 0.6511821366828551 and parameters: {'solver_penalty': 'saga_l1', 'C': 0.01625948725749153, 'l1_ratio': 0.8846252307613309}. Best is trial 23 with value: 0.6511821366828551.\u001b[0m\n"
     ]
    },
    {
     "name": "stdout",
     "output_type": "stream",
     "text": [
      "ROC AUC: 0.7902 +/- 0.0695\n"
     ]
    },
    {
     "name": "stderr",
     "output_type": "stream",
     "text": [
      "\u001b[32m[I 2023-04-13 11:32:31,479]\u001b[0m Trial 29 finished with value: 0.5 and parameters: {'solver_penalty': 'saga_l1', 'C': 0.0005661657078899078, 'l1_ratio': 0.8855830010042949}. Best is trial 23 with value: 0.6511821366828551.\u001b[0m\n",
      "\u001b[32m[I 2023-04-13 11:32:31,683]\u001b[0m Trial 30 finished with value: 0.6327877981685709 and parameters: {'solver_penalty': 'liblinear_l2', 'C': 0.01763653688341651, 'l1_ratio': 0.994193192414974}. Best is trial 23 with value: 0.6511821366828551.\u001b[0m\n"
     ]
    },
    {
     "name": "stdout",
     "output_type": "stream",
     "text": [
      "ROC AUC: 0.5000 +/- 0.0000\n",
      "ROC AUC: 0.7786 +/- 0.0729\n"
     ]
    },
    {
     "name": "stderr",
     "output_type": "stream",
     "text": [
      "\u001b[32m[I 2023-04-13 11:32:31,882]\u001b[0m Trial 31 finished with value: 0.5 and parameters: {'solver_penalty': 'saga_l1', 'C': 0.003338830691067552, 'l1_ratio': 0.8894732494110995}. Best is trial 23 with value: 0.6511821366828551.\u001b[0m\n"
     ]
    },
    {
     "name": "stdout",
     "output_type": "stream",
     "text": [
      "ROC AUC: 0.5000 +/- 0.0000\n"
     ]
    },
    {
     "name": "stderr",
     "output_type": "stream",
     "text": [
      "\u001b[32m[I 2023-04-13 11:32:32,180]\u001b[0m Trial 32 finished with value: 0.6354777536556881 and parameters: {'solver_penalty': 'newton-cg_l2', 'C': 0.022900629380774085, 'l1_ratio': 0.749213639111881}. Best is trial 23 with value: 0.6511821366828551.\u001b[0m\n"
     ]
    },
    {
     "name": "stdout",
     "output_type": "stream",
     "text": [
      "ROC AUC: 0.7802 +/- 0.0724\n"
     ]
    },
    {
     "name": "stderr",
     "output_type": "stream",
     "text": [
      "\u001b[32m[I 2023-04-13 11:32:32,414]\u001b[0m Trial 33 finished with value: 0.6459359356217675 and parameters: {'solver_penalty': 'saga_l1', 'C': 0.2898709333329739, 'l1_ratio': 0.8265544780191127}. Best is trial 23 with value: 0.6511821366828551.\u001b[0m\n"
     ]
    },
    {
     "name": "stdout",
     "output_type": "stream",
     "text": [
      "ROC AUC: 0.7872 +/- 0.0706\n"
     ]
    },
    {
     "name": "stderr",
     "output_type": "stream",
     "text": [
      "\u001b[32m[I 2023-04-13 11:32:32,633]\u001b[0m Trial 34 finished with value: 0.5 and parameters: {'solver_penalty': 'saga_l1', 'C': 0.0009299551632199651, 'l1_ratio': 0.9306370428172389}. Best is trial 23 with value: 0.6511821366828551.\u001b[0m\n"
     ]
    },
    {
     "name": "stdout",
     "output_type": "stream",
     "text": [
      "ROC AUC: 0.5000 +/- 0.0000\n"
     ]
    },
    {
     "name": "stderr",
     "output_type": "stream",
     "text": [
      "\u001b[32m[I 2023-04-13 11:32:32,855]\u001b[0m Trial 35 finished with value: 0.6193693332138961 and parameters: {'solver_penalty': 'saga_l2', 'C': 0.005149232211416248, 'l1_ratio': 0.85396488910183}. Best is trial 23 with value: 0.6511821366828551.\u001b[0m\n"
     ]
    },
    {
     "name": "stdout",
     "output_type": "stream",
     "text": [
      "ROC AUC: 0.7674 +/- 0.0740\n"
     ]
    },
    {
     "name": "stderr",
     "output_type": "stream",
     "text": [
      "\u001b[32m[I 2023-04-13 11:32:33,068]\u001b[0m Trial 36 finished with value: 0.6373967983858834 and parameters: {'solver_penalty': 'newton-cholesky_l2', 'C': 0.033062417935143196, 'l1_ratio': 0.7499326849410406}. Best is trial 23 with value: 0.6511821366828551.\u001b[0m\n"
     ]
    },
    {
     "name": "stdout",
     "output_type": "stream",
     "text": [
      "ROC AUC: 0.7816 +/- 0.0721\n"
     ]
    },
    {
     "name": "stderr",
     "output_type": "stream",
     "text": [
      "\u001b[32m[I 2023-04-13 11:32:33,297]\u001b[0m Trial 37 finished with value: 0.5948626302618499 and parameters: {'solver_penalty': 'lbfgs_l2', 'C': 0.0003946438855475615, 'l1_ratio': 0.9442668330710469}. Best is trial 23 with value: 0.6511821366828551.\u001b[0m\n"
     ]
    },
    {
     "name": "stdout",
     "output_type": "stream",
     "text": [
      "ROC AUC: 0.7464 +/- 0.0758\n"
     ]
    },
    {
     "name": "stderr",
     "output_type": "stream",
     "text": [
      "\u001b[32m[I 2023-04-13 11:32:33,590]\u001b[0m Trial 38 finished with value: 0.64289520157143 and parameters: {'solver_penalty': 'lbfgs_none', 'C': 0.5631189902456344, 'l1_ratio': 0.7050712223466437}. Best is trial 23 with value: 0.6511821366828551.\u001b[0m\n"
     ]
    },
    {
     "name": "stdout",
     "output_type": "stream",
     "text": [
      "ROC AUC: 0.7853 +/- 0.0712\n"
     ]
    },
    {
     "name": "stderr",
     "output_type": "stream",
     "text": [
      "\u001b[32m[I 2023-04-13 11:32:33,885]\u001b[0m Trial 39 finished with value: 0.6429283933918515 and parameters: {'solver_penalty': 'newton-cholesky_none', 'C': 3.023171657212326, 'l1_ratio': 0.7914608877900916}. Best is trial 23 with value: 0.6511821366828551.\u001b[0m\n"
     ]
    },
    {
     "name": "stdout",
     "output_type": "stream",
     "text": [
      "ROC AUC: 0.7853 +/- 0.0712\n"
     ]
    },
    {
     "name": "stderr",
     "output_type": "stream",
     "text": [
      "\u001b[32m[I 2023-04-13 11:32:34,161]\u001b[0m Trial 40 finished with value: 0.64289520157143 and parameters: {'solver_penalty': 'saga_none', 'C': 0.011398065231775946, 'l1_ratio': 0.6223711915991055}. Best is trial 23 with value: 0.6511821366828551.\u001b[0m\n"
     ]
    },
    {
     "name": "stdout",
     "output_type": "stream",
     "text": [
      "ROC AUC: 0.7853 +/- 0.0712\n"
     ]
    },
    {
     "name": "stderr",
     "output_type": "stream",
     "text": [
      "\u001b[32m[I 2023-04-13 11:32:34,465]\u001b[0m Trial 41 finished with value: 0.6511821366828551 and parameters: {'solver_penalty': 'saga_l1', 'C': 0.0409542888205356, 'l1_ratio': 0.6330825027037461}. Best is trial 23 with value: 0.6511821366828551.\u001b[0m\n"
     ]
    },
    {
     "name": "stdout",
     "output_type": "stream",
     "text": [
      "ROC AUC: 0.7902 +/- 0.0695\n"
     ]
    },
    {
     "name": "stderr",
     "output_type": "stream",
     "text": [
      "\u001b[32m[I 2023-04-13 11:32:34,693]\u001b[0m Trial 42 finished with value: 0.6459434691152145 and parameters: {'solver_penalty': 'saga_l1', 'C': 0.27138256229180957, 'l1_ratio': 0.4812458000770998}. Best is trial 23 with value: 0.6511821366828551.\u001b[0m\n"
     ]
    },
    {
     "name": "stdout",
     "output_type": "stream",
     "text": [
      "ROC AUC: 0.7873 +/- 0.0707\n"
     ]
    },
    {
     "name": "stderr",
     "output_type": "stream",
     "text": [
      "\u001b[32m[I 2023-04-13 11:32:34,980]\u001b[0m Trial 43 finished with value: 0.6428991874622355 and parameters: {'solver_penalty': 'sag_none', 'C': 0.024928449605660086, 'l1_ratio': 0.7147192991046105}. Best is trial 23 with value: 0.6511821366828551.\u001b[0m\n"
     ]
    },
    {
     "name": "stdout",
     "output_type": "stream",
     "text": [
      "ROC AUC: 0.7853 +/- 0.0712\n"
     ]
    },
    {
     "name": "stderr",
     "output_type": "stream",
     "text": [
      "\u001b[32m[I 2023-04-13 11:32:35,261]\u001b[0m Trial 44 finished with value: 0.6073702962502379 and parameters: {'solver_penalty': 'sag_l2', 'C': 0.002176266348801942, 'l1_ratio': 0.6462161392089324}. Best is trial 23 with value: 0.6511821366828551.\u001b[0m\n"
     ]
    },
    {
     "name": "stdout",
     "output_type": "stream",
     "text": [
      "ROC AUC: 0.7581 +/- 0.0754\n"
     ]
    },
    {
     "name": "stderr",
     "output_type": "stream",
     "text": [
      "\u001b[32m[I 2023-04-13 11:32:35,613]\u001b[0m Trial 45 finished with value: 0.406021134671252 and parameters: {'solver_penalty': 'saga_elasticnet', 'C': 0.007628211054308323, 'l1_ratio': 0.8495933731596595}. Best is trial 23 with value: 0.6511821366828551.\u001b[0m\n"
     ]
    },
    {
     "name": "stdout",
     "output_type": "stream",
     "text": [
      "ROC AUC: 0.5199 +/- 0.0569\n"
     ]
    },
    {
     "name": "stderr",
     "output_type": "stream",
     "text": [
      "\u001b[32m[I 2023-04-13 11:32:35,840]\u001b[0m Trial 46 finished with value: 0.6511821366828551 and parameters: {'solver_penalty': 'saga_l1', 'C': 0.03894568444795645, 'l1_ratio': 0.7795892657937529}. Best is trial 23 with value: 0.6511821366828551.\u001b[0m\n"
     ]
    },
    {
     "name": "stdout",
     "output_type": "stream",
     "text": [
      "ROC AUC: 0.7902 +/- 0.0695\n"
     ]
    },
    {
     "name": "stderr",
     "output_type": "stream",
     "text": [
      "\u001b[32m[I 2023-04-13 11:32:36,162]\u001b[0m Trial 47 finished with value: 0.64289520157143 and parameters: {'solver_penalty': 'newton-cg_none', 'C': 0.0010780425624514621, 'l1_ratio': 0.5217512139557205}. Best is trial 23 with value: 0.6511821366828551.\u001b[0m\n"
     ]
    },
    {
     "name": "stdout",
     "output_type": "stream",
     "text": [
      "ROC AUC: 0.7853 +/- 0.0712\n"
     ]
    },
    {
     "name": "stderr",
     "output_type": "stream",
     "text": [
      "\u001b[32m[I 2023-04-13 11:32:36,462]\u001b[0m Trial 48 finished with value: 0.6451996073434947 and parameters: {'solver_penalty': 'saga_l1', 'C': 0.6836684842798766, 'l1_ratio': 0.7737847111010873}. Best is trial 23 with value: 0.6511821366828551.\u001b[0m\n"
     ]
    },
    {
     "name": "stdout",
     "output_type": "stream",
     "text": [
      "ROC AUC: 0.7864 +/- 0.0706\n"
     ]
    },
    {
     "name": "stderr",
     "output_type": "stream",
     "text": [
      "\u001b[32m[I 2023-04-13 11:32:36,703]\u001b[0m Trial 49 finished with value: 0.6428953572595413 and parameters: {'solver_penalty': 'saga_l2', 'C': 5.014665579468772, 'l1_ratio': 0.9483408928237949}. Best is trial 23 with value: 0.6511821366828551.\u001b[0m\n"
     ]
    },
    {
     "name": "stdout",
     "output_type": "stream",
     "text": [
      "ROC AUC: 0.7853 +/- 0.0712\n"
     ]
    },
    {
     "name": "stderr",
     "output_type": "stream",
     "text": [
      "\u001b[32m[I 2023-04-13 11:32:36,929]\u001b[0m Trial 50 finished with value: 0.6424486492703252 and parameters: {'solver_penalty': 'newton-cholesky_l2', 'C': 0.2227178850219904, 'l1_ratio': 0.6728338734023023}. Best is trial 23 with value: 0.6511821366828551.\u001b[0m\n"
     ]
    },
    {
     "name": "stdout",
     "output_type": "stream",
     "text": [
      "ROC AUC: 0.7852 +/- 0.0714\n"
     ]
    },
    {
     "name": "stderr",
     "output_type": "stream",
     "text": [
      "\u001b[32m[I 2023-04-13 11:32:37,152]\u001b[0m Trial 51 finished with value: 0.6511781561935355 and parameters: {'solver_penalty': 'saga_l1', 'C': 0.03551494428108547, 'l1_ratio': 0.7292958935804206}. Best is trial 23 with value: 0.6511821366828551.\u001b[0m\n"
     ]
    },
    {
     "name": "stdout",
     "output_type": "stream",
     "text": [
      "ROC AUC: 0.7902 +/- 0.0695\n"
     ]
    },
    {
     "name": "stderr",
     "output_type": "stream",
     "text": [
      "\u001b[32m[I 2023-04-13 11:32:37,428]\u001b[0m Trial 52 finished with value: 0.6291630203869737 and parameters: {'solver_penalty': 'newton-cg_l2', 'C': 0.01291711524397922, 'l1_ratio': 0.7928973511691461}. Best is trial 23 with value: 0.6511821366828551.\u001b[0m\n"
     ]
    },
    {
     "name": "stdout",
     "output_type": "stream",
     "text": [
      "ROC AUC: 0.7758 +/- 0.0733\n"
     ]
    },
    {
     "name": "stderr",
     "output_type": "stream",
     "text": [
      "\u001b[32m[I 2023-04-13 11:32:37,720]\u001b[0m Trial 53 finished with value: 0.6511821366828551 and parameters: {'solver_penalty': 'saga_l1', 'C': 0.04674123422532682, 'l1_ratio': 0.8650357120199411}. Best is trial 23 with value: 0.6511821366828551.\u001b[0m\n"
     ]
    },
    {
     "name": "stdout",
     "output_type": "stream",
     "text": [
      "ROC AUC: 0.7902 +/- 0.0695\n"
     ]
    },
    {
     "name": "stderr",
     "output_type": "stream",
     "text": [
      "\u001b[32m[I 2023-04-13 11:32:37,939]\u001b[0m Trial 54 finished with value: 0.46884653041692664 and parameters: {'solver_penalty': 'saga_l1', 'C': 0.004401372155865215, 'l1_ratio': 0.8187682315671839}. Best is trial 23 with value: 0.6511821366828551.\u001b[0m\n"
     ]
    },
    {
     "name": "stdout",
     "output_type": "stream",
     "text": [
      "ROC AUC: 0.5011 +/- 0.0161\n"
     ]
    },
    {
     "name": "stderr",
     "output_type": "stream",
     "text": [
      "\u001b[32m[I 2023-04-13 11:32:38,190]\u001b[0m Trial 55 finished with value: 0.6394820382689572 and parameters: {'solver_penalty': 'lbfgs_l2', 'C': 0.05105912028313218, 'l1_ratio': 0.614243021206494}. Best is trial 23 with value: 0.6511821366828551.\u001b[0m\n"
     ]
    },
    {
     "name": "stdout",
     "output_type": "stream",
     "text": [
      "ROC AUC: 0.7829 +/- 0.0717\n"
     ]
    },
    {
     "name": "stderr",
     "output_type": "stream",
     "text": [
      "\u001b[32m[I 2023-04-13 11:32:38,426]\u001b[0m Trial 56 finished with value: 0.6440329952794628 and parameters: {'solver_penalty': 'saga_l1', 'C': 1.2044605622382476, 'l1_ratio': 0.8729161094704057}. Best is trial 23 with value: 0.6511821366828551.\u001b[0m\n"
     ]
    },
    {
     "name": "stdout",
     "output_type": "stream",
     "text": [
      "ROC AUC: 0.7860 +/- 0.0710\n"
     ]
    },
    {
     "name": "stderr",
     "output_type": "stream",
     "text": [
      "\u001b[32m[I 2023-04-13 11:32:38,718]\u001b[0m Trial 57 finished with value: 0.64289520157143 and parameters: {'solver_penalty': 'lbfgs_none', 'C': 0.1339528573621321, 'l1_ratio': 0.66706247961332}. Best is trial 23 with value: 0.6511821366828551.\u001b[0m\n"
     ]
    },
    {
     "name": "stdout",
     "output_type": "stream",
     "text": [
      "ROC AUC: 0.7853 +/- 0.0712\n"
     ]
    },
    {
     "name": "stderr",
     "output_type": "stream",
     "text": [
      "\u001b[32m[I 2023-04-13 11:32:38,997]\u001b[0m Trial 58 finished with value: 0.6506483627671966 and parameters: {'solver_penalty': 'saga_l1', 'C': 0.09694609219892181, 'l1_ratio': 0.9145056080009635}. Best is trial 23 with value: 0.6511821366828551.\u001b[0m\n"
     ]
    },
    {
     "name": "stdout",
     "output_type": "stream",
     "text": [
      "ROC AUC: 0.7898 +/- 0.0696\n"
     ]
    },
    {
     "name": "stderr",
     "output_type": "stream",
     "text": [
      "\u001b[32m[I 2023-04-13 11:32:39,295]\u001b[0m Trial 59 finished with value: 0.6429283933918515 and parameters: {'solver_penalty': 'newton-cholesky_none', 'C': 0.011058212002439432, 'l1_ratio': 0.9588225691566505}. Best is trial 23 with value: 0.6511821366828551.\u001b[0m\n"
     ]
    },
    {
     "name": "stdout",
     "output_type": "stream",
     "text": [
      "ROC AUC: 0.7853 +/- 0.0712\n"
     ]
    },
    {
     "name": "stderr",
     "output_type": "stream",
     "text": [
      "\u001b[32m[I 2023-04-13 11:32:39,581]\u001b[0m Trial 60 finished with value: 0.64289520157143 and parameters: {'solver_penalty': 'saga_l1', 'C': 8475.566417669195, 'l1_ratio': 0.5587866649624256}. Best is trial 23 with value: 0.6511821366828551.\u001b[0m\n"
     ]
    },
    {
     "name": "stdout",
     "output_type": "stream",
     "text": [
      "ROC AUC: 0.7853 +/- 0.0712\n"
     ]
    },
    {
     "name": "stderr",
     "output_type": "stream",
     "text": [
      "\u001b[32m[I 2023-04-13 11:32:39,800]\u001b[0m Trial 61 finished with value: 0.6511821366828551 and parameters: {'solver_penalty': 'saga_l1', 'C': 0.04494001744832858, 'l1_ratio': 0.8418166748279641}. Best is trial 23 with value: 0.6511821366828551.\u001b[0m\n"
     ]
    },
    {
     "name": "stdout",
     "output_type": "stream",
     "text": [
      "ROC AUC: 0.7902 +/- 0.0695\n"
     ]
    },
    {
     "name": "stderr",
     "output_type": "stream",
     "text": [
      "\u001b[32m[I 2023-04-13 11:32:40,031]\u001b[0m Trial 62 finished with value: 0.6507478160222712 and parameters: {'solver_penalty': 'saga_l1', 'C': 0.06899253825738531, 'l1_ratio': 0.8458668297071644}. Best is trial 23 with value: 0.6511821366828551.\u001b[0m\n"
     ]
    },
    {
     "name": "stdout",
     "output_type": "stream",
     "text": [
      "ROC AUC: 0.7900 +/- 0.0696\n"
     ]
    },
    {
     "name": "stderr",
     "output_type": "stream",
     "text": [
      "\u001b[32m[I 2023-04-13 11:32:40,278]\u001b[0m Trial 63 finished with value: 0.6511821366828551 and parameters: {'solver_penalty': 'saga_l1', 'C': 0.02555800072442595, 'l1_ratio': 0.9001515243166928}. Best is trial 23 with value: 0.6511821366828551.\u001b[0m\n"
     ]
    },
    {
     "name": "stdout",
     "output_type": "stream",
     "text": [
      "ROC AUC: 0.7902 +/- 0.0695\n"
     ]
    },
    {
     "name": "stderr",
     "output_type": "stream",
     "text": [
      "\u001b[32m[I 2023-04-13 11:32:40,524]\u001b[0m Trial 64 finished with value: 0.6340139361223939 and parameters: {'solver_penalty': 'sag_l2', 'C': 0.020022793299998353, 'l1_ratio': 0.895461452540745}. Best is trial 23 with value: 0.6511821366828551.\u001b[0m\n"
     ]
    },
    {
     "name": "stdout",
     "output_type": "stream",
     "text": [
      "ROC AUC: 0.7794 +/- 0.0727\n"
     ]
    },
    {
     "name": "stderr",
     "output_type": "stream",
     "text": [
      "\u001b[32m[I 2023-04-13 11:32:40,763]\u001b[0m Trial 65 finished with value: 0.5 and parameters: {'solver_penalty': 'saga_elasticnet', 'C': 0.005156630336069272, 'l1_ratio': 0.9683357021802208}. Best is trial 23 with value: 0.6511821366828551.\u001b[0m\n"
     ]
    },
    {
     "name": "stdout",
     "output_type": "stream",
     "text": [
      "ROC AUC: 0.5000 +/- 0.0000\n"
     ]
    },
    {
     "name": "stderr",
     "output_type": "stream",
     "text": [
      "\u001b[32m[I 2023-04-13 11:32:40,990]\u001b[0m Trial 66 finished with value: 0.6456676822503458 and parameters: {'solver_penalty': 'saga_l1', 'C': 0.34400376538459904, 'l1_ratio': 0.7807639250695593}. Best is trial 23 with value: 0.6511821366828551.\u001b[0m\n"
     ]
    },
    {
     "name": "stdout",
     "output_type": "stream",
     "text": [
      "ROC AUC: 0.7871 +/- 0.0707\n"
     ]
    },
    {
     "name": "stderr",
     "output_type": "stream",
     "text": [
      "\u001b[32m[I 2023-04-13 11:32:41,253]\u001b[0m Trial 67 finished with value: 0.64289520157143 and parameters: {'solver_penalty': 'saga_none', 'C': 0.16536272958050707, 'l1_ratio': 0.9181740482802877}. Best is trial 23 with value: 0.6511821366828551.\u001b[0m\n"
     ]
    },
    {
     "name": "stdout",
     "output_type": "stream",
     "text": [
      "ROC AUC: 0.7853 +/- 0.0712\n"
     ]
    },
    {
     "name": "stderr",
     "output_type": "stream",
     "text": [
      "\u001b[32m[I 2023-04-13 11:32:41,572]\u001b[0m Trial 68 finished with value: 0.6428991874622355 and parameters: {'solver_penalty': 'sag_none', 'C': 0.0813903253431372, 'l1_ratio': 0.9987745728615578}. Best is trial 23 with value: 0.6511821366828551.\u001b[0m\n"
     ]
    },
    {
     "name": "stdout",
     "output_type": "stream",
     "text": [
      "ROC AUC: 0.7853 +/- 0.0712\n"
     ]
    },
    {
     "name": "stderr",
     "output_type": "stream",
     "text": [
      "\u001b[32m[I 2023-04-13 11:32:41,807]\u001b[0m Trial 69 finished with value: 0.6330355869164304 and parameters: {'solver_penalty': 'liblinear_l2', 'C': 0.017798356355202143, 'l1_ratio': 0.4199794175103414}. Best is trial 23 with value: 0.6511821366828551.\u001b[0m\n"
     ]
    },
    {
     "name": "stdout",
     "output_type": "stream",
     "text": [
      "ROC AUC: 0.7787 +/- 0.0729\n"
     ]
    },
    {
     "name": "stderr",
     "output_type": "stream",
     "text": [
      "\u001b[32m[I 2023-04-13 11:32:42,153]\u001b[0m Trial 70 finished with value: 0.64289520157143 and parameters: {'solver_penalty': 'newton-cg_none', 'C': 0.0017352022370218524, 'l1_ratio': 0.879046288437944}. Best is trial 23 with value: 0.6511821366828551.\u001b[0m\n"
     ]
    },
    {
     "name": "stdout",
     "output_type": "stream",
     "text": [
      "ROC AUC: 0.7853 +/- 0.0712\n"
     ]
    },
    {
     "name": "stderr",
     "output_type": "stream",
     "text": [
      "\u001b[32m[I 2023-04-13 11:32:42,404]\u001b[0m Trial 71 finished with value: 0.6511821366828551 and parameters: {'solver_penalty': 'saga_l1', 'C': 0.03916857850521698, 'l1_ratio': 0.8355964564436728}. Best is trial 23 with value: 0.6511821366828551.\u001b[0m\n"
     ]
    },
    {
     "name": "stdout",
     "output_type": "stream",
     "text": [
      "ROC AUC: 0.7902 +/- 0.0695\n"
     ]
    },
    {
     "name": "stderr",
     "output_type": "stream",
     "text": [
      "\u001b[32m[I 2023-04-13 11:32:42,634]\u001b[0m Trial 72 finished with value: 0.6511821366828551 and parameters: {'solver_penalty': 'saga_l1', 'C': 0.026276925057828558, 'l1_ratio': 0.8232432816631723}. Best is trial 23 with value: 0.6511821366828551.\u001b[0m\n"
     ]
    },
    {
     "name": "stdout",
     "output_type": "stream",
     "text": [
      "ROC AUC: 0.7902 +/- 0.0695\n"
     ]
    },
    {
     "name": "stderr",
     "output_type": "stream",
     "text": [
      "\u001b[32m[I 2023-04-13 11:32:42,857]\u001b[0m Trial 73 finished with value: 0.6511821366828551 and parameters: {'solver_penalty': 'saga_l1', 'C': 0.044179797563618256, 'l1_ratio': 0.7956142079459607}. Best is trial 23 with value: 0.6511821366828551.\u001b[0m\n"
     ]
    },
    {
     "name": "stdout",
     "output_type": "stream",
     "text": [
      "ROC AUC: 0.7902 +/- 0.0695\n"
     ]
    },
    {
     "name": "stderr",
     "output_type": "stream",
     "text": [
      "\u001b[32m[I 2023-04-13 11:32:43,084]\u001b[0m Trial 74 finished with value: 0.4481864124633345 and parameters: {'solver_penalty': 'saga_l1', 'C': 0.00882900227216829, 'l1_ratio': 0.8076372365153379}. Best is trial 23 with value: 0.6511821366828551.\u001b[0m\n"
     ]
    },
    {
     "name": "stdout",
     "output_type": "stream",
     "text": [
      "ROC AUC: 0.5060 +/- 0.0289\n"
     ]
    },
    {
     "name": "stderr",
     "output_type": "stream",
     "text": [
      "\u001b[32m[I 2023-04-13 11:32:43,313]\u001b[0m Trial 75 finished with value: 0.6511821366828551 and parameters: {'solver_penalty': 'liblinear_l1', 'C': 0.014252228760151153, 'l1_ratio': 0.7348776780966763}. Best is trial 23 with value: 0.6511821366828551.\u001b[0m\n"
     ]
    },
    {
     "name": "stdout",
     "output_type": "stream",
     "text": [
      "ROC AUC: 0.7902 +/- 0.0695\n"
     ]
    },
    {
     "name": "stderr",
     "output_type": "stream",
     "text": [
      "\u001b[32m[I 2023-04-13 11:32:43,567]\u001b[0m Trial 76 finished with value: 0.5 and parameters: {'solver_penalty': 'liblinear_l1', 'C': 0.0035068026508954203, 'l1_ratio': 0.7652812601313107}. Best is trial 23 with value: 0.6511821366828551.\u001b[0m\n"
     ]
    },
    {
     "name": "stdout",
     "output_type": "stream",
     "text": [
      "ROC AUC: 0.5000 +/- 0.0000\n"
     ]
    },
    {
     "name": "stderr",
     "output_type": "stream",
     "text": [
      "\u001b[32m[I 2023-04-13 11:32:43,776]\u001b[0m Trial 77 finished with value: 0.5 and parameters: {'solver_penalty': 'liblinear_l1', 'C': 0.0075614467798140505, 'l1_ratio': 0.7295904071968111}. Best is trial 23 with value: 0.6511821366828551.\u001b[0m\n"
     ]
    },
    {
     "name": "stdout",
     "output_type": "stream",
     "text": [
      "ROC AUC: 0.5000 +/- 0.0000\n"
     ]
    },
    {
     "name": "stderr",
     "output_type": "stream",
     "text": [
      "\u001b[32m[I 2023-04-13 11:32:44,017]\u001b[0m Trial 78 finished with value: 0.6511821366828551 and parameters: {'solver_penalty': 'saga_l1', 'C': 0.027641287836008444, 'l1_ratio': 0.24953695015728838}. Best is trial 23 with value: 0.6511821366828551.\u001b[0m\n"
     ]
    },
    {
     "name": "stdout",
     "output_type": "stream",
     "text": [
      "ROC AUC: 0.7902 +/- 0.0695\n"
     ]
    },
    {
     "name": "stderr",
     "output_type": "stream",
     "text": [
      "\u001b[32m[I 2023-04-13 11:32:44,283]\u001b[0m Trial 79 finished with value: 0.630012739997168 and parameters: {'solver_penalty': 'newton-cg_l2', 'C': 0.013590732824678271, 'l1_ratio': 0.2647577903637467}. Best is trial 23 with value: 0.6511821366828551.\u001b[0m\n"
     ]
    },
    {
     "name": "stdout",
     "output_type": "stream",
     "text": [
      "ROC AUC: 0.7763 +/- 0.0731\n"
     ]
    },
    {
     "name": "stderr",
     "output_type": "stream",
     "text": [
      "\u001b[32m[I 2023-04-13 11:32:44,507]\u001b[0m Trial 80 finished with value: 0.6511821366828551 and parameters: {'solver_penalty': 'saga_l1', 'C': 0.027317196735025452, 'l1_ratio': 0.05495794949566221}. Best is trial 23 with value: 0.6511821366828551.\u001b[0m\n"
     ]
    },
    {
     "name": "stdout",
     "output_type": "stream",
     "text": [
      "ROC AUC: 0.7902 +/- 0.0695\n"
     ]
    },
    {
     "name": "stderr",
     "output_type": "stream",
     "text": [
      "\u001b[32m[I 2023-04-13 11:32:44,736]\u001b[0m Trial 81 finished with value: 0.6509620354615258 and parameters: {'solver_penalty': 'saga_l1', 'C': 0.056336063552140665, 'l1_ratio': 0.14627935683763765}. Best is trial 23 with value: 0.6511821366828551.\u001b[0m\n"
     ]
    },
    {
     "name": "stdout",
     "output_type": "stream",
     "text": [
      "ROC AUC: 0.7901 +/- 0.0696\n"
     ]
    },
    {
     "name": "stderr",
     "output_type": "stream",
     "text": [
      "\u001b[32m[I 2023-04-13 11:32:44,985]\u001b[0m Trial 82 finished with value: 0.6478310783017225 and parameters: {'solver_penalty': 'saga_l1', 'C': 0.16147308105830976, 'l1_ratio': 0.8583795027284026}. Best is trial 23 with value: 0.6511821366828551.\u001b[0m\n"
     ]
    },
    {
     "name": "stdout",
     "output_type": "stream",
     "text": [
      "ROC AUC: 0.7880 +/- 0.0701\n"
     ]
    },
    {
     "name": "stderr",
     "output_type": "stream",
     "text": [
      "\u001b[32m[I 2023-04-13 11:32:45,227]\u001b[0m Trial 83 finished with value: 0.6511821366828551 and parameters: {'solver_penalty': 'saga_l1', 'C': 0.04467675647467961, 'l1_ratio': 0.8425306806611027}. Best is trial 23 with value: 0.6511821366828551.\u001b[0m\n"
     ]
    },
    {
     "name": "stdout",
     "output_type": "stream",
     "text": [
      "ROC AUC: 0.7902 +/- 0.0695\n"
     ]
    },
    {
     "name": "stderr",
     "output_type": "stream",
     "text": [
      "\u001b[32m[I 2023-04-13 11:32:45,448]\u001b[0m Trial 84 finished with value: 0.6511821366828551 and parameters: {'solver_penalty': 'liblinear_l1', 'C': 0.03010172491803115, 'l1_ratio': 0.038533696775391105}. Best is trial 23 with value: 0.6511821366828551.\u001b[0m\n"
     ]
    },
    {
     "name": "stdout",
     "output_type": "stream",
     "text": [
      "ROC AUC: 0.7902 +/- 0.0695\n"
     ]
    },
    {
     "name": "stderr",
     "output_type": "stream",
     "text": [
      "\u001b[32m[I 2023-04-13 11:32:45,685]\u001b[0m Trial 85 finished with value: 0.6409581728573328 and parameters: {'solver_penalty': 'saga_l2', 'C': 0.1059816260646989, 'l1_ratio': 0.5908399816611075}. Best is trial 23 with value: 0.6511821366828551.\u001b[0m\n"
     ]
    },
    {
     "name": "stdout",
     "output_type": "stream",
     "text": [
      "ROC AUC: 0.7841 +/- 0.0716\n"
     ]
    },
    {
     "name": "stderr",
     "output_type": "stream",
     "text": [
      "\u001b[32m[I 2023-04-13 11:32:45,915]\u001b[0m Trial 86 finished with value: 0.6204373477087899 and parameters: {'solver_penalty': 'newton-cholesky_l2', 'C': 0.005680692322391492, 'l1_ratio': 0.212692948907425}. Best is trial 23 with value: 0.6511821366828551.\u001b[0m\n"
     ]
    },
    {
     "name": "stdout",
     "output_type": "stream",
     "text": [
      "ROC AUC: 0.7683 +/- 0.0739\n"
     ]
    },
    {
     "name": "stderr",
     "output_type": "stream",
     "text": [
      "\u001b[32m[I 2023-04-13 11:32:46,132]\u001b[0m Trial 87 finished with value: 0.6511821366828551 and parameters: {'solver_penalty': 'liblinear_l1', 'C': 0.0139874068858015, 'l1_ratio': 0.15825481466058455}. Best is trial 23 with value: 0.6511821366828551.\u001b[0m\n",
      "\u001b[32m[I 2023-04-13 11:32:46,339]\u001b[0m Trial 88 finished with value: 0.5 and parameters: {'solver_penalty': 'liblinear_l1', 'C': 0.0003055357461656394, 'l1_ratio': 0.7431992141147717}. Best is trial 23 with value: 0.6511821366828551.\u001b[0m\n"
     ]
    },
    {
     "name": "stdout",
     "output_type": "stream",
     "text": [
      "ROC AUC: 0.7902 +/- 0.0695\n",
      "ROC AUC: 0.5000 +/- 0.0000\n"
     ]
    },
    {
     "name": "stderr",
     "output_type": "stream",
     "text": [
      "\u001b[32m[I 2023-04-13 11:32:46,575]\u001b[0m Trial 89 finished with value: 0.6433877322725778 and parameters: {'solver_penalty': 'lbfgs_l2', 'C': 0.4085173908193572, 'l1_ratio': 0.07829329631663905}. Best is trial 23 with value: 0.6511821366828551.\u001b[0m\n"
     ]
    },
    {
     "name": "stdout",
     "output_type": "stream",
     "text": [
      "ROC AUC: 0.7856 +/- 0.0711\n"
     ]
    },
    {
     "name": "stderr",
     "output_type": "stream",
     "text": [
      "\u001b[32m[I 2023-04-13 11:32:46,799]\u001b[0m Trial 90 finished with value: 0.6465267703359929 and parameters: {'solver_penalty': 'saga_l1', 'C': 0.19722201622524807, 'l1_ratio': 0.013672618984299958}. Best is trial 23 with value: 0.6511821366828551.\u001b[0m\n"
     ]
    },
    {
     "name": "stdout",
     "output_type": "stream",
     "text": [
      "ROC AUC: 0.7877 +/- 0.0706\n"
     ]
    },
    {
     "name": "stderr",
     "output_type": "stream",
     "text": [
      "\u001b[32m[I 2023-04-13 11:32:47,013]\u001b[0m Trial 91 finished with value: 0.6429528950146471 and parameters: {'solver_penalty': 'liblinear_l1', 'C': 121.12215534561919, 'l1_ratio': 0.6937803158943082}. Best is trial 23 with value: 0.6511821366828551.\u001b[0m\n"
     ]
    },
    {
     "name": "stdout",
     "output_type": "stream",
     "text": [
      "ROC AUC: 0.7853 +/- 0.0712\n"
     ]
    },
    {
     "name": "stderr",
     "output_type": "stream",
     "text": [
      "\u001b[32m[I 2023-04-13 11:32:47,221]\u001b[0m Trial 92 finished with value: 0.6507393390664225 and parameters: {'solver_penalty': 'liblinear_l1', 'C': 0.07228494775981693, 'l1_ratio': 0.14561608169441892}. Best is trial 23 with value: 0.6511821366828551.\u001b[0m\n"
     ]
    },
    {
     "name": "stdout",
     "output_type": "stream",
     "text": [
      "ROC AUC: 0.7900 +/- 0.0696\n"
     ]
    },
    {
     "name": "stderr",
     "output_type": "stream",
     "text": [
      "\u001b[32m[I 2023-04-13 11:32:47,463]\u001b[0m Trial 93 finished with value: 0.6511821366828551 and parameters: {'solver_penalty': 'saga_l1', 'C': 0.039746542620812876, 'l1_ratio': 0.8934311179947624}. Best is trial 23 with value: 0.6511821366828551.\u001b[0m\n"
     ]
    },
    {
     "name": "stdout",
     "output_type": "stream",
     "text": [
      "ROC AUC: 0.7902 +/- 0.0695\n"
     ]
    },
    {
     "name": "stderr",
     "output_type": "stream",
     "text": [
      "\u001b[32m[I 2023-04-13 11:32:47,695]\u001b[0m Trial 94 finished with value: 0.6511821366828551 and parameters: {'solver_penalty': 'saga_l1', 'C': 0.04239438198821514, 'l1_ratio': 0.8186792481755731}. Best is trial 23 with value: 0.6511821366828551.\u001b[0m\n"
     ]
    },
    {
     "name": "stdout",
     "output_type": "stream",
     "text": [
      "ROC AUC: 0.7902 +/- 0.0695\n"
     ]
    },
    {
     "name": "stderr",
     "output_type": "stream",
     "text": [
      "\u001b[32m[I 2023-04-13 11:32:47,943]\u001b[0m Trial 95 finished with value: 0.6511821366828551 and parameters: {'solver_penalty': 'saga_l1', 'C': 0.04012119423430311, 'l1_ratio': 0.8070661001291874}. Best is trial 23 with value: 0.6511821366828551.\u001b[0m\n"
     ]
    },
    {
     "name": "stdout",
     "output_type": "stream",
     "text": [
      "ROC AUC: 0.7902 +/- 0.0695\n"
     ]
    },
    {
     "name": "stderr",
     "output_type": "stream",
     "text": [
      "\u001b[32m[I 2023-04-13 11:32:48,182]\u001b[0m Trial 96 finished with value: 0.6511821366828551 and parameters: {'solver_penalty': 'saga_l1', 'C': 0.04829259614160352, 'l1_ratio': 0.8020631272751968}. Best is trial 23 with value: 0.6511821366828551.\u001b[0m\n"
     ]
    },
    {
     "name": "stdout",
     "output_type": "stream",
     "text": [
      "ROC AUC: 0.7902 +/- 0.0695\n"
     ]
    },
    {
     "name": "stderr",
     "output_type": "stream",
     "text": [
      "\u001b[32m[I 2023-04-13 11:32:48,446]\u001b[0m Trial 97 finished with value: 0.6498579001682975 and parameters: {'solver_penalty': 'saga_l1', 'C': 0.11278448247446446, 'l1_ratio': 0.8636895581847893}. Best is trial 23 with value: 0.6511821366828551.\u001b[0m\n"
     ]
    },
    {
     "name": "stdout",
     "output_type": "stream",
     "text": [
      "ROC AUC: 0.7894 +/- 0.0698\n"
     ]
    },
    {
     "name": "stderr",
     "output_type": "stream",
     "text": [
      "\u001b[32m[I 2023-04-13 11:32:48,749]\u001b[0m Trial 98 finished with value: 0.6429283933918515 and parameters: {'solver_penalty': 'newton-cholesky_none', 'C': 0.009303017102531024, 'l1_ratio': 0.9147941796974277}. Best is trial 23 with value: 0.6511821366828551.\u001b[0m\n"
     ]
    },
    {
     "name": "stdout",
     "output_type": "stream",
     "text": [
      "ROC AUC: 0.7853 +/- 0.0712\n"
     ]
    },
    {
     "name": "stderr",
     "output_type": "stream",
     "text": [
      "\u001b[32m[I 2023-04-13 11:32:49,072]\u001b[0m Trial 99 finished with value: 0.64289520157143 and parameters: {'solver_penalty': 'lbfgs_none', 'C': 0.019835215335229448, 'l1_ratio': 0.3184033047160325}. Best is trial 23 with value: 0.6511821366828551.\u001b[0m\n"
     ]
    },
    {
     "name": "stdout",
     "output_type": "stream",
     "text": [
      "ROC AUC: 0.7853 +/- 0.0712\n"
     ]
    },
    {
     "name": "stderr",
     "output_type": "stream",
     "text": [
      "\u001b[32m[I 2023-04-13 11:32:49,297]\u001b[0m Trial 100 finished with value: 0.6107720353108268 and parameters: {'solver_penalty': 'liblinear_l2', 'C': 0.0029305388239226444, 'l1_ratio': 0.127682404676618}. Best is trial 23 with value: 0.6511821366828551.\u001b[0m\n"
     ]
    },
    {
     "name": "stdout",
     "output_type": "stream",
     "text": [
      "ROC AUC: 0.7612 +/- 0.0752\n"
     ]
    },
    {
     "name": "stderr",
     "output_type": "stream",
     "text": [
      "\u001b[32m[I 2023-04-13 11:32:49,523]\u001b[0m Trial 101 finished with value: 0.6511821366828551 and parameters: {'solver_penalty': 'saga_l1', 'C': 0.01595824406421086, 'l1_ratio': 0.5026037388670229}. Best is trial 23 with value: 0.6511821366828551.\u001b[0m\n"
     ]
    },
    {
     "name": "stdout",
     "output_type": "stream",
     "text": [
      "ROC AUC: 0.7902 +/- 0.0695\n"
     ]
    },
    {
     "name": "stderr",
     "output_type": "stream",
     "text": [
      "\u001b[32m[I 2023-04-13 11:32:49,753]\u001b[0m Trial 102 finished with value: 0.6511821366828551 and parameters: {'solver_penalty': 'saga_l1', 'C': 0.027946402442164696, 'l1_ratio': 0.4587827095738336}. Best is trial 23 with value: 0.6511821366828551.\u001b[0m\n"
     ]
    },
    {
     "name": "stdout",
     "output_type": "stream",
     "text": [
      "ROC AUC: 0.7902 +/- 0.0695\n"
     ]
    },
    {
     "name": "stderr",
     "output_type": "stream",
     "text": [
      "\u001b[32m[I 2023-04-13 11:32:49,988]\u001b[0m Trial 103 finished with value: 0.6511821366828551 and parameters: {'solver_penalty': 'saga_l1', 'C': 0.021825900008831098, 'l1_ratio': 0.4543674828982112}. Best is trial 23 with value: 0.6511821366828551.\u001b[0m\n"
     ]
    },
    {
     "name": "stdout",
     "output_type": "stream",
     "text": [
      "ROC AUC: 0.7902 +/- 0.0695\n"
     ]
    },
    {
     "name": "stderr",
     "output_type": "stream",
     "text": [
      "\u001b[32m[I 2023-04-13 11:32:50,245]\u001b[0m Trial 104 finished with value: 0.6507378486303292 and parameters: {'solver_penalty': 'saga_l1', 'C': 0.07030544920838551, 'l1_ratio': 0.47029941838344347}. Best is trial 23 with value: 0.6511821366828551.\u001b[0m\n"
     ]
    },
    {
     "name": "stdout",
     "output_type": "stream",
     "text": [
      "ROC AUC: 0.7900 +/- 0.0696\n"
     ]
    },
    {
     "name": "stderr",
     "output_type": "stream",
     "text": [
      "\u001b[32m[I 2023-04-13 11:32:50,519]\u001b[0m Trial 105 finished with value: 0.6511821366828551 and parameters: {'solver_penalty': 'saga_l1', 'C': 0.04063672942138877, 'l1_ratio': 0.3679363625744257}. Best is trial 23 with value: 0.6511821366828551.\u001b[0m\n"
     ]
    },
    {
     "name": "stdout",
     "output_type": "stream",
     "text": [
      "ROC AUC: 0.7902 +/- 0.0695\n"
     ]
    },
    {
     "name": "stderr",
     "output_type": "stream",
     "text": [
      "\u001b[32m[I 2023-04-13 11:32:50,766]\u001b[0m Trial 106 finished with value: 0.6396550053762555 and parameters: {'solver_penalty': 'sag_l2', 'C': 0.05585065415788267, 'l1_ratio': 0.34932911043320636}. Best is trial 23 with value: 0.6511821366828551.\u001b[0m\n"
     ]
    },
    {
     "name": "stdout",
     "output_type": "stream",
     "text": [
      "ROC AUC: 0.7830 +/- 0.0717\n"
     ]
    },
    {
     "name": "stderr",
     "output_type": "stream",
     "text": [
      "\u001b[32m[I 2023-04-13 11:32:51,004]\u001b[0m Trial 107 finished with value: 0.6511821366828551 and parameters: {'solver_penalty': 'saga_elasticnet', 'C': 0.014537334323277345, 'l1_ratio': 0.8046305633476005}. Best is trial 23 with value: 0.6511821366828551.\u001b[0m\n"
     ]
    },
    {
     "name": "stdout",
     "output_type": "stream",
     "text": [
      "ROC AUC: 0.7902 +/- 0.0695\n"
     ]
    },
    {
     "name": "stderr",
     "output_type": "stream",
     "text": [
      "\u001b[32m[I 2023-04-13 11:32:51,323]\u001b[0m Trial 108 finished with value: 0.64289520157143 and parameters: {'solver_penalty': 'saga_none', 'C': 0.025516389802960386, 'l1_ratio': 0.7755315093512865}. Best is trial 23 with value: 0.6511821366828551.\u001b[0m\n"
     ]
    },
    {
     "name": "stdout",
     "output_type": "stream",
     "text": [
      "ROC AUC: 0.7853 +/- 0.0712\n"
     ]
    },
    {
     "name": "stderr",
     "output_type": "stream",
     "text": [
      "\u001b[32m[I 2023-04-13 11:32:51,576]\u001b[0m Trial 109 finished with value: 0.6511821366828551 and parameters: {'solver_penalty': 'saga_elasticnet', 'C': 0.006510585282439798, 'l1_ratio': 0.44548814149975247}. Best is trial 23 with value: 0.6511821366828551.\u001b[0m\n"
     ]
    },
    {
     "name": "stdout",
     "output_type": "stream",
     "text": [
      "ROC AUC: 0.7902 +/- 0.0695\n"
     ]
    },
    {
     "name": "stderr",
     "output_type": "stream",
     "text": [
      "\u001b[32m[I 2023-04-13 11:32:51,812]\u001b[0m Trial 110 finished with value: 0.5 and parameters: {'solver_penalty': 'saga_elasticnet', 'C': 0.0013581981850301801, 'l1_ratio': 0.4388317303954191}. Best is trial 23 with value: 0.6511821366828551.\u001b[0m\n"
     ]
    },
    {
     "name": "stdout",
     "output_type": "stream",
     "text": [
      "ROC AUC: 0.5000 +/- 0.0000\n"
     ]
    },
    {
     "name": "stderr",
     "output_type": "stream",
     "text": [
      "\u001b[32m[I 2023-04-13 11:32:52,059]\u001b[0m Trial 111 finished with value: 0.6511821366828551 and parameters: {'solver_penalty': 'saga_l1', 'C': 0.02234228206622897, 'l1_ratio': 0.3876265663557041}. Best is trial 23 with value: 0.6511821366828551.\u001b[0m\n"
     ]
    },
    {
     "name": "stdout",
     "output_type": "stream",
     "text": [
      "ROC AUC: 0.7902 +/- 0.0695\n"
     ]
    },
    {
     "name": "stderr",
     "output_type": "stream",
     "text": [
      "\u001b[32m[I 2023-04-13 11:32:52,330]\u001b[0m Trial 112 finished with value: 0.6511821366828551 and parameters: {'solver_penalty': 'saga_elasticnet', 'C': 0.00958336515629364, 'l1_ratio': 0.5307187388838785}. Best is trial 23 with value: 0.6511821366828551.\u001b[0m\n"
     ]
    },
    {
     "name": "stdout",
     "output_type": "stream",
     "text": [
      "ROC AUC: 0.7902 +/- 0.0695\n"
     ]
    },
    {
     "name": "stderr",
     "output_type": "stream",
     "text": [
      "\u001b[32m[I 2023-04-13 11:32:52,604]\u001b[0m Trial 113 finished with value: 0.6428991874622355 and parameters: {'solver_penalty': 'sag_none', 'C': 0.011045891636962886, 'l1_ratio': 0.04793545885563275}. Best is trial 23 with value: 0.6511821366828551.\u001b[0m\n"
     ]
    },
    {
     "name": "stdout",
     "output_type": "stream",
     "text": [
      "ROC AUC: 0.7853 +/- 0.0712\n"
     ]
    },
    {
     "name": "stderr",
     "output_type": "stream",
     "text": [
      "\u001b[32m[I 2023-04-13 11:32:52,859]\u001b[0m Trial 114 finished with value: 0.6511821366828551 and parameters: {'solver_penalty': 'liblinear_l1', 'C': 0.03200290178383122, 'l1_ratio': 0.029734368774733372}. Best is trial 23 with value: 0.6511821366828551.\u001b[0m\n",
      "\u001b[32m[I 2023-04-13 11:32:53,058]\u001b[0m Trial 115 finished with value: 0.5 and parameters: {'solver_penalty': 'liblinear_l1', 'C': 0.004519728948595193, 'l1_ratio': 0.03470258521052665}. Best is trial 23 with value: 0.6511821366828551.\u001b[0m\n"
     ]
    },
    {
     "name": "stdout",
     "output_type": "stream",
     "text": [
      "ROC AUC: 0.7902 +/- 0.0695\n",
      "ROC AUC: 0.5000 +/- 0.0000\n"
     ]
    },
    {
     "name": "stderr",
     "output_type": "stream",
     "text": [
      "\u001b[32m[I 2023-04-13 11:32:53,292]\u001b[0m Trial 116 finished with value: 0.6352883890418921 and parameters: {'solver_penalty': 'saga_elasticnet', 'C': 0.013675972183754239, 'l1_ratio': 0.07458635107942649}. Best is trial 23 with value: 0.6511821366828551.\u001b[0m\n"
     ]
    },
    {
     "name": "stdout",
     "output_type": "stream",
     "text": [
      "ROC AUC: 0.7797 +/- 0.0722\n"
     ]
    },
    {
     "name": "stderr",
     "output_type": "stream",
     "text": [
      "\u001b[32m[I 2023-04-13 11:32:53,512]\u001b[0m Trial 117 finished with value: 0.6511821366828551 and parameters: {'solver_penalty': 'saga_elasticnet', 'C': 0.0065995350806375384, 'l1_ratio': 0.4975944340746213}. Best is trial 23 with value: 0.6511821366828551.\u001b[0m\n"
     ]
    },
    {
     "name": "stdout",
     "output_type": "stream",
     "text": [
      "ROC AUC: 0.7902 +/- 0.0695\n"
     ]
    },
    {
     "name": "stderr",
     "output_type": "stream",
     "text": [
      "\u001b[32m[I 2023-04-13 11:32:53,827]\u001b[0m Trial 118 finished with value: 0.64289520157143 and parameters: {'solver_penalty': 'newton-cg_none', 'C': 0.10247686573679368, 'l1_ratio': 0.8334354161573653}. Best is trial 23 with value: 0.6511821366828551.\u001b[0m\n"
     ]
    },
    {
     "name": "stdout",
     "output_type": "stream",
     "text": [
      "ROC AUC: 0.7853 +/- 0.0712\n"
     ]
    },
    {
     "name": "stderr",
     "output_type": "stream",
     "text": [
      "\u001b[32m[I 2023-04-13 11:32:54,057]\u001b[0m Trial 119 finished with value: 0.6508560281879812 and parameters: {'solver_penalty': 'saga_l1', 'C': 0.06459979696126143, 'l1_ratio': 0.28127977476608174}. Best is trial 23 with value: 0.6511821366828551.\u001b[0m\n"
     ]
    },
    {
     "name": "stdout",
     "output_type": "stream",
     "text": [
      "ROC AUC: 0.7901 +/- 0.0696\n"
     ]
    },
    {
     "name": "stderr",
     "output_type": "stream",
     "text": [
      "\u001b[32m[I 2023-04-13 11:32:54,343]\u001b[0m Trial 120 finished with value: 0.6429604093979063 and parameters: {'solver_penalty': 'newton-cg_l2', 'C': 0.2693892579288343, 'l1_ratio': 0.9387895555207655}. Best is trial 23 with value: 0.6511821366828551.\u001b[0m\n"
     ]
    },
    {
     "name": "stdout",
     "output_type": "stream",
     "text": [
      "ROC AUC: 0.7853 +/- 0.0712\n"
     ]
    },
    {
     "name": "stderr",
     "output_type": "stream",
     "text": [
      "\u001b[32m[I 2023-04-13 11:32:54,592]\u001b[0m Trial 121 finished with value: 0.6511821366828551 and parameters: {'solver_penalty': 'saga_l1', 'C': 0.017419399104766486, 'l1_ratio': 0.41498998595251924}. Best is trial 23 with value: 0.6511821366828551.\u001b[0m\n"
     ]
    },
    {
     "name": "stdout",
     "output_type": "stream",
     "text": [
      "ROC AUC: 0.7902 +/- 0.0695\n"
     ]
    },
    {
     "name": "stderr",
     "output_type": "stream",
     "text": [
      "\u001b[32m[I 2023-04-13 11:32:54,806]\u001b[0m Trial 122 finished with value: 0.6511821366828551 and parameters: {'solver_penalty': 'saga_l1', 'C': 0.02053761582998723, 'l1_ratio': 0.39664553046165807}. Best is trial 23 with value: 0.6511821366828551.\u001b[0m\n"
     ]
    },
    {
     "name": "stdout",
     "output_type": "stream",
     "text": [
      "ROC AUC: 0.7902 +/- 0.0695\n"
     ]
    },
    {
     "name": "stderr",
     "output_type": "stream",
     "text": [
      "\u001b[32m[I 2023-04-13 11:32:55,035]\u001b[0m Trial 123 finished with value: 0.6511821366828551 and parameters: {'solver_penalty': 'liblinear_l1', 'C': 0.030392197931929654, 'l1_ratio': 0.21434012172307526}. Best is trial 23 with value: 0.6511821366828551.\u001b[0m\n"
     ]
    },
    {
     "name": "stdout",
     "output_type": "stream",
     "text": [
      "ROC AUC: 0.7902 +/- 0.0695\n"
     ]
    },
    {
     "name": "stderr",
     "output_type": "stream",
     "text": [
      "\u001b[32m[I 2023-04-13 11:32:55,312]\u001b[0m Trial 124 finished with value: 0.6406705033862965 and parameters: {'solver_penalty': 'saga_l2', 'C': 0.08718204587970485, 'l1_ratio': 0.10270862964282346}. Best is trial 23 with value: 0.6511821366828551.\u001b[0m\n"
     ]
    },
    {
     "name": "stdout",
     "output_type": "stream",
     "text": [
      "ROC AUC: 0.7839 +/- 0.0716\n"
     ]
    },
    {
     "name": "stderr",
     "output_type": "stream",
     "text": [
      "\u001b[32m[I 2023-04-13 11:32:55,572]\u001b[0m Trial 125 finished with value: 0.6511821366828551 and parameters: {'solver_penalty': 'saga_elasticnet', 'C': 0.007123628368315978, 'l1_ratio': 0.5033987986832987}. Best is trial 23 with value: 0.6511821366828551.\u001b[0m\n"
     ]
    },
    {
     "name": "stdout",
     "output_type": "stream",
     "text": [
      "ROC AUC: 0.7902 +/- 0.0695\n"
     ]
    },
    {
     "name": "stderr",
     "output_type": "stream",
     "text": [
      "\u001b[32m[I 2023-04-13 11:32:55,820]\u001b[0m Trial 126 finished with value: 0.6371656194496216 and parameters: {'solver_penalty': 'newton-cholesky_l2', 'C': 0.029385377523827836, 'l1_ratio': 0.7601780462583678}. Best is trial 23 with value: 0.6511821366828551.\u001b[0m\n"
     ]
    },
    {
     "name": "stdout",
     "output_type": "stream",
     "text": [
      "ROC AUC: 0.7814 +/- 0.0721\n"
     ]
    },
    {
     "name": "stderr",
     "output_type": "stream",
     "text": [
      "\u001b[32m[I 2023-04-13 11:32:56,063]\u001b[0m Trial 127 finished with value: 0.6507079278423921 and parameters: {'solver_penalty': 'saga_elasticnet', 'C': 0.008571827741890612, 'l1_ratio': 0.3840556728704433}. Best is trial 23 with value: 0.6511821366828551.\u001b[0m\n"
     ]
    },
    {
     "name": "stdout",
     "output_type": "stream",
     "text": [
      "ROC AUC: 0.7900 +/- 0.0696\n"
     ]
    },
    {
     "name": "stderr",
     "output_type": "stream",
     "text": [
      "\u001b[32m[I 2023-04-13 11:32:56,285]\u001b[0m Trial 128 finished with value: 0.6511821366828551 and parameters: {'solver_penalty': 'liblinear_l1', 'C': 0.012389107628985116, 'l1_ratio': 0.8268761034261859}. Best is trial 23 with value: 0.6511821366828551.\u001b[0m\n"
     ]
    },
    {
     "name": "stdout",
     "output_type": "stream",
     "text": [
      "ROC AUC: 0.7902 +/- 0.0695\n"
     ]
    },
    {
     "name": "stderr",
     "output_type": "stream",
     "text": [
      "\u001b[32m[I 2023-04-13 11:32:56,506]\u001b[0m Trial 129 finished with value: 0.5 and parameters: {'solver_penalty': 'saga_elasticnet', 'C': 0.002083247586481589, 'l1_ratio': 0.545303628123216}. Best is trial 23 with value: 0.6511821366828551.\u001b[0m\n"
     ]
    },
    {
     "name": "stdout",
     "output_type": "stream",
     "text": [
      "ROC AUC: 0.5000 +/- 0.0000\n"
     ]
    },
    {
     "name": "stderr",
     "output_type": "stream",
     "text": [
      "\u001b[32m[I 2023-04-13 11:32:56,758]\u001b[0m Trial 130 finished with value: 0.6511821366828551 and parameters: {'solver_penalty': 'saga_l1', 'C': 0.01850010856148982, 'l1_ratio': 0.40898724094192646}. Best is trial 23 with value: 0.6511821366828551.\u001b[0m\n"
     ]
    },
    {
     "name": "stdout",
     "output_type": "stream",
     "text": [
      "ROC AUC: 0.7902 +/- 0.0695\n"
     ]
    },
    {
     "name": "stderr",
     "output_type": "stream",
     "text": [
      "\u001b[32m[I 2023-04-13 11:32:57,004]\u001b[0m Trial 131 finished with value: 0.6511821366828551 and parameters: {'solver_penalty': 'saga_l1', 'C': 0.01876441893998977, 'l1_ratio': 0.40071480027260453}. Best is trial 23 with value: 0.6511821366828551.\u001b[0m\n"
     ]
    },
    {
     "name": "stdout",
     "output_type": "stream",
     "text": [
      "ROC AUC: 0.7902 +/- 0.0695\n"
     ]
    },
    {
     "name": "stderr",
     "output_type": "stream",
     "text": [
      "\u001b[32m[I 2023-04-13 11:32:57,237]\u001b[0m Trial 132 finished with value: 0.5 and parameters: {'solver_penalty': 'liblinear_l1', 'C': 0.006134904543976153, 'l1_ratio': 0.21973864478866745}. Best is trial 23 with value: 0.6511821366828551.\u001b[0m\n"
     ]
    },
    {
     "name": "stdout",
     "output_type": "stream",
     "text": [
      "ROC AUC: 0.5000 +/- 0.0000\n"
     ]
    },
    {
     "name": "stderr",
     "output_type": "stream",
     "text": [
      "\u001b[32m[I 2023-04-13 11:32:57,459]\u001b[0m Trial 133 finished with value: 0.6511821366828551 and parameters: {'solver_penalty': 'liblinear_l1', 'C': 0.031926224542508284, 'l1_ratio': 0.20204076675866317}. Best is trial 23 with value: 0.6511821366828551.\u001b[0m\n"
     ]
    },
    {
     "name": "stdout",
     "output_type": "stream",
     "text": [
      "ROC AUC: 0.7902 +/- 0.0695\n"
     ]
    },
    {
     "name": "stderr",
     "output_type": "stream",
     "text": [
      "\u001b[32m[I 2023-04-13 11:32:57,693]\u001b[0m Trial 134 finished with value: 0.6511821366828551 and parameters: {'solver_penalty': 'saga_l1', 'C': 0.04212653224812787, 'l1_ratio': 0.24859976276009724}. Best is trial 23 with value: 0.6511821366828551.\u001b[0m\n"
     ]
    },
    {
     "name": "stdout",
     "output_type": "stream",
     "text": [
      "ROC AUC: 0.7902 +/- 0.0695\n"
     ]
    },
    {
     "name": "stderr",
     "output_type": "stream",
     "text": [
      "\u001b[32m[I 2023-04-13 11:32:57,934]\u001b[0m Trial 135 finished with value: 0.6462221412096796 and parameters: {'solver_penalty': 'saga_elasticnet', 'C': 0.05004678368565861, 'l1_ratio': 0.44785551504086735}. Best is trial 23 with value: 0.6511821366828551.\u001b[0m\n"
     ]
    },
    {
     "name": "stdout",
     "output_type": "stream",
     "text": [
      "ROC AUC: 0.7876 +/- 0.0707\n"
     ]
    },
    {
     "name": "stderr",
     "output_type": "stream",
     "text": [
      "\u001b[32m[I 2023-04-13 11:32:58,188]\u001b[0m Trial 136 finished with value: 0.6442926308302812 and parameters: {'solver_penalty': 'saga_elasticnet', 'C': 0.14293417708999098, 'l1_ratio': 0.47350025758311487}. Best is trial 23 with value: 0.6511821366828551.\u001b[0m\n"
     ]
    },
    {
     "name": "stdout",
     "output_type": "stream",
     "text": [
      "ROC AUC: 0.7863 +/- 0.0710\n"
     ]
    },
    {
     "name": "stderr",
     "output_type": "stream",
     "text": [
      "\u001b[32m[I 2023-04-13 11:32:58,456]\u001b[0m Trial 137 finished with value: 0.6152639635147065 and parameters: {'solver_penalty': 'lbfgs_l2', 'C': 0.0039486680917484715, 'l1_ratio': 0.30431096408863545}. Best is trial 23 with value: 0.6511821366828551.\u001b[0m\n"
     ]
    },
    {
     "name": "stdout",
     "output_type": "stream",
     "text": [
      "ROC AUC: 0.7645 +/- 0.0746\n"
     ]
    },
    {
     "name": "stderr",
     "output_type": "stream",
     "text": [
      "\u001b[32m[I 2023-04-13 11:32:58,672]\u001b[0m Trial 138 finished with value: 0.6511821366828551 and parameters: {'solver_penalty': 'liblinear_l1', 'C': 0.011649907984768748, 'l1_ratio': 0.5025796056692488}. Best is trial 23 with value: 0.6511821366828551.\u001b[0m\n"
     ]
    },
    {
     "name": "stdout",
     "output_type": "stream",
     "text": [
      "ROC AUC: 0.7902 +/- 0.0695\n"
     ]
    },
    {
     "name": "stderr",
     "output_type": "stream",
     "text": [
      "\u001b[32m[I 2023-04-13 11:32:58,892]\u001b[0m Trial 139 finished with value: 0.6511821366828551 and parameters: {'solver_penalty': 'liblinear_l1', 'C': 0.011047699642801622, 'l1_ratio': 0.5416001692912296}. Best is trial 23 with value: 0.6511821366828551.\u001b[0m\n"
     ]
    },
    {
     "name": "stdout",
     "output_type": "stream",
     "text": [
      "ROC AUC: 0.7902 +/- 0.0695\n"
     ]
    },
    {
     "name": "stderr",
     "output_type": "stream",
     "text": [
      "\u001b[32m[I 2023-04-13 11:32:59,109]\u001b[0m Trial 140 finished with value: 0.6511821366828551 and parameters: {'solver_penalty': 'liblinear_l1', 'C': 0.010971491469264981, 'l1_ratio': 0.8591386027786251}. Best is trial 23 with value: 0.6511821366828551.\u001b[0m\n"
     ]
    },
    {
     "name": "stdout",
     "output_type": "stream",
     "text": [
      "ROC AUC: 0.7902 +/- 0.0695\n"
     ]
    },
    {
     "name": "stderr",
     "output_type": "stream",
     "text": [
      "\u001b[32m[I 2023-04-13 11:32:59,367]\u001b[0m Trial 141 finished with value: 0.6448678512913135 and parameters: {'solver_penalty': 'saga_elasticnet', 'C': 0.022711245411211004, 'l1_ratio': 0.37406710374265795}. Best is trial 23 with value: 0.6511821366828551.\u001b[0m\n"
     ]
    },
    {
     "name": "stdout",
     "output_type": "stream",
     "text": [
      "ROC AUC: 0.7868 +/- 0.0710\n"
     ]
    },
    {
     "name": "stderr",
     "output_type": "stream",
     "text": [
      "\u001b[32m[I 2023-04-13 11:32:59,663]\u001b[0m Trial 142 finished with value: 0.6429283933918515 and parameters: {'solver_penalty': 'newton-cholesky_none', 'C': 0.016024963761270935, 'l1_ratio': 0.3504740964800402}. Best is trial 23 with value: 0.6511821366828551.\u001b[0m\n"
     ]
    },
    {
     "name": "stdout",
     "output_type": "stream",
     "text": [
      "ROC AUC: 0.7853 +/- 0.0712\n"
     ]
    },
    {
     "name": "stderr",
     "output_type": "stream",
     "text": [
      "\u001b[32m[I 2023-04-13 11:32:59,925]\u001b[0m Trial 143 finished with value: 0.64289520157143 and parameters: {'solver_penalty': 'lbfgs_none', 'C': 0.005925969573789149, 'l1_ratio': 0.648862252643119}. Best is trial 23 with value: 0.6511821366828551.\u001b[0m\n"
     ]
    },
    {
     "name": "stdout",
     "output_type": "stream",
     "text": [
      "ROC AUC: 0.7853 +/- 0.0712\n"
     ]
    },
    {
     "name": "stderr",
     "output_type": "stream",
     "text": [
      "\u001b[32m[I 2023-04-13 11:33:00,202]\u001b[0m Trial 144 finished with value: 0.6511781561935355 and parameters: {'solver_penalty': 'saga_l1', 'C': 0.03546620060515224, 'l1_ratio': 0.007013048508488232}. Best is trial 23 with value: 0.6511821366828551.\u001b[0m\n"
     ]
    },
    {
     "name": "stdout",
     "output_type": "stream",
     "text": [
      "ROC AUC: 0.7902 +/- 0.0695\n"
     ]
    },
    {
     "name": "stderr",
     "output_type": "stream",
     "text": [
      "\u001b[32m[I 2023-04-13 11:33:00,421]\u001b[0m Trial 145 finished with value: 0.6510753091472412 and parameters: {'solver_penalty': 'saga_l1', 'C': 0.049416415990906196, 'l1_ratio': 0.8127411876716956}. Best is trial 23 with value: 0.6511821366828551.\u001b[0m\n"
     ]
    },
    {
     "name": "stdout",
     "output_type": "stream",
     "text": [
      "ROC AUC: 0.7902 +/- 0.0695\n"
     ]
    },
    {
     "name": "stderr",
     "output_type": "stream",
     "text": [
      "\u001b[32m[I 2023-04-13 11:33:00,641]\u001b[0m Trial 146 finished with value: 0.6507271759798502 and parameters: {'solver_penalty': 'saga_l1', 'C': 0.07469651000038706, 'l1_ratio': 0.7929513129976389}. Best is trial 23 with value: 0.6511821366828551.\u001b[0m\n",
      "\u001b[32m[I 2023-04-13 11:33:00,848]\u001b[0m Trial 147 finished with value: 0.6511821366828551 and parameters: {'solver_penalty': 'saga_l1', 'C': 0.04475739375224312, 'l1_ratio': 0.8871138033099298}. Best is trial 23 with value: 0.6511821366828551.\u001b[0m\n"
     ]
    },
    {
     "name": "stdout",
     "output_type": "stream",
     "text": [
      "ROC AUC: 0.7900 +/- 0.0696\n",
      "ROC AUC: 0.7902 +/- 0.0695\n"
     ]
    },
    {
     "name": "stderr",
     "output_type": "stream",
     "text": [
      "\u001b[32m[I 2023-04-13 11:33:01,061]\u001b[0m Trial 148 finished with value: 0.6511821366828551 and parameters: {'solver_penalty': 'saga_l1', 'C': 0.031313132437463004, 'l1_ratio': 0.904042721472552}. Best is trial 23 with value: 0.6511821366828551.\u001b[0m\n",
      "\u001b[32m[I 2023-04-13 11:33:01,260]\u001b[0m Trial 149 finished with value: 0.650343716576034 and parameters: {'solver_penalty': 'liblinear_l1', 'C': 0.10240027564719892, 'l1_ratio': 0.18251943202664692}. Best is trial 23 with value: 0.6511821366828551.\u001b[0m\n"
     ]
    },
    {
     "name": "stdout",
     "output_type": "stream",
     "text": [
      "ROC AUC: 0.7902 +/- 0.0695\n",
      "ROC AUC: 0.7897 +/- 0.0697\n"
     ]
    },
    {
     "name": "stderr",
     "output_type": "stream",
     "text": [
      "\u001b[32m[I 2023-04-13 11:33:01,475]\u001b[0m Trial 150 finished with value: 0.6511821366828551 and parameters: {'solver_penalty': 'liblinear_l1', 'C': 0.013004471615316997, 'l1_ratio': 0.9029934616482043}. Best is trial 23 with value: 0.6511821366828551.\u001b[0m\n"
     ]
    },
    {
     "name": "stdout",
     "output_type": "stream",
     "text": [
      "ROC AUC: 0.7902 +/- 0.0695\n"
     ]
    },
    {
     "name": "stderr",
     "output_type": "stream",
     "text": [
      "\u001b[32m[I 2023-04-13 11:33:01,713]\u001b[0m Trial 151 finished with value: 0.6511821366828551 and parameters: {'solver_penalty': 'saga_l1', 'C': 0.027792228645628587, 'l1_ratio': 0.05882034997797832}. Best is trial 23 with value: 0.6511821366828551.\u001b[0m\n",
      "\u001b[32m[I 2023-04-13 11:33:01,917]\u001b[0m Trial 152 finished with value: 0.6509327111055813 and parameters: {'solver_penalty': 'saga_l1', 'C': 0.05920888817565336, 'l1_ratio': 0.8410516928818186}. Best is trial 23 with value: 0.6511821366828551.\u001b[0m\n"
     ]
    },
    {
     "name": "stdout",
     "output_type": "stream",
     "text": [
      "ROC AUC: 0.7902 +/- 0.0695\n",
      "ROC AUC: 0.7901 +/- 0.0696\n"
     ]
    },
    {
     "name": "stderr",
     "output_type": "stream",
     "text": [
      "\u001b[32m[I 2023-04-13 11:33:02,097]\u001b[0m Trial 153 finished with value: 0.6511821366828551 and parameters: {'solver_penalty': 'liblinear_l1', 'C': 0.03385357695209151, 'l1_ratio': 0.11607282139319874}. Best is trial 23 with value: 0.6511821366828551.\u001b[0m\n",
      "\u001b[32m[I 2023-04-13 11:33:02,281]\u001b[0m Trial 154 finished with value: 0.6511821366828551 and parameters: {'solver_penalty': 'liblinear_l1', 'C': 0.038564879545590285, 'l1_ratio': 0.17617194231457484}. Best is trial 23 with value: 0.6511821366828551.\u001b[0m\n"
     ]
    },
    {
     "name": "stdout",
     "output_type": "stream",
     "text": [
      "ROC AUC: 0.7902 +/- 0.0695\n",
      "ROC AUC: 0.7902 +/- 0.0695\n"
     ]
    },
    {
     "name": "stderr",
     "output_type": "stream",
     "text": [
      "\u001b[32m[I 2023-04-13 11:33:02,482]\u001b[0m Trial 155 finished with value: 0.6509029847331831 and parameters: {'solver_penalty': 'saga_l1', 'C': 0.061099806863427746, 'l1_ratio': 0.8658609048493777}. Best is trial 23 with value: 0.6511821366828551.\u001b[0m\n"
     ]
    },
    {
     "name": "stdout",
     "output_type": "stream",
     "text": [
      "ROC AUC: 0.7901 +/- 0.0696\n"
     ]
    },
    {
     "name": "stderr",
     "output_type": "stream",
     "text": [
      "\u001b[32m[I 2023-04-13 11:33:02,683]\u001b[0m Trial 156 finished with value: 0.6511821366828551 and parameters: {'solver_penalty': 'saga_l1', 'C': 0.016389563666980148, 'l1_ratio': 0.8085297333509054}. Best is trial 23 with value: 0.6511821366828551.\u001b[0m\n"
     ]
    },
    {
     "name": "stdout",
     "output_type": "stream",
     "text": [
      "ROC AUC: 0.7902 +/- 0.0695\n"
     ]
    },
    {
     "name": "stderr",
     "output_type": "stream",
     "text": [
      "\u001b[32m[I 2023-04-13 11:33:02,953]\u001b[0m Trial 157 finished with value: 0.64289520157143 and parameters: {'solver_penalty': 'saga_none', 'C': 0.025182913622372172, 'l1_ratio': 0.7334221342248737}. Best is trial 23 with value: 0.6511821366828551.\u001b[0m\n"
     ]
    },
    {
     "name": "stdout",
     "output_type": "stream",
     "text": [
      "ROC AUC: 0.7853 +/- 0.0712\n"
     ]
    },
    {
     "name": "stderr",
     "output_type": "stream",
     "text": [
      "\u001b[32m[I 2023-04-13 11:33:03,171]\u001b[0m Trial 158 finished with value: 0.6244391073794082 and parameters: {'solver_penalty': 'liblinear_l2', 'C': 0.007607346593552405, 'l1_ratio': 0.5051451389949815}. Best is trial 23 with value: 0.6511821366828551.\u001b[0m\n",
      "\u001b[32m[I 2023-04-13 11:33:03,383]\u001b[0m Trial 159 finished with value: 0.6467296196614849 and parameters: {'solver_penalty': 'saga_l1', 'C': 0.19321838361919483, 'l1_ratio': 0.6045480888753771}. Best is trial 23 with value: 0.6511821366828551.\u001b[0m\n"
     ]
    },
    {
     "name": "stdout",
     "output_type": "stream",
     "text": [
      "ROC AUC: 0.7715 +/- 0.0735\n",
      "ROC AUC: 0.7878 +/- 0.0705\n"
     ]
    },
    {
     "name": "stderr",
     "output_type": "stream",
     "text": [
      "\u001b[32m[I 2023-04-13 11:33:03,564]\u001b[0m Trial 160 finished with value: 0.6511821366828551 and parameters: {'solver_penalty': 'liblinear_l1', 'C': 0.010438496172649319, 'l1_ratio': 0.12274485465568856}. Best is trial 23 with value: 0.6511821366828551.\u001b[0m\n",
      "\u001b[32m[I 2023-04-13 11:33:03,774]\u001b[0m Trial 161 finished with value: 0.6511821366828551 and parameters: {'solver_penalty': 'saga_l1', 'C': 0.023716556596465384, 'l1_ratio': 0.7981930934035292}. Best is trial 23 with value: 0.6511821366828551.\u001b[0m\n"
     ]
    },
    {
     "name": "stdout",
     "output_type": "stream",
     "text": [
      "ROC AUC: 0.7902 +/- 0.0695\n",
      "ROC AUC: 0.7902 +/- 0.0695\n"
     ]
    },
    {
     "name": "stderr",
     "output_type": "stream",
     "text": [
      "\u001b[32m[I 2023-04-13 11:33:03,974]\u001b[0m Trial 162 finished with value: 0.6317551379795218 and parameters: {'solver_penalty': 'sag_l2', 'C': 0.015681126831968085, 'l1_ratio': 0.052558216895066484}. Best is trial 23 with value: 0.6511821366828551.\u001b[0m\n",
      "\u001b[32m[I 2023-04-13 11:33:04,155]\u001b[0m Trial 163 finished with value: 0.6511821366828551 and parameters: {'solver_penalty': 'liblinear_l1', 'C': 0.03385338172412928, 'l1_ratio': 0.16382455838396556}. Best is trial 23 with value: 0.6511821366828551.\u001b[0m\n"
     ]
    },
    {
     "name": "stdout",
     "output_type": "stream",
     "text": [
      "ROC AUC: 0.7774 +/- 0.0728\n",
      "ROC AUC: 0.7902 +/- 0.0695\n"
     ]
    },
    {
     "name": "stderr",
     "output_type": "stream",
     "text": [
      "\u001b[32m[I 2023-04-13 11:33:04,535]\u001b[0m Trial 164 finished with value: 0.6428991874622355 and parameters: {'solver_penalty': 'sag_none', 'C': 15.00151360602435, 'l1_ratio': 0.43272573062688136}. Best is trial 23 with value: 0.6511821366828551.\u001b[0m\n"
     ]
    },
    {
     "name": "stdout",
     "output_type": "stream",
     "text": [
      "ROC AUC: 0.7853 +/- 0.0712\n"
     ]
    },
    {
     "name": "stderr",
     "output_type": "stream",
     "text": [
      "\u001b[32m[I 2023-04-13 11:33:04,781]\u001b[0m Trial 165 finished with value: 0.5 and parameters: {'solver_penalty': 'saga_elasticnet', 'C': 0.0024989664932808546, 'l1_ratio': 0.41687641691926536}. Best is trial 23 with value: 0.6511821366828551.\u001b[0m\n"
     ]
    },
    {
     "name": "stdout",
     "output_type": "stream",
     "text": [
      "ROC AUC: 0.5000 +/- 0.0000\n"
     ]
    },
    {
     "name": "stderr",
     "output_type": "stream",
     "text": [
      "\u001b[32m[I 2023-04-13 11:33:05,073]\u001b[0m Trial 166 finished with value: 0.64289520157143 and parameters: {'solver_penalty': 'newton-cg_none', 'C': 0.014452292758914687, 'l1_ratio': 0.0659376780637136}. Best is trial 23 with value: 0.6511821366828551.\u001b[0m\n"
     ]
    },
    {
     "name": "stdout",
     "output_type": "stream",
     "text": [
      "ROC AUC: 0.7853 +/- 0.0712\n"
     ]
    },
    {
     "name": "stderr",
     "output_type": "stream",
     "text": [
      "\u001b[32m[I 2023-04-13 11:33:05,324]\u001b[0m Trial 167 finished with value: 0.5 and parameters: {'solver_penalty': 'liblinear_l1', 'C': 0.003596827403406097, 'l1_ratio': 0.20468984681604713}. Best is trial 23 with value: 0.6511821366828551.\u001b[0m\n"
     ]
    },
    {
     "name": "stdout",
     "output_type": "stream",
     "text": [
      "ROC AUC: 0.5000 +/- 0.0000\n"
     ]
    },
    {
     "name": "stderr",
     "output_type": "stream",
     "text": [
      "\u001b[32m[I 2023-04-13 11:33:05,538]\u001b[0m Trial 168 finished with value: 0.6511781561935355 and parameters: {'solver_penalty': 'saga_l1', 'C': 0.03574676986411244, 'l1_ratio': 0.1050947864462034}. Best is trial 23 with value: 0.6511821366828551.\u001b[0m\n",
      "\u001b[32m[I 2023-04-13 11:33:05,741]\u001b[0m Trial 169 finished with value: 0.6379670647373512 and parameters: {'solver_penalty': 'saga_elasticnet', 'C': 0.008771173355889004, 'l1_ratio': 0.8821221090319242}. Best is trial 23 with value: 0.6511821366828551.\u001b[0m\n"
     ]
    },
    {
     "name": "stdout",
     "output_type": "stream",
     "text": [
      "ROC AUC: 0.7902 +/- 0.0695\n",
      "ROC AUC: 0.7860 +/- 0.0740\n"
     ]
    },
    {
     "name": "stderr",
     "output_type": "stream",
     "text": [
      "\u001b[32m[I 2023-04-13 11:33:05,936]\u001b[0m Trial 170 finished with value: 0.6511821366828551 and parameters: {'solver_penalty': 'liblinear_l1', 'C': 0.012794660221520041, 'l1_ratio': 0.8494650694334145}. Best is trial 23 with value: 0.6511821366828551.\u001b[0m\n",
      "\u001b[32m[I 2023-04-13 11:33:06,130]\u001b[0m Trial 171 finished with value: 0.6511821366828551 and parameters: {'solver_penalty': 'liblinear_l1', 'C': 0.010565542153784897, 'l1_ratio': 0.8702849985736909}. Best is trial 23 with value: 0.6511821366828551.\u001b[0m\n"
     ]
    },
    {
     "name": "stdout",
     "output_type": "stream",
     "text": [
      "ROC AUC: 0.7902 +/- 0.0695\n",
      "ROC AUC: 0.7902 +/- 0.0695\n"
     ]
    },
    {
     "name": "stderr",
     "output_type": "stream",
     "text": [
      "\u001b[32m[I 2023-04-13 11:33:06,318]\u001b[0m Trial 172 finished with value: 0.6511821366828551 and parameters: {'solver_penalty': 'liblinear_l1', 'C': 0.011133771383503722, 'l1_ratio': 0.8488791311968156}. Best is trial 23 with value: 0.6511821366828551.\u001b[0m\n",
      "\u001b[32m[I 2023-04-13 11:33:06,526]\u001b[0m Trial 173 finished with value: 0.6511821366828551 and parameters: {'solver_penalty': 'liblinear_l1', 'C': 0.04618907655993493, 'l1_ratio': 0.08651653097098363}. Best is trial 23 with value: 0.6511821366828551.\u001b[0m\n"
     ]
    },
    {
     "name": "stdout",
     "output_type": "stream",
     "text": [
      "ROC AUC: 0.7902 +/- 0.0695\n",
      "ROC AUC: 0.7902 +/- 0.0695\n"
     ]
    },
    {
     "name": "stderr",
     "output_type": "stream",
     "text": [
      "\u001b[32m[I 2023-04-13 11:33:06,736]\u001b[0m Trial 174 finished with value: 0.6507937730212986 and parameters: {'solver_penalty': 'liblinear_l1', 'C': 0.09002621877717652, 'l1_ratio': 0.09907293158367486}. Best is trial 23 with value: 0.6511821366828551.\u001b[0m\n",
      "\u001b[32m[I 2023-04-13 11:33:06,938]\u001b[0m Trial 175 finished with value: 0.6480098303502979 and parameters: {'solver_penalty': 'saga_elasticnet', 'C': 0.020015795146654688, 'l1_ratio': 0.4608442852277125}. Best is trial 23 with value: 0.6511821366828551.\u001b[0m\n"
     ]
    },
    {
     "name": "stdout",
     "output_type": "stream",
     "text": [
      "ROC AUC: 0.7899 +/- 0.0696\n",
      "ROC AUC: 0.7885 +/- 0.0702\n"
     ]
    },
    {
     "name": "stderr",
     "output_type": "stream",
     "text": [
      "\u001b[32m[I 2023-04-13 11:33:07,137]\u001b[0m Trial 176 finished with value: 0.6511821366828551 and parameters: {'solver_penalty': 'saga_elasticnet', 'C': 0.004856801774128766, 'l1_ratio': 0.40224766657642425}. Best is trial 23 with value: 0.6511821366828551.\u001b[0m\n"
     ]
    },
    {
     "name": "stdout",
     "output_type": "stream",
     "text": [
      "ROC AUC: 0.7902 +/- 0.0695\n"
     ]
    },
    {
     "name": "stderr",
     "output_type": "stream",
     "text": [
      "\u001b[32m[I 2023-04-13 11:33:07,347]\u001b[0m Trial 177 finished with value: 0.6508560281879812 and parameters: {'solver_penalty': 'saga_l1', 'C': 0.06369386524647523, 'l1_ratio': 0.785602115133291}. Best is trial 23 with value: 0.6511821366828551.\u001b[0m\n",
      "\u001b[32m[I 2023-04-13 11:33:07,544]\u001b[0m Trial 178 finished with value: 0.6511821366828551 and parameters: {'solver_penalty': 'saga_l1', 'C': 0.022336672726391504, 'l1_ratio': 0.7919880510300908}. Best is trial 23 with value: 0.6511821366828551.\u001b[0m\n"
     ]
    },
    {
     "name": "stdout",
     "output_type": "stream",
     "text": [
      "ROC AUC: 0.7901 +/- 0.0696\n",
      "ROC AUC: 0.7902 +/- 0.0695\n"
     ]
    },
    {
     "name": "stderr",
     "output_type": "stream",
     "text": [
      "\u001b[32m[I 2023-04-13 11:33:07,748]\u001b[0m Trial 179 finished with value: 0.634009788342578 and parameters: {'solver_penalty': 'lbfgs_l2', 'C': 0.020046179501150087, 'l1_ratio': 0.4861094484052492}. Best is trial 23 with value: 0.6511821366828551.\u001b[0m\n"
     ]
    },
    {
     "name": "stdout",
     "output_type": "stream",
     "text": [
      "ROC AUC: 0.7794 +/- 0.0727\n"
     ]
    },
    {
     "name": "stderr",
     "output_type": "stream",
     "text": [
      "\u001b[32m[I 2023-04-13 11:33:07,951]\u001b[0m Trial 180 finished with value: 0.6511821366828551 and parameters: {'solver_penalty': 'saga_l1', 'C': 0.029264435846714384, 'l1_ratio': 0.7656313076537103}. Best is trial 23 with value: 0.6511821366828551.\u001b[0m\n"
     ]
    },
    {
     "name": "stdout",
     "output_type": "stream",
     "text": [
      "ROC AUC: 0.7902 +/- 0.0695\n"
     ]
    },
    {
     "name": "stderr",
     "output_type": "stream",
     "text": [
      "\u001b[32m[I 2023-04-13 11:33:08,154]\u001b[0m Trial 181 finished with value: 0.6511821366828551 and parameters: {'solver_penalty': 'saga_elasticnet', 'C': 0.00645873217468905, 'l1_ratio': 0.5244415772313942}. Best is trial 23 with value: 0.6511821366828551.\u001b[0m\n"
     ]
    },
    {
     "name": "stdout",
     "output_type": "stream",
     "text": [
      "ROC AUC: 0.7902 +/- 0.0695\n"
     ]
    },
    {
     "name": "stderr",
     "output_type": "stream",
     "text": [
      "\u001b[32m[I 2023-04-13 11:33:08,355]\u001b[0m Trial 182 finished with value: 0.6511821366828551 and parameters: {'solver_penalty': 'saga_elasticnet', 'C': 0.006793803313665557, 'l1_ratio': 0.5154015584621593}. Best is trial 23 with value: 0.6511821366828551.\u001b[0m\n",
      "\u001b[32m[I 2023-04-13 11:33:08,550]\u001b[0m Trial 183 finished with value: 0.6325619821854704 and parameters: {'solver_penalty': 'saga_l2', 'C': 0.017555658594963577, 'l1_ratio': 0.4018534745994557}. Best is trial 23 with value: 0.6511821366828551.\u001b[0m\n"
     ]
    },
    {
     "name": "stdout",
     "output_type": "stream",
     "text": [
      "ROC AUC: 0.7902 +/- 0.0695\n",
      "ROC AUC: 0.7783 +/- 0.0729\n"
     ]
    },
    {
     "name": "stderr",
     "output_type": "stream",
     "text": [
      "\u001b[32m[I 2023-04-13 11:33:08,750]\u001b[0m Trial 184 finished with value: 0.6511821366828551 and parameters: {'solver_penalty': 'saga_l1', 'C': 0.023855728495960193, 'l1_ratio': 0.7993186155648174}. Best is trial 23 with value: 0.6511821366828551.\u001b[0m\n",
      "\u001b[32m[I 2023-04-13 11:33:08,950]\u001b[0m Trial 185 finished with value: 0.6492699130833197 and parameters: {'solver_penalty': 'saga_elasticnet', 'C': 0.008059706758240791, 'l1_ratio': 0.34301695406659194}. Best is trial 23 with value: 0.6511821366828551.\u001b[0m\n"
     ]
    },
    {
     "name": "stdout",
     "output_type": "stream",
     "text": [
      "ROC AUC: 0.7902 +/- 0.0695\n",
      "ROC AUC: 0.7893 +/- 0.0700\n"
     ]
    },
    {
     "name": "stderr",
     "output_type": "stream",
     "text": [
      "\u001b[32m[I 2023-04-13 11:33:09,153]\u001b[0m Trial 186 finished with value: 0.6511821366828551 and parameters: {'solver_penalty': 'saga_elasticnet', 'C': 0.00509082898834634, 'l1_ratio': 0.41202491464220203}. Best is trial 23 with value: 0.6511821366828551.\u001b[0m\n"
     ]
    },
    {
     "name": "stdout",
     "output_type": "stream",
     "text": [
      "ROC AUC: 0.7902 +/- 0.0695\n"
     ]
    },
    {
     "name": "stderr",
     "output_type": "stream",
     "text": [
      "\u001b[32m[I 2023-04-13 11:33:09,401]\u001b[0m Trial 187 finished with value: 0.6316478079799923 and parameters: {'solver_penalty': 'newton-cg_l2', 'C': 0.015190497698198484, 'l1_ratio': 0.4595212323821981}. Best is trial 23 with value: 0.6511821366828551.\u001b[0m\n"
     ]
    },
    {
     "name": "stdout",
     "output_type": "stream",
     "text": [
      "ROC AUC: 0.7772 +/- 0.0728\n"
     ]
    },
    {
     "name": "stderr",
     "output_type": "stream",
     "text": [
      "\u001b[32m[I 2023-04-13 11:33:09,605]\u001b[0m Trial 188 finished with value: 0.6394005350894192 and parameters: {'solver_penalty': 'newton-cholesky_l2', 'C': 0.05092864788866495, 'l1_ratio': 0.8254408978808968}. Best is trial 23 with value: 0.6511821366828551.\u001b[0m\n",
      "\u001b[32m[I 2023-04-13 11:33:09,801]\u001b[0m Trial 189 finished with value: 0.6511821366828551 and parameters: {'solver_penalty': 'saga_l1', 'C': 0.036369674404870926, 'l1_ratio': 0.1365105324055132}. Best is trial 23 with value: 0.6511821366828551.\u001b[0m\n"
     ]
    },
    {
     "name": "stdout",
     "output_type": "stream",
     "text": [
      "ROC AUC: 0.7828 +/- 0.0717\n",
      "ROC AUC: 0.7902 +/- 0.0695\n"
     ]
    },
    {
     "name": "stderr",
     "output_type": "stream",
     "text": [
      "\u001b[32m[I 2023-04-13 11:33:10,076]\u001b[0m Trial 190 finished with value: 0.64289520157143 and parameters: {'solver_penalty': 'lbfgs_none', 'C': 0.01692059798135462, 'l1_ratio': 0.37082224533990815}. Best is trial 23 with value: 0.6511821366828551.\u001b[0m\n",
      "\u001b[32m[I 2023-04-13 11:33:10,276]\u001b[0m Trial 191 finished with value: 0.6511821366828551 and parameters: {'solver_penalty': 'liblinear_l1', 'C': 0.034646208606333884, 'l1_ratio': 0.9204084604300524}. Best is trial 23 with value: 0.6511821366828551.\u001b[0m\n"
     ]
    },
    {
     "name": "stdout",
     "output_type": "stream",
     "text": [
      "ROC AUC: 0.7853 +/- 0.0712\n",
      "ROC AUC: 0.7902 +/- 0.0695\n"
     ]
    },
    {
     "name": "stderr",
     "output_type": "stream",
     "text": [
      "\u001b[32m[I 2023-04-13 11:33:10,483]\u001b[0m Trial 192 finished with value: 0.6511821366828551 and parameters: {'solver_penalty': 'saga_elasticnet', 'C': 0.007423091745766933, 'l1_ratio': 0.48724459417694405}. Best is trial 23 with value: 0.6511821366828551.\u001b[0m\n"
     ]
    },
    {
     "name": "stdout",
     "output_type": "stream",
     "text": [
      "ROC AUC: 0.7902 +/- 0.0695\n"
     ]
    },
    {
     "name": "stderr",
     "output_type": "stream",
     "text": [
      "\u001b[32m[I 2023-04-13 11:33:10,730]\u001b[0m Trial 193 finished with value: 0.64289520157143 and parameters: {'solver_penalty': 'saga_elasticnet', 'C': 1537.0854844427067, 'l1_ratio': 0.43704655840892787}. Best is trial 23 with value: 0.6511821366828551.\u001b[0m\n",
      "\u001b[32m[I 2023-04-13 11:33:10,927]\u001b[0m Trial 194 finished with value: 0.6511821366828551 and parameters: {'solver_penalty': 'saga_l1', 'C': 0.046089405629798984, 'l1_ratio': 0.8997782079823643}. Best is trial 23 with value: 0.6511821366828551.\u001b[0m\n"
     ]
    },
    {
     "name": "stdout",
     "output_type": "stream",
     "text": [
      "ROC AUC: 0.7853 +/- 0.0712\n",
      "ROC AUC: 0.7902 +/- 0.0695\n"
     ]
    },
    {
     "name": "stderr",
     "output_type": "stream",
     "text": [
      "\u001b[32m[I 2023-04-13 11:33:11,131]\u001b[0m Trial 195 finished with value: 0.6511821366828551 and parameters: {'solver_penalty': 'saga_l1', 'C': 0.02007455596053369, 'l1_ratio': 0.5463076777358733}. Best is trial 23 with value: 0.6511821366828551.\u001b[0m\n"
     ]
    },
    {
     "name": "stdout",
     "output_type": "stream",
     "text": [
      "ROC AUC: 0.7902 +/- 0.0695\n"
     ]
    },
    {
     "name": "stderr",
     "output_type": "stream",
     "text": [
      "\u001b[32m[I 2023-04-13 11:33:11,410]\u001b[0m Trial 196 finished with value: 0.6429283933918515 and parameters: {'solver_penalty': 'newton-cholesky_none', 'C': 0.008878716070750805, 'l1_ratio': 0.5415212073432573}. Best is trial 23 with value: 0.6511821366828551.\u001b[0m\n"
     ]
    },
    {
     "name": "stdout",
     "output_type": "stream",
     "text": [
      "ROC AUC: 0.7853 +/- 0.0712\n"
     ]
    },
    {
     "name": "stderr",
     "output_type": "stream",
     "text": [
      "\u001b[32m[I 2023-04-13 11:33:11,677]\u001b[0m Trial 197 finished with value: 0.6507430935083818 and parameters: {'solver_penalty': 'saga_l1', 'C': 0.07761474443065493, 'l1_ratio': 0.9666512720425064}. Best is trial 23 with value: 0.6511821366828551.\u001b[0m\n",
      "\u001b[32m[I 2023-04-13 11:33:11,874]\u001b[0m Trial 198 finished with value: 0.6511821366828551 and parameters: {'solver_penalty': 'liblinear_l1', 'C': 0.0267573344289524, 'l1_ratio': 0.8843912305269862}. Best is trial 23 with value: 0.6511821366828551.\u001b[0m\n"
     ]
    },
    {
     "name": "stdout",
     "output_type": "stream",
     "text": [
      "ROC AUC: 0.7900 +/- 0.0696\n",
      "ROC AUC: 0.7902 +/- 0.0695\n"
     ]
    },
    {
     "name": "stderr",
     "output_type": "stream",
     "text": [
      "\u001b[32m[I 2023-04-13 11:33:12,052]\u001b[0m Trial 199 finished with value: 0.6511821366828551 and parameters: {'solver_penalty': 'liblinear_l1', 'C': 0.034107617371918676, 'l1_ratio': 0.1207628236482944}. Best is trial 23 with value: 0.6511821366828551.\u001b[0m\n",
      "\u001b[32m[I 2023-04-13 11:33:12,242]\u001b[0m Trial 200 finished with value: 0.6511821366828551 and parameters: {'solver_penalty': 'liblinear_l1', 'C': 0.03147673280006673, 'l1_ratio': 0.17219743836153323}. Best is trial 23 with value: 0.6511821366828551.\u001b[0m\n"
     ]
    },
    {
     "name": "stdout",
     "output_type": "stream",
     "text": [
      "ROC AUC: 0.7902 +/- 0.0695\n",
      "ROC AUC: 0.7902 +/- 0.0695\n"
     ]
    },
    {
     "name": "stderr",
     "output_type": "stream",
     "text": [
      "\u001b[32m[I 2023-04-13 11:33:12,443]\u001b[0m Trial 201 finished with value: 0.6481688295445214 and parameters: {'solver_penalty': 'saga_elasticnet', 'C': 0.026893765964606554, 'l1_ratio': 0.5130240000515044}. Best is trial 23 with value: 0.6511821366828551.\u001b[0m\n",
      "\u001b[32m[I 2023-04-13 11:33:12,650]\u001b[0m Trial 202 finished with value: 0.6511821366828551 and parameters: {'solver_penalty': 'saga_l1', 'C': 0.02416045702418135, 'l1_ratio': 0.27496097928362767}. Best is trial 23 with value: 0.6511821366828551.\u001b[0m\n"
     ]
    },
    {
     "name": "stdout",
     "output_type": "stream",
     "text": [
      "ROC AUC: 0.7887 +/- 0.0703\n",
      "ROC AUC: 0.7902 +/- 0.0695\n"
     ]
    },
    {
     "name": "stderr",
     "output_type": "stream",
     "text": [
      "\u001b[32m[I 2023-04-13 11:33:12,881]\u001b[0m Trial 203 finished with value: 0.6511821366828551 and parameters: {'solver_penalty': 'saga_l1', 'C': 0.01583098025362346, 'l1_ratio': 0.390189785365738}. Best is trial 23 with value: 0.6511821366828551.\u001b[0m\n"
     ]
    },
    {
     "name": "stdout",
     "output_type": "stream",
     "text": [
      "ROC AUC: 0.7902 +/- 0.0695\n"
     ]
    },
    {
     "name": "stderr",
     "output_type": "stream",
     "text": [
      "\u001b[32m[I 2023-04-13 11:33:13,093]\u001b[0m Trial 204 finished with value: 0.6511821366828551 and parameters: {'solver_penalty': 'saga_l1', 'C': 0.018302985002045198, 'l1_ratio': 0.45121707386634086}. Best is trial 23 with value: 0.6511821366828551.\u001b[0m\n"
     ]
    },
    {
     "name": "stdout",
     "output_type": "stream",
     "text": [
      "ROC AUC: 0.7902 +/- 0.0695\n"
     ]
    },
    {
     "name": "stderr",
     "output_type": "stream",
     "text": [
      "\u001b[32m[I 2023-04-13 11:33:13,355]\u001b[0m Trial 205 finished with value: 0.64289520157143 and parameters: {'solver_penalty': 'saga_none', 'C': 0.0035872353807915843, 'l1_ratio': 0.37980656047000244}. Best is trial 23 with value: 0.6511821366828551.\u001b[0m\n"
     ]
    },
    {
     "name": "stdout",
     "output_type": "stream",
     "text": [
      "ROC AUC: 0.7853 +/- 0.0712\n"
     ]
    },
    {
     "name": "stderr",
     "output_type": "stream",
     "text": [
      "\u001b[32m[I 2023-04-13 11:33:13,582]\u001b[0m Trial 206 finished with value: 0.6510753091472412 and parameters: {'solver_penalty': 'saga_l1', 'C': 0.049831540160966734, 'l1_ratio': 0.8274662520306314}. Best is trial 23 with value: 0.6511821366828551.\u001b[0m\n",
      "\u001b[32m[I 2023-04-13 11:33:13,772]\u001b[0m Trial 207 finished with value: 0.6511821366828551 and parameters: {'solver_penalty': 'liblinear_l1', 'C': 0.010587578175962857, 'l1_ratio': 0.48620615873954276}. Best is trial 23 with value: 0.6511821366828551.\u001b[0m\n"
     ]
    },
    {
     "name": "stdout",
     "output_type": "stream",
     "text": [
      "ROC AUC: 0.7902 +/- 0.0695\n",
      "ROC AUC: 0.7902 +/- 0.0695\n"
     ]
    },
    {
     "name": "stderr",
     "output_type": "stream",
     "text": [
      "\u001b[32m[I 2023-04-13 11:33:13,986]\u001b[0m Trial 208 finished with value: 0.6277414807237021 and parameters: {'solver_penalty': 'liblinear_l2', 'C': 0.010887578605541666, 'l1_ratio': 0.49675500505034087}. Best is trial 23 with value: 0.6511821366828551.\u001b[0m\n",
      "\u001b[32m[I 2023-04-13 11:33:14,188]\u001b[0m Trial 209 finished with value: 0.6511821366828551 and parameters: {'solver_penalty': 'saga_l1', 'C': 0.01173770660280183, 'l1_ratio': 0.5685682622677684}. Best is trial 23 with value: 0.6511821366828551.\u001b[0m\n"
     ]
    },
    {
     "name": "stdout",
     "output_type": "stream",
     "text": [
      "ROC AUC: 0.7748 +/- 0.0735\n",
      "ROC AUC: 0.7902 +/- 0.0695\n"
     ]
    },
    {
     "name": "stderr",
     "output_type": "stream",
     "text": [
      "\u001b[32m[I 2023-04-13 11:33:14,389]\u001b[0m Trial 210 finished with value: 0.6281062710123588 and parameters: {'solver_penalty': 'sag_l2', 'C': 0.011888029242181086, 'l1_ratio': 0.5703457279905297}. Best is trial 23 with value: 0.6511821366828551.\u001b[0m\n"
     ]
    },
    {
     "name": "stdout",
     "output_type": "stream",
     "text": [
      "ROC AUC: 0.7752 +/- 0.0736\n"
     ]
    },
    {
     "name": "stderr",
     "output_type": "stream",
     "text": [
      "\u001b[32m[I 2023-04-13 11:33:14,588]\u001b[0m Trial 211 finished with value: 0.6511821366828551 and parameters: {'solver_penalty': 'saga_l1', 'C': 0.03874678185853563, 'l1_ratio': 0.022699771574707202}. Best is trial 23 with value: 0.6511821366828551.\u001b[0m\n",
      "\u001b[32m[I 2023-04-13 11:33:14,770]\u001b[0m Trial 212 finished with value: 0.5 and parameters: {'solver_penalty': 'liblinear_l1', 'C': 0.0069022613908277025, 'l1_ratio': 0.21578552325102401}. Best is trial 23 with value: 0.6511821366828551.\u001b[0m\n"
     ]
    },
    {
     "name": "stdout",
     "output_type": "stream",
     "text": [
      "ROC AUC: 0.7902 +/- 0.0695\n",
      "ROC AUC: 0.5000 +/- 0.0000\n"
     ]
    },
    {
     "name": "stderr",
     "output_type": "stream",
     "text": [
      "\u001b[32m[I 2023-04-13 11:33:14,984]\u001b[0m Trial 213 finished with value: 0.6511821366828551 and parameters: {'solver_penalty': 'liblinear_l1', 'C': 0.031999398641525616, 'l1_ratio': 0.13530435710246502}. Best is trial 23 with value: 0.6511821366828551.\u001b[0m\n"
     ]
    },
    {
     "name": "stdout",
     "output_type": "stream",
     "text": [
      "ROC AUC: 0.7902 +/- 0.0695\n"
     ]
    },
    {
     "name": "stderr",
     "output_type": "stream",
     "text": [
      "\u001b[32m[I 2023-04-13 11:33:15,252]\u001b[0m Trial 214 finished with value: 0.6428991874622355 and parameters: {'solver_penalty': 'sag_none', 'C': 0.005541107183868225, 'l1_ratio': 0.8521898330060775}. Best is trial 23 with value: 0.6511821366828551.\u001b[0m\n"
     ]
    },
    {
     "name": "stdout",
     "output_type": "stream",
     "text": [
      "ROC AUC: 0.7853 +/- 0.0712\n"
     ]
    },
    {
     "name": "stderr",
     "output_type": "stream",
     "text": [
      "\u001b[32m[I 2023-04-13 11:33:15,480]\u001b[0m Trial 215 finished with value: 0.6511821366828551 and parameters: {'solver_penalty': 'liblinear_l1', 'C': 0.013984087132202486, 'l1_ratio': 0.18864306965421612}. Best is trial 23 with value: 0.6511821366828551.\u001b[0m\n"
     ]
    },
    {
     "name": "stdout",
     "output_type": "stream",
     "text": [
      "ROC AUC: 0.7902 +/- 0.0695\n"
     ]
    },
    {
     "name": "stderr",
     "output_type": "stream",
     "text": [
      "\u001b[32m[I 2023-04-13 11:33:15,719]\u001b[0m Trial 216 finished with value: 0.46234379225384614 and parameters: {'solver_penalty': 'liblinear_l1', 'C': 0.009451750359269403, 'l1_ratio': 0.3462155345444382}. Best is trial 23 with value: 0.6511821366828551.\u001b[0m\n"
     ]
    },
    {
     "name": "stdout",
     "output_type": "stream",
     "text": [
      "ROC AUC: 0.7065 +/- 0.1221\n"
     ]
    },
    {
     "name": "stderr",
     "output_type": "stream",
     "text": [
      "\u001b[32m[I 2023-04-13 11:33:15,963]\u001b[0m Trial 217 finished with value: 0.6507430935083818 and parameters: {'solver_penalty': 'saga_l1', 'C': 0.07659321963609933, 'l1_ratio': 0.16321537905277667}. Best is trial 23 with value: 0.6511821366828551.\u001b[0m\n"
     ]
    },
    {
     "name": "stdout",
     "output_type": "stream",
     "text": [
      "ROC AUC: 0.7900 +/- 0.0696\n"
     ]
    },
    {
     "name": "stderr",
     "output_type": "stream",
     "text": [
      "\u001b[32m[I 2023-04-13 11:33:16,172]\u001b[0m Trial 218 finished with value: 0.6511821366828551 and parameters: {'solver_penalty': 'liblinear_l1', 'C': 0.041840373662770845, 'l1_ratio': 0.8364014729311463}. Best is trial 23 with value: 0.6511821366828551.\u001b[0m\n"
     ]
    },
    {
     "name": "stdout",
     "output_type": "stream",
     "text": [
      "ROC AUC: 0.7902 +/- 0.0695\n"
     ]
    },
    {
     "name": "stderr",
     "output_type": "stream",
     "text": [
      "\u001b[32m[I 2023-04-13 11:33:16,388]\u001b[0m Trial 219 finished with value: 0.6440125040061597 and parameters: {'solver_penalty': 'saga_elasticnet', 'C': 0.007945215109504763, 'l1_ratio': 0.2599884710911454}. Best is trial 23 with value: 0.6511821366828551.\u001b[0m\n"
     ]
    },
    {
     "name": "stdout",
     "output_type": "stream",
     "text": [
      "ROC AUC: 0.7861 +/- 0.0711\n"
     ]
    },
    {
     "name": "stderr",
     "output_type": "stream",
     "text": [
      "\u001b[32m[I 2023-04-13 11:33:16,625]\u001b[0m Trial 220 finished with value: 0.6511821366828551 and parameters: {'solver_penalty': 'saga_l1', 'C': 0.028165874909779155, 'l1_ratio': 0.06377083500838028}. Best is trial 23 with value: 0.6511821366828551.\u001b[0m\n",
      "\u001b[32m[I 2023-04-13 11:33:16,815]\u001b[0m Trial 221 finished with value: 0.6511821366828551 and parameters: {'solver_penalty': 'liblinear_l1', 'C': 0.023061889955232038, 'l1_ratio': 0.28024091312526106}. Best is trial 23 with value: 0.6511821366828551.\u001b[0m\n"
     ]
    },
    {
     "name": "stdout",
     "output_type": "stream",
     "text": [
      "ROC AUC: 0.7902 +/- 0.0695\n",
      "ROC AUC: 0.7902 +/- 0.0695\n"
     ]
    },
    {
     "name": "stderr",
     "output_type": "stream",
     "text": [
      "\u001b[32m[I 2023-04-13 11:33:17,117]\u001b[0m Trial 222 finished with value: 0.64289520157143 and parameters: {'solver_penalty': 'newton-cg_none', 'C': 0.020375721643998996, 'l1_ratio': 0.232579897326042}. Best is trial 23 with value: 0.6511821366828551.\u001b[0m\n"
     ]
    },
    {
     "name": "stdout",
     "output_type": "stream",
     "text": [
      "ROC AUC: 0.7853 +/- 0.0712\n"
     ]
    },
    {
     "name": "stderr",
     "output_type": "stream",
     "text": [
      "\u001b[32m[I 2023-04-13 11:33:17,369]\u001b[0m Trial 223 finished with value: 0.6509620354615258 and parameters: {'solver_penalty': 'saga_l1', 'C': 0.05558230261430244, 'l1_ratio': 0.760417203588183}. Best is trial 23 with value: 0.6511821366828551.\u001b[0m\n",
      "\u001b[32m[I 2023-04-13 11:33:17,563]\u001b[0m Trial 224 finished with value: 0.6511821366828551 and parameters: {'solver_penalty': 'saga_l1', 'C': 0.014092734148884747, 'l1_ratio': 0.8927628904454238}. Best is trial 23 with value: 0.6511821366828551.\u001b[0m\n"
     ]
    },
    {
     "name": "stdout",
     "output_type": "stream",
     "text": [
      "ROC AUC: 0.7901 +/- 0.0696\n",
      "ROC AUC: 0.7902 +/- 0.0695\n"
     ]
    },
    {
     "name": "stderr",
     "output_type": "stream",
     "text": [
      "\u001b[32m[I 2023-04-13 11:33:17,761]\u001b[0m Trial 225 finished with value: 0.6511821366828551 and parameters: {'solver_penalty': 'liblinear_l1', 'C': 0.01151532576993325, 'l1_ratio': 0.24602637940629957}. Best is trial 23 with value: 0.6511821366828551.\u001b[0m\n",
      "\u001b[32m[I 2023-04-13 11:33:17,945]\u001b[0m Trial 226 finished with value: 0.6511821366828551 and parameters: {'solver_penalty': 'liblinear_l1', 'C': 0.016457033527911506, 'l1_ratio': 0.034969973264166836}. Best is trial 23 with value: 0.6511821366828551.\u001b[0m\n"
     ]
    },
    {
     "name": "stdout",
     "output_type": "stream",
     "text": [
      "ROC AUC: 0.7902 +/- 0.0695\n",
      "ROC AUC: 0.7902 +/- 0.0695\n"
     ]
    },
    {
     "name": "stderr",
     "output_type": "stream",
     "text": [
      "\u001b[32m[I 2023-04-13 11:33:18,127]\u001b[0m Trial 227 finished with value: 0.6509909576198026 and parameters: {'solver_penalty': 'liblinear_l1', 'C': 0.0564499031868349, 'l1_ratio': 0.8125750022322868}. Best is trial 23 with value: 0.6511821366828551.\u001b[0m\n",
      "\u001b[32m[I 2023-04-13 11:33:18,333]\u001b[0m Trial 228 finished with value: 0.5 and parameters: {'solver_penalty': 'saga_elasticnet', 'C': 0.004685330225462392, 'l1_ratio': 0.786715304557088}. Best is trial 23 with value: 0.6511821366828551.\u001b[0m\n"
     ]
    },
    {
     "name": "stdout",
     "output_type": "stream",
     "text": [
      "ROC AUC: 0.7901 +/- 0.0696\n",
      "ROC AUC: 0.5000 +/- 0.0000\n"
     ]
    },
    {
     "name": "stderr",
     "output_type": "stream",
     "text": [
      "\u001b[32m[I 2023-04-13 11:33:18,597]\u001b[0m Trial 229 finished with value: 0.6316184493795206 and parameters: {'solver_penalty': 'newton-cg_l2', 'C': 0.01535696594394744, 'l1_ratio': 0.4185347876434206}. Best is trial 23 with value: 0.6511821366828551.\u001b[0m\n"
     ]
    },
    {
     "name": "stdout",
     "output_type": "stream",
     "text": [
      "ROC AUC: 0.7772 +/- 0.0728\n"
     ]
    },
    {
     "name": "stderr",
     "output_type": "stream",
     "text": [
      "\u001b[32m[I 2023-04-13 11:33:18,827]\u001b[0m Trial 230 finished with value: 0.6511821366828551 and parameters: {'solver_penalty': 'saga_elasticnet', 'C': 0.0073233556537084, 'l1_ratio': 0.489149462780403}. Best is trial 23 with value: 0.6511821366828551.\u001b[0m\n",
      "\u001b[32m[I 2023-04-13 11:33:19,018]\u001b[0m Trial 231 finished with value: 0.6225615238789346 and parameters: {'solver_penalty': 'newton-cholesky_l2', 'C': 0.006430552764499014, 'l1_ratio': 0.19383386603191557}. Best is trial 23 with value: 0.6511821366828551.\u001b[0m\n"
     ]
    },
    {
     "name": "stdout",
     "output_type": "stream",
     "text": [
      "ROC AUC: 0.7902 +/- 0.0695\n",
      "ROC AUC: 0.7695 +/- 0.0735\n"
     ]
    },
    {
     "name": "stderr",
     "output_type": "stream",
     "text": [
      "\u001b[32m[I 2023-04-13 11:33:19,221]\u001b[0m Trial 232 finished with value: 0.6348787045217034 and parameters: {'solver_penalty': 'saga_elasticnet', 'C': 0.018508277339057, 'l1_ratio': 0.016530505684722932}. Best is trial 23 with value: 0.6511821366828551.\u001b[0m\n",
      "\u001b[32m[I 2023-04-13 11:33:19,419]\u001b[0m Trial 233 finished with value: 0.6511821366828551 and parameters: {'solver_penalty': 'saga_l1', 'C': 0.027098753369400083, 'l1_ratio': 0.451466171587699}. Best is trial 23 with value: 0.6511821366828551.\u001b[0m\n"
     ]
    },
    {
     "name": "stdout",
     "output_type": "stream",
     "text": [
      "ROC AUC: 0.7795 +/- 0.0723\n",
      "ROC AUC: 0.7902 +/- 0.0695\n"
     ]
    },
    {
     "name": "stderr",
     "output_type": "stream",
     "text": [
      "\u001b[32m[I 2023-04-13 11:33:19,619]\u001b[0m Trial 234 finished with value: 0.6511821366828551 and parameters: {'solver_penalty': 'saga_l1', 'C': 0.026267899670356077, 'l1_ratio': 0.4629588120343537}. Best is trial 23 with value: 0.6511821366828551.\u001b[0m\n",
      "\u001b[32m[I 2023-04-13 11:33:19,796]\u001b[0m Trial 235 finished with value: 0.6511821366828551 and parameters: {'solver_penalty': 'liblinear_l1', 'C': 0.03783747100332965, 'l1_ratio': 0.9200506674885941}. Best is trial 23 with value: 0.6511821366828551.\u001b[0m\n"
     ]
    },
    {
     "name": "stdout",
     "output_type": "stream",
     "text": [
      "ROC AUC: 0.7902 +/- 0.0695\n",
      "ROC AUC: 0.7902 +/- 0.0695\n"
     ]
    },
    {
     "name": "stderr",
     "output_type": "stream",
     "text": [
      "\u001b[32m[I 2023-04-13 11:33:19,986]\u001b[0m Trial 236 finished with value: 0.6511821366828551 and parameters: {'solver_penalty': 'liblinear_l1', 'C': 0.02093360987254163, 'l1_ratio': 0.20591942555943896}. Best is trial 23 with value: 0.6511821366828551.\u001b[0m\n",
      "\u001b[32m[I 2023-04-13 11:33:20,186]\u001b[0m Trial 237 finished with value: 0.649222099394094 and parameters: {'solver_penalty': 'saga_l1', 'C': 0.12292961453604322, 'l1_ratio': 0.7830395784871362}. Best is trial 23 with value: 0.6511821366828551.\u001b[0m\n"
     ]
    },
    {
     "name": "stdout",
     "output_type": "stream",
     "text": [
      "ROC AUC: 0.7902 +/- 0.0695\n",
      "ROC AUC: 0.7891 +/- 0.0699\n"
     ]
    },
    {
     "name": "stderr",
     "output_type": "stream",
     "text": [
      "\u001b[32m[I 2023-04-13 11:33:20,383]\u001b[0m Trial 238 finished with value: 0.6511821366828551 and parameters: {'solver_penalty': 'saga_l1', 'C': 0.022720019686426573, 'l1_ratio': 0.40575195613138887}. Best is trial 23 with value: 0.6511821366828551.\u001b[0m\n",
      "\u001b[32m[I 2023-04-13 11:33:20,582]\u001b[0m Trial 239 finished with value: 0.6439936423658547 and parameters: {'solver_penalty': 'saga_l1', 'C': 2.0115120000214617, 'l1_ratio': 0.865207357314344}. Best is trial 23 with value: 0.6511821366828551.\u001b[0m\n"
     ]
    },
    {
     "name": "stdout",
     "output_type": "stream",
     "text": [
      "ROC AUC: 0.7902 +/- 0.0695\n",
      "ROC AUC: 0.7857 +/- 0.0709\n"
     ]
    },
    {
     "name": "stderr",
     "output_type": "stream",
     "text": [
      "\u001b[32m[I 2023-04-13 11:33:20,765]\u001b[0m Trial 240 finished with value: 0.5 and parameters: {'solver_penalty': 'saga_elasticnet', 'C': 0.0026910480507820154, 'l1_ratio': 0.9274942334056298}. Best is trial 23 with value: 0.6511821366828551.\u001b[0m\n",
      "\u001b[32m[I 2023-04-13 11:33:20,942]\u001b[0m Trial 241 finished with value: 0.6511821366828551 and parameters: {'solver_penalty': 'liblinear_l1', 'C': 0.011403707983744803, 'l1_ratio': 0.24906159939827843}. Best is trial 23 with value: 0.6511821366828551.\u001b[0m\n"
     ]
    },
    {
     "name": "stdout",
     "output_type": "stream",
     "text": [
      "ROC AUC: 0.5000 +/- 0.0000\n",
      "ROC AUC: 0.7902 +/- 0.0695\n"
     ]
    },
    {
     "name": "stderr",
     "output_type": "stream",
     "text": [
      "\u001b[32m[I 2023-04-13 11:33:21,159]\u001b[0m Trial 242 finished with value: 0.6391826238910125 and parameters: {'solver_penalty': 'lbfgs_l2', 'C': 0.048455614685455915, 'l1_ratio': 0.8072763047475254}. Best is trial 23 with value: 0.6511821366828551.\u001b[0m\n"
     ]
    },
    {
     "name": "stdout",
     "output_type": "stream",
     "text": [
      "ROC AUC: 0.7827 +/- 0.0717\n"
     ]
    },
    {
     "name": "stderr",
     "output_type": "stream",
     "text": [
      "\u001b[32m[I 2023-04-13 11:33:21,381]\u001b[0m Trial 243 finished with value: 0.6511821366828551 and parameters: {'solver_penalty': 'saga_l1', 'C': 0.014925893886029575, 'l1_ratio': 0.4358365229724498}. Best is trial 23 with value: 0.6511821366828551.\u001b[0m\n",
      "\u001b[32m[I 2023-04-13 11:33:21,578]\u001b[0m Trial 244 finished with value: 0.6511821366828551 and parameters: {'solver_penalty': 'liblinear_l1', 'C': 0.01603337921051189, 'l1_ratio': 0.156476135476551}. Best is trial 23 with value: 0.6511821366828551.\u001b[0m\n"
     ]
    },
    {
     "name": "stdout",
     "output_type": "stream",
     "text": [
      "ROC AUC: 0.7902 +/- 0.0695\n",
      "ROC AUC: 0.7902 +/- 0.0695\n"
     ]
    },
    {
     "name": "stderr",
     "output_type": "stream",
     "text": [
      "\u001b[32m[I 2023-04-13 11:33:21,770]\u001b[0m Trial 245 finished with value: 0.6511821366828551 and parameters: {'solver_penalty': 'liblinear_l1', 'C': 0.011343062669366646, 'l1_ratio': 0.15037294881716728}. Best is trial 23 with value: 0.6511821366828551.\u001b[0m\n",
      "\u001b[32m[I 2023-04-13 11:33:21,952]\u001b[0m Trial 246 finished with value: 0.6511821366828551 and parameters: {'solver_penalty': 'liblinear_l1', 'C': 0.038946371750591686, 'l1_ratio': 0.11282797242275722}. Best is trial 23 with value: 0.6511821366828551.\u001b[0m\n"
     ]
    },
    {
     "name": "stdout",
     "output_type": "stream",
     "text": [
      "ROC AUC: 0.7902 +/- 0.0695\n",
      "ROC AUC: 0.7902 +/- 0.0695\n"
     ]
    },
    {
     "name": "stderr",
     "output_type": "stream",
     "text": [
      "\u001b[32m[I 2023-04-13 11:33:22,135]\u001b[0m Trial 247 finished with value: 0.6511821366828551 and parameters: {'solver_penalty': 'liblinear_l1', 'C': 0.03437606635312552, 'l1_ratio': 0.16881329697054454}. Best is trial 23 with value: 0.6511821366828551.\u001b[0m\n",
      "\u001b[32m[I 2023-04-13 11:33:22,318]\u001b[0m Trial 248 finished with value: 0.6511821366828551 and parameters: {'solver_penalty': 'liblinear_l1', 'C': 0.010856978177549777, 'l1_ratio': 0.12141626490907678}. Best is trial 23 with value: 0.6511821366828551.\u001b[0m\n"
     ]
    },
    {
     "name": "stdout",
     "output_type": "stream",
     "text": [
      "ROC AUC: 0.7902 +/- 0.0695\n",
      "ROC AUC: 0.7902 +/- 0.0695\n"
     ]
    },
    {
     "name": "stderr",
     "output_type": "stream",
     "text": [
      "\u001b[32m[I 2023-04-13 11:33:22,519]\u001b[0m Trial 249 finished with value: 0.6245218907026129 and parameters: {'solver_penalty': 'saga_l2', 'C': 0.007909567503555093, 'l1_ratio': 0.47216653360337807}. Best is trial 23 with value: 0.6511821366828551.\u001b[0m\n",
      "\u001b[32m[I 2023-04-13 11:33:22,707]\u001b[0m Trial 250 finished with value: 0.6511821366828551 and parameters: {'solver_penalty': 'liblinear_l1', 'C': 0.01896264961519804, 'l1_ratio': 0.233367277097216}. Best is trial 23 with value: 0.6511821366828551.\u001b[0m\n"
     ]
    },
    {
     "name": "stdout",
     "output_type": "stream",
     "text": [
      "ROC AUC: 0.7717 +/- 0.0736\n",
      "ROC AUC: 0.7902 +/- 0.0695\n"
     ]
    },
    {
     "name": "stderr",
     "output_type": "stream",
     "text": [
      "\u001b[32m[I 2023-04-13 11:33:22,888]\u001b[0m Trial 251 finished with value: 0.6511821366828551 and parameters: {'solver_penalty': 'liblinear_l1', 'C': 0.011217361528500391, 'l1_ratio': 0.8706877092476627}. Best is trial 23 with value: 0.6511821366828551.\u001b[0m\n"
     ]
    },
    {
     "name": "stdout",
     "output_type": "stream",
     "text": [
      "ROC AUC: 0.7902 +/- 0.0695\n"
     ]
    },
    {
     "name": "stderr",
     "output_type": "stream",
     "text": [
      "\u001b[32m[I 2023-04-13 11:33:23,102]\u001b[0m Trial 252 finished with value: 0.6507264548095848 and parameters: {'solver_penalty': 'liblinear_l1', 'C': 0.07605741501966012, 'l1_ratio': 0.8551257131032066}. Best is trial 23 with value: 0.6511821366828551.\u001b[0m\n",
      "\u001b[32m[I 2023-04-13 11:33:23,303]\u001b[0m Trial 253 finished with value: 0.6511821366828551 and parameters: {'solver_penalty': 'saga_l1', 'C': 0.01741917462737749, 'l1_ratio': 0.05622543299517802}. Best is trial 23 with value: 0.6511821366828551.\u001b[0m\n"
     ]
    },
    {
     "name": "stdout",
     "output_type": "stream",
     "text": [
      "ROC AUC: 0.7900 +/- 0.0696\n",
      "ROC AUC: 0.7902 +/- 0.0695\n"
     ]
    },
    {
     "name": "stderr",
     "output_type": "stream",
     "text": [
      "\u001b[32m[I 2023-04-13 11:33:23,483]\u001b[0m Trial 254 finished with value: 0.6327343223812192 and parameters: {'solver_penalty': 'liblinear_l2', 'C': 0.017157423483499856, 'l1_ratio': 0.3075828801132915}. Best is trial 23 with value: 0.6511821366828551.\u001b[0m\n",
      "\u001b[32m[I 2023-04-13 11:33:23,669]\u001b[0m Trial 255 finished with value: 0.5 and parameters: {'solver_penalty': 'saga_elasticnet', 'C': 0.004241578883025636, 'l1_ratio': 0.5310076933310071}. Best is trial 23 with value: 0.6511821366828551.\u001b[0m\n"
     ]
    },
    {
     "name": "stdout",
     "output_type": "stream",
     "text": [
      "ROC AUC: 0.7783 +/- 0.0728\n",
      "ROC AUC: 0.5000 +/- 0.0000\n"
     ]
    },
    {
     "name": "stderr",
     "output_type": "stream",
     "text": [
      "\u001b[32m[I 2023-04-13 11:33:23,847]\u001b[0m Trial 256 finished with value: 0.6511821366828551 and parameters: {'solver_penalty': 'liblinear_l1', 'C': 0.026359719212487632, 'l1_ratio': 0.1550566317905587}. Best is trial 23 with value: 0.6511821366828551.\u001b[0m\n",
      "\u001b[32m[I 2023-04-13 11:33:24,034]\u001b[0m Trial 257 finished with value: 0.6510753091472412 and parameters: {'solver_penalty': 'liblinear_l1', 'C': 0.051539055494787475, 'l1_ratio': 0.08501699746811724}. Best is trial 23 with value: 0.6511821366828551.\u001b[0m\n"
     ]
    },
    {
     "name": "stdout",
     "output_type": "stream",
     "text": [
      "ROC AUC: 0.7902 +/- 0.0695\n",
      "ROC AUC: 0.7902 +/- 0.0695\n"
     ]
    },
    {
     "name": "stderr",
     "output_type": "stream",
     "text": [
      "\u001b[32m[I 2023-04-13 11:33:24,216]\u001b[0m Trial 258 finished with value: 0.6511821366828551 and parameters: {'solver_penalty': 'liblinear_l1', 'C': 0.02984801444378737, 'l1_ratio': 0.9032381093661691}. Best is trial 23 with value: 0.6511821366828551.\u001b[0m\n",
      "\u001b[32m[I 2023-04-13 11:33:24,404]\u001b[0m Trial 259 finished with value: 0.6511821366828551 and parameters: {'solver_penalty': 'liblinear_l1', 'C': 0.025528896631658506, 'l1_ratio': 0.2507568480456884}. Best is trial 23 with value: 0.6511821366828551.\u001b[0m\n"
     ]
    },
    {
     "name": "stdout",
     "output_type": "stream",
     "text": [
      "ROC AUC: 0.7902 +/- 0.0695\n",
      "ROC AUC: 0.7902 +/- 0.0695\n"
     ]
    },
    {
     "name": "stderr",
     "output_type": "stream",
     "text": [
      "\u001b[32m[I 2023-04-13 11:33:24,582]\u001b[0m Trial 260 finished with value: 0.6511821366828551 and parameters: {'solver_penalty': 'liblinear_l1', 'C': 0.031998756083640396, 'l1_ratio': 0.9101303061013751}. Best is trial 23 with value: 0.6511821366828551.\u001b[0m\n"
     ]
    },
    {
     "name": "stdout",
     "output_type": "stream",
     "text": [
      "ROC AUC: 0.7902 +/- 0.0695\n"
     ]
    },
    {
     "name": "stderr",
     "output_type": "stream",
     "text": [
      "\u001b[32m[I 2023-04-13 11:33:24,862]\u001b[0m Trial 261 finished with value: 0.64289520157143 and parameters: {'solver_penalty': 'lbfgs_none', 'C': 0.011107172749191131, 'l1_ratio': 0.8449966338657161}. Best is trial 23 with value: 0.6511821366828551.\u001b[0m\n",
      "\u001b[32m[I 2023-04-13 11:33:25,076]\u001b[0m Trial 262 finished with value: 0.6511821366828551 and parameters: {'solver_penalty': 'saga_l1', 'C': 0.019687043177007847, 'l1_ratio': 0.38860817564187133}. Best is trial 23 with value: 0.6511821366828551.\u001b[0m\n"
     ]
    },
    {
     "name": "stdout",
     "output_type": "stream",
     "text": [
      "ROC AUC: 0.7853 +/- 0.0712\n",
      "ROC AUC: 0.7902 +/- 0.0695\n"
     ]
    },
    {
     "name": "stderr",
     "output_type": "stream",
     "text": [
      "\u001b[32m[I 2023-04-13 11:33:25,354]\u001b[0m Trial 263 finished with value: 0.6429283933918515 and parameters: {'solver_penalty': 'newton-cholesky_none', 'C': 0.005020756223529131, 'l1_ratio': 0.09388173775738265}. Best is trial 23 with value: 0.6511821366828551.\u001b[0m\n"
     ]
    },
    {
     "name": "stdout",
     "output_type": "stream",
     "text": [
      "ROC AUC: 0.7853 +/- 0.0712\n"
     ]
    },
    {
     "name": "stderr",
     "output_type": "stream",
     "text": [
      "\u001b[32m[I 2023-04-13 11:33:25,617]\u001b[0m Trial 264 finished with value: 0.6511821366828551 and parameters: {'solver_penalty': 'saga_l1', 'C': 0.04370084684966484, 'l1_ratio': 0.9468860808862267}. Best is trial 23 with value: 0.6511821366828551.\u001b[0m\n",
      "\u001b[32m[I 2023-04-13 11:33:25,806]\u001b[0m Trial 265 finished with value: 0.6511821366828551 and parameters: {'solver_penalty': 'liblinear_l1', 'C': 0.011651399091493743, 'l1_ratio': 0.12200921853631883}. Best is trial 23 with value: 0.6511821366828551.\u001b[0m\n"
     ]
    },
    {
     "name": "stdout",
     "output_type": "stream",
     "text": [
      "ROC AUC: 0.7902 +/- 0.0695\n",
      "ROC AUC: 0.7902 +/- 0.0695\n"
     ]
    },
    {
     "name": "stderr",
     "output_type": "stream",
     "text": [
      "\u001b[32m[I 2023-04-13 11:33:25,991]\u001b[0m Trial 266 finished with value: 0.6511821366828551 and parameters: {'solver_penalty': 'liblinear_l1', 'C': 0.027743001921785877, 'l1_ratio': 0.046072912226473584}. Best is trial 23 with value: 0.6511821366828551.\u001b[0m\n",
      "\u001b[32m[I 2023-04-13 11:33:26,175]\u001b[0m Trial 267 finished with value: 0.5 and parameters: {'solver_penalty': 'liblinear_l1', 'C': 0.0037475630044360967, 'l1_ratio': 0.8792135554740634}. Best is trial 23 with value: 0.6511821366828551.\u001b[0m\n"
     ]
    },
    {
     "name": "stdout",
     "output_type": "stream",
     "text": [
      "ROC AUC: 0.7902 +/- 0.0695\n",
      "ROC AUC: 0.5000 +/- 0.0000\n"
     ]
    },
    {
     "name": "stderr",
     "output_type": "stream",
     "text": [
      "\u001b[32m[I 2023-04-13 11:33:26,356]\u001b[0m Trial 268 finished with value: 0.6511821366828551 and parameters: {'solver_penalty': 'liblinear_l1', 'C': 0.03991370756411134, 'l1_ratio': 0.18006103947904448}. Best is trial 23 with value: 0.6511821366828551.\u001b[0m\n"
     ]
    },
    {
     "name": "stdout",
     "output_type": "stream",
     "text": [
      "ROC AUC: 0.7902 +/- 0.0695\n"
     ]
    },
    {
     "name": "stderr",
     "output_type": "stream",
     "text": [
      "\u001b[32m[I 2023-04-13 11:33:26,558]\u001b[0m Trial 269 finished with value: 0.6201036695692026 and parameters: {'solver_penalty': 'sag_l2', 'C': 0.005477581212749847, 'l1_ratio': 0.8100984973952421}. Best is trial 23 with value: 0.6511821366828551.\u001b[0m\n"
     ]
    },
    {
     "name": "stdout",
     "output_type": "stream",
     "text": [
      "ROC AUC: 0.7679 +/- 0.0739\n"
     ]
    },
    {
     "name": "stderr",
     "output_type": "stream",
     "text": [
      "\u001b[32m[I 2023-04-13 11:33:26,785]\u001b[0m Trial 270 finished with value: 0.6511821366828551 and parameters: {'solver_penalty': 'liblinear_l1', 'C': 0.03715132776752354, 'l1_ratio': 0.18975392756756276}. Best is trial 23 with value: 0.6511821366828551.\u001b[0m\n",
      "\u001b[32m[I 2023-04-13 11:33:26,999]\u001b[0m Trial 271 finished with value: 0.6507982438168807 and parameters: {'solver_penalty': 'saga_l1', 'C': 0.06742881319917407, 'l1_ratio': 0.7570119728129807}. Best is trial 23 with value: 0.6511821366828551.\u001b[0m\n"
     ]
    },
    {
     "name": "stdout",
     "output_type": "stream",
     "text": [
      "ROC AUC: 0.7902 +/- 0.0695\n",
      "ROC AUC: 0.7900 +/- 0.0696\n"
     ]
    },
    {
     "name": "stderr",
     "output_type": "stream",
     "text": [
      "\u001b[32m[I 2023-04-13 11:33:27,244]\u001b[0m Trial 272 finished with value: 0.6428991874622355 and parameters: {'solver_penalty': 'sag_none', 'C': 0.03828214098071409, 'l1_ratio': 0.17521704756598963}. Best is trial 23 with value: 0.6511821366828551.\u001b[0m\n"
     ]
    },
    {
     "name": "stdout",
     "output_type": "stream",
     "text": [
      "ROC AUC: 0.7853 +/- 0.0712\n"
     ]
    },
    {
     "name": "stderr",
     "output_type": "stream",
     "text": [
      "\u001b[32m[I 2023-04-13 11:33:27,521]\u001b[0m Trial 273 finished with value: 0.64289520157143 and parameters: {'solver_penalty': 'saga_none', 'C': 0.00015717771187319872, 'l1_ratio': 0.5654895264087417}. Best is trial 23 with value: 0.6511821366828551.\u001b[0m\n"
     ]
    },
    {
     "name": "stdout",
     "output_type": "stream",
     "text": [
      "ROC AUC: 0.7853 +/- 0.0712\n"
     ]
    },
    {
     "name": "stderr",
     "output_type": "stream",
     "text": [
      "\u001b[32m[I 2023-04-13 11:33:27,754]\u001b[0m Trial 274 finished with value: 0.6322736455016876 and parameters: {'solver_penalty': 'saga_elasticnet', 'C': 0.014398086566329318, 'l1_ratio': 0.020992567482311302}. Best is trial 23 with value: 0.6511821366828551.\u001b[0m\n",
      "\u001b[32m[I 2023-04-13 11:33:27,936]\u001b[0m Trial 275 finished with value: 0.3916156793027528 and parameters: {'solver_penalty': 'liblinear_l1', 'C': 0.009306431237245822, 'l1_ratio': 0.22569284254411687}. Best is trial 23 with value: 0.6511821366828551.\u001b[0m\n"
     ]
    },
    {
     "name": "stdout",
     "output_type": "stream",
     "text": [
      "ROC AUC: 0.7773 +/- 0.0725\n",
      "ROC AUC: 0.6475 +/- 0.1279\n"
     ]
    },
    {
     "name": "stderr",
     "output_type": "stream",
     "text": [
      "\u001b[32m[I 2023-04-13 11:33:28,118]\u001b[0m Trial 276 finished with value: 0.6511821366828551 and parameters: {'solver_penalty': 'liblinear_l1', 'C': 0.013423118705544504, 'l1_ratio': 0.8566893342403872}. Best is trial 23 with value: 0.6511821366828551.\u001b[0m\n",
      "\u001b[32m[I 2023-04-13 11:33:28,308]\u001b[0m Trial 277 finished with value: 0.5 and parameters: {'solver_penalty': 'liblinear_l1', 'C': 0.004830898218738935, 'l1_ratio': 0.79563710190978}. Best is trial 23 with value: 0.6511821366828551.\u001b[0m\n"
     ]
    },
    {
     "name": "stdout",
     "output_type": "stream",
     "text": [
      "ROC AUC: 0.7902 +/- 0.0695\n",
      "ROC AUC: 0.5000 +/- 0.0000\n"
     ]
    },
    {
     "name": "stderr",
     "output_type": "stream",
     "text": [
      "\u001b[32m[I 2023-04-13 11:33:28,497]\u001b[0m Trial 278 finished with value: 0.6511821366828551 and parameters: {'solver_penalty': 'liblinear_l1', 'C': 0.01903505309945397, 'l1_ratio': 0.1371665353710581}. Best is trial 23 with value: 0.6511821366828551.\u001b[0m\n"
     ]
    },
    {
     "name": "stdout",
     "output_type": "stream",
     "text": [
      "ROC AUC: 0.7902 +/- 0.0695\n"
     ]
    },
    {
     "name": "stderr",
     "output_type": "stream",
     "text": [
      "\u001b[32m[I 2023-04-13 11:33:28,830]\u001b[0m Trial 279 finished with value: 0.64289520157143 and parameters: {'solver_penalty': 'newton-cg_none', 'C': 0.0020423515442073107, 'l1_ratio': 0.5251327200656435}. Best is trial 23 with value: 0.6511821366828551.\u001b[0m\n"
     ]
    },
    {
     "name": "stdout",
     "output_type": "stream",
     "text": [
      "ROC AUC: 0.7853 +/- 0.0712\n"
     ]
    },
    {
     "name": "stderr",
     "output_type": "stream",
     "text": [
      "\u001b[32m[I 2023-04-13 11:33:29,067]\u001b[0m Trial 280 finished with value: 0.625319755441837 and parameters: {'solver_penalty': 'saga_elasticnet', 'C': 0.007445877525879505, 'l1_ratio': 0.018950902835662482}. Best is trial 23 with value: 0.6511821366828551.\u001b[0m\n",
      "\u001b[32m[I 2023-04-13 11:33:29,264]\u001b[0m Trial 281 finished with value: 0.6511821366828551 and parameters: {'solver_penalty': 'liblinear_l1', 'C': 0.010060516493424548, 'l1_ratio': 0.8296521508884827}. Best is trial 23 with value: 0.6511821366828551.\u001b[0m\n"
     ]
    },
    {
     "name": "stdout",
     "output_type": "stream",
     "text": [
      "ROC AUC: 0.7725 +/- 0.0736\n",
      "ROC AUC: 0.7902 +/- 0.0695\n"
     ]
    },
    {
     "name": "stderr",
     "output_type": "stream",
     "text": [
      "\u001b[32m[I 2023-04-13 11:33:29,464]\u001b[0m Trial 282 finished with value: 0.6334789252256096 and parameters: {'solver_penalty': 'saga_elasticnet', 'C': 0.002878312886074082, 'l1_ratio': 0.08212303356480764}. Best is trial 23 with value: 0.6511821366828551.\u001b[0m\n",
      "\u001b[32m[I 2023-04-13 11:33:29,651]\u001b[0m Trial 283 finished with value: 0.6511821366828551 and parameters: {'solver_penalty': 'liblinear_l1', 'C': 0.017908898179143398, 'l1_ratio': 0.19905916054973094}. Best is trial 23 with value: 0.6511821366828551.\u001b[0m\n"
     ]
    },
    {
     "name": "stdout",
     "output_type": "stream",
     "text": [
      "ROC AUC: 0.7784 +/- 0.0725\n",
      "ROC AUC: 0.7902 +/- 0.0695\n"
     ]
    },
    {
     "name": "stderr",
     "output_type": "stream",
     "text": [
      "\u001b[32m[I 2023-04-13 11:33:29,847]\u001b[0m Trial 284 finished with value: 0.6509327111055813 and parameters: {'solver_penalty': 'saga_l1', 'C': 0.05875908624310274, 'l1_ratio': 0.930992549153942}. Best is trial 23 with value: 0.6511821366828551.\u001b[0m\n",
      "\u001b[32m[I 2023-04-13 11:33:30,049]\u001b[0m Trial 285 finished with value: 0.6503389655903159 and parameters: {'solver_penalty': 'saga_l1', 'C': 0.10115586620911224, 'l1_ratio': 0.006607476696970305}. Best is trial 23 with value: 0.6511821366828551.\u001b[0m\n"
     ]
    },
    {
     "name": "stdout",
     "output_type": "stream",
     "text": [
      "ROC AUC: 0.7901 +/- 0.0696\n",
      "ROC AUC: 0.7897 +/- 0.0697\n"
     ]
    },
    {
     "name": "stderr",
     "output_type": "stream",
     "text": [
      "\u001b[32m[I 2023-04-13 11:33:30,289]\u001b[0m Trial 286 finished with value: 0.6511821366828551 and parameters: {'solver_penalty': 'saga_l1', 'C': 0.025886319369452005, 'l1_ratio': 0.3620047274038703}. Best is trial 23 with value: 0.6511821366828551.\u001b[0m\n"
     ]
    },
    {
     "name": "stdout",
     "output_type": "stream",
     "text": [
      "ROC AUC: 0.7902 +/- 0.0695\n"
     ]
    },
    {
     "name": "stderr",
     "output_type": "stream",
     "text": [
      "\u001b[32m[I 2023-04-13 11:33:30,522]\u001b[0m Trial 287 finished with value: 0.6511821366828551 and parameters: {'solver_penalty': 'saga_l1', 'C': 0.023492017067841445, 'l1_ratio': 0.32674508785377054}. Best is trial 23 with value: 0.6511821366828551.\u001b[0m\n",
      "\u001b[32m[I 2023-04-13 11:33:30,724]\u001b[0m Trial 288 finished with value: 0.6508560281879812 and parameters: {'solver_penalty': 'saga_l1', 'C': 0.06427145201654837, 'l1_ratio': 0.8209737222799168}. Best is trial 23 with value: 0.6511821366828551.\u001b[0m\n"
     ]
    },
    {
     "name": "stdout",
     "output_type": "stream",
     "text": [
      "ROC AUC: 0.7902 +/- 0.0695\n",
      "ROC AUC: 0.7901 +/- 0.0696\n"
     ]
    },
    {
     "name": "stderr",
     "output_type": "stream",
     "text": [
      "\u001b[32m[I 2023-04-13 11:33:30,921]\u001b[0m Trial 289 finished with value: 0.6510753091472412 and parameters: {'solver_penalty': 'saga_l1', 'C': 0.04951943534069217, 'l1_ratio': 0.7053410779639835}. Best is trial 23 with value: 0.6511821366828551.\u001b[0m\n",
      "\u001b[32m[I 2023-04-13 11:33:31,111]\u001b[0m Trial 290 finished with value: 0.6208124711869403 and parameters: {'solver_penalty': 'newton-cholesky_l2', 'C': 0.005738617941529425, 'l1_ratio': 0.7788882604542858}. Best is trial 23 with value: 0.6511821366828551.\u001b[0m\n"
     ]
    },
    {
     "name": "stdout",
     "output_type": "stream",
     "text": [
      "ROC AUC: 0.7902 +/- 0.0695\n",
      "ROC AUC: 0.7685 +/- 0.0738\n"
     ]
    },
    {
     "name": "stderr",
     "output_type": "stream",
     "text": [
      "\u001b[32m[I 2023-04-13 11:33:31,290]\u001b[0m Trial 291 finished with value: 0.6511821366828551 and parameters: {'solver_penalty': 'liblinear_l1', 'C': 0.03424347368884592, 'l1_ratio': 0.062318075040802424}. Best is trial 23 with value: 0.6511821366828551.\u001b[0m\n"
     ]
    },
    {
     "name": "stdout",
     "output_type": "stream",
     "text": [
      "ROC AUC: 0.7902 +/- 0.0695\n"
     ]
    },
    {
     "name": "stderr",
     "output_type": "stream",
     "text": [
      "\u001b[32m[I 2023-04-13 11:33:31,486]\u001b[0m Trial 292 finished with value: 0.621783855651599 and parameters: {'solver_penalty': 'saga_l2', 'C': 0.0061097686533712215, 'l1_ratio': 0.7713122656233026}. Best is trial 23 with value: 0.6511821366828551.\u001b[0m\n",
      "\u001b[32m[I 2023-04-13 11:33:31,686]\u001b[0m Trial 293 finished with value: 0.6506621971858265 and parameters: {'solver_penalty': 'saga_l1', 'C': 0.09531861123082513, 'l1_ratio': 0.8400875079445191}. Best is trial 23 with value: 0.6511821366828551.\u001b[0m\n"
     ]
    },
    {
     "name": "stdout",
     "output_type": "stream",
     "text": [
      "ROC AUC: 0.7689 +/- 0.0736\n",
      "ROC AUC: 0.7898 +/- 0.0696\n"
     ]
    },
    {
     "name": "stderr",
     "output_type": "stream",
     "text": [
      "\u001b[32m[I 2023-04-13 11:33:31,892]\u001b[0m Trial 294 finished with value: 0.6510753091472412 and parameters: {'solver_penalty': 'saga_l1', 'C': 0.0501535235804611, 'l1_ratio': 0.7942889655393337}. Best is trial 23 with value: 0.6511821366828551.\u001b[0m\n"
     ]
    },
    {
     "name": "stdout",
     "output_type": "stream",
     "text": [
      "ROC AUC: 0.7902 +/- 0.0695\n"
     ]
    },
    {
     "name": "stderr",
     "output_type": "stream",
     "text": [
      "\u001b[32m[I 2023-04-13 11:33:32,101]\u001b[0m Trial 295 finished with value: 0.6370061588529545 and parameters: {'solver_penalty': 'lbfgs_l2', 'C': 0.027728238987692926, 'l1_ratio': 0.7381287760621067}. Best is trial 23 with value: 0.6511821366828551.\u001b[0m\n",
      "\u001b[32m[I 2023-04-13 11:33:32,285]\u001b[0m Trial 296 finished with value: 0.6511821366828551 and parameters: {'solver_penalty': 'liblinear_l1', 'C': 0.013085000446211602, 'l1_ratio': 0.2227482737947065}. Best is trial 23 with value: 0.6511821366828551.\u001b[0m\n"
     ]
    },
    {
     "name": "stdout",
     "output_type": "stream",
     "text": [
      "ROC AUC: 0.7813 +/- 0.0722\n",
      "ROC AUC: 0.7902 +/- 0.0695\n"
     ]
    },
    {
     "name": "stderr",
     "output_type": "stream",
     "text": [
      "\u001b[32m[I 2023-04-13 11:33:32,533]\u001b[0m Trial 297 finished with value: 0.6170843680264441 and parameters: {'solver_penalty': 'newton-cg_l2', 'C': 0.0044081877822538945, 'l1_ratio': 0.8980564337315573}. Best is trial 23 with value: 0.6511821366828551.\u001b[0m\n",
      "\u001b[32m[I 2023-04-13 11:33:32,715]\u001b[0m Trial 298 finished with value: 0.49583467265928594 and parameters: {'solver_penalty': 'liblinear_l1', 'C': 0.008561573756169142, 'l1_ratio': 0.10253466326071892}. Best is trial 23 with value: 0.6511821366828551.\u001b[0m\n"
     ]
    },
    {
     "name": "stdout",
     "output_type": "stream",
     "text": [
      "ROC AUC: 0.7659 +/- 0.0744\n",
      "ROC AUC: 0.5002 +/- 0.0022\n"
     ]
    },
    {
     "name": "stderr",
     "output_type": "stream",
     "text": [
      "\u001b[32m[I 2023-04-13 11:33:32,996]\u001b[0m Trial 299 finished with value: 0.64289520157143 and parameters: {'solver_penalty': 'lbfgs_none', 'C': 0.001378827684710327, 'l1_ratio': 0.12841693503108714}. Best is trial 23 with value: 0.6511821366828551.\u001b[0m\n"
     ]
    },
    {
     "name": "stdout",
     "output_type": "stream",
     "text": [
      "ROC AUC: 0.7853 +/- 0.0712\n"
     ]
    },
    {
     "name": "stderr",
     "output_type": "stream",
     "text": [
      "\u001b[32m[I 2023-04-13 11:33:33,302]\u001b[0m Trial 300 finished with value: 0.6429283933918515 and parameters: {'solver_penalty': 'newton-cholesky_none', 'C': 0.015155143277999132, 'l1_ratio': 0.4277461580179606}. Best is trial 23 with value: 0.6511821366828551.\u001b[0m\n"
     ]
    },
    {
     "name": "stdout",
     "output_type": "stream",
     "text": [
      "ROC AUC: 0.7853 +/- 0.0712\n"
     ]
    },
    {
     "name": "stderr",
     "output_type": "stream",
     "text": [
      "\u001b[32m[I 2023-04-13 11:33:33,543]\u001b[0m Trial 301 finished with value: 0.6298669922916986 and parameters: {'solver_penalty': 'saga_elasticnet', 'C': 0.009259799437880542, 'l1_ratio': 0.04189029050166695}. Best is trial 23 with value: 0.6511821366828551.\u001b[0m\n",
      "\u001b[32m[I 2023-04-13 11:33:33,722]\u001b[0m Trial 302 finished with value: 0.6511821366828551 and parameters: {'solver_penalty': 'liblinear_l1', 'C': 0.011190803216643935, 'l1_ratio': 0.9497186594107406}. Best is trial 23 with value: 0.6511821366828551.\u001b[0m\n"
     ]
    },
    {
     "name": "stdout",
     "output_type": "stream",
     "text": [
      "ROC AUC: 0.7762 +/- 0.0732\n",
      "ROC AUC: 0.7902 +/- 0.0695\n"
     ]
    },
    {
     "name": "stderr",
     "output_type": "stream",
     "text": [
      "\u001b[32m[I 2023-04-13 11:33:33,912]\u001b[0m Trial 303 finished with value: 0.5 and parameters: {'solver_penalty': 'saga_elasticnet', 'C': 0.0006340453584811239, 'l1_ratio': 0.08946806162308199}. Best is trial 23 with value: 0.6511821366828551.\u001b[0m\n",
      "\u001b[32m[I 2023-04-13 11:33:34,117]\u001b[0m Trial 304 finished with value: 0.6511821366828551 and parameters: {'solver_penalty': 'saga_l1', 'C': 0.02366800348966638, 'l1_ratio': 0.4820897194236889}. Best is trial 23 with value: 0.6511821366828551.\u001b[0m\n"
     ]
    },
    {
     "name": "stdout",
     "output_type": "stream",
     "text": [
      "ROC AUC: 0.5000 +/- 0.0000\n",
      "ROC AUC: 0.7902 +/- 0.0695\n"
     ]
    },
    {
     "name": "stderr",
     "output_type": "stream",
     "text": [
      "\u001b[32m[I 2023-04-13 11:33:34,330]\u001b[0m Trial 305 finished with value: 0.6481922912414033 and parameters: {'solver_penalty': 'saga_l1', 'C': 0.14529439705138897, 'l1_ratio': 0.8056366148414399}. Best is trial 23 with value: 0.6511821366828551.\u001b[0m\n",
      "\u001b[32m[I 2023-04-13 11:33:34,532]\u001b[0m Trial 306 finished with value: 0.6511821366828551 and parameters: {'solver_penalty': 'saga_l1', 'C': 0.04543886700367346, 'l1_ratio': 0.4677468116191818}. Best is trial 23 with value: 0.6511821366828551.\u001b[0m\n"
     ]
    },
    {
     "name": "stdout",
     "output_type": "stream",
     "text": [
      "ROC AUC: 0.7885 +/- 0.0701\n",
      "ROC AUC: 0.7902 +/- 0.0695\n"
     ]
    },
    {
     "name": "stderr",
     "output_type": "stream",
     "text": [
      "\u001b[32m[I 2023-04-13 11:33:34,775]\u001b[0m Trial 307 finished with value: 0.6348163477082137 and parameters: {'solver_penalty': 'saga_elasticnet', 'C': 0.005605260622537617, 'l1_ratio': 0.11793439322542766}. Best is trial 23 with value: 0.6511821366828551.\u001b[0m\n",
      "\u001b[32m[I 2023-04-13 11:33:34,983]\u001b[0m Trial 308 finished with value: 0.6511821366828551 and parameters: {'solver_penalty': 'liblinear_l1', 'C': 0.03485499982227338, 'l1_ratio': 0.9110700954733344}. Best is trial 23 with value: 0.6511821366828551.\u001b[0m\n"
     ]
    },
    {
     "name": "stdout",
     "output_type": "stream",
     "text": [
      "ROC AUC: 0.7797 +/- 0.0724\n",
      "ROC AUC: 0.7902 +/- 0.0695\n"
     ]
    },
    {
     "name": "stderr",
     "output_type": "stream",
     "text": [
      "\u001b[32m[I 2023-04-13 11:33:35,187]\u001b[0m Trial 309 finished with value: 0.642959884173157 and parameters: {'solver_penalty': 'sag_l2', 'C': 6.762094081090777, 'l1_ratio': 0.5993379061531574}. Best is trial 23 with value: 0.6511821366828551.\u001b[0m\n"
     ]
    },
    {
     "name": "stdout",
     "output_type": "stream",
     "text": [
      "ROC AUC: 0.7853 +/- 0.0712\n"
     ]
    },
    {
     "name": "stderr",
     "output_type": "stream",
     "text": [
      "\u001b[32m[I 2023-04-13 11:33:35,445]\u001b[0m Trial 310 finished with value: 0.64289520157143 and parameters: {'solver_penalty': 'saga_none', 'C': 0.02300745135935371, 'l1_ratio': 0.03688346518011891}. Best is trial 23 with value: 0.6511821366828551.\u001b[0m\n",
      "\u001b[32m[I 2023-04-13 11:33:35,645]\u001b[0m Trial 311 finished with value: 0.6337981809230764 and parameters: {'solver_penalty': 'liblinear_l2', 'C': 0.019417458106050688, 'l1_ratio': 0.4091090585229044}. Best is trial 23 with value: 0.6511821366828551.\u001b[0m\n"
     ]
    },
    {
     "name": "stdout",
     "output_type": "stream",
     "text": [
      "ROC AUC: 0.7853 +/- 0.0712\n",
      "ROC AUC: 0.7793 +/- 0.0727\n"
     ]
    },
    {
     "name": "stderr",
     "output_type": "stream",
     "text": [
      "\u001b[32m[I 2023-04-13 11:33:35,821]\u001b[0m Trial 312 finished with value: 0.5553891790495814 and parameters: {'solver_penalty': 'liblinear_l1', 'C': 0.009631701360399954, 'l1_ratio': 0.1300323650038185}. Best is trial 23 with value: 0.6511821366828551.\u001b[0m\n"
     ]
    },
    {
     "name": "stdout",
     "output_type": "stream",
     "text": [
      "ROC AUC: 0.7540 +/- 0.0993\n"
     ]
    },
    {
     "name": "stderr",
     "output_type": "stream",
     "text": [
      "\u001b[32m[I 2023-04-13 11:33:36,023]\u001b[0m Trial 313 finished with value: 0.49583467265928594 and parameters: {'solver_penalty': 'saga_elasticnet', 'C': 0.0075369017224261245, 'l1_ratio': 0.888372193066823}. Best is trial 23 with value: 0.6511821366828551.\u001b[0m\n"
     ]
    },
    {
     "name": "stdout",
     "output_type": "stream",
     "text": [
      "ROC AUC: 0.5002 +/- 0.0022\n"
     ]
    },
    {
     "name": "stderr",
     "output_type": "stream",
     "text": [
      "\u001b[32m[I 2023-04-13 11:33:36,288]\u001b[0m Trial 314 finished with value: 0.6428991874622355 and parameters: {'solver_penalty': 'sag_none', 'C': 0.003642048436375272, 'l1_ratio': 0.07754991672197634}. Best is trial 23 with value: 0.6511821366828551.\u001b[0m\n"
     ]
    },
    {
     "name": "stdout",
     "output_type": "stream",
     "text": [
      "ROC AUC: 0.7853 +/- 0.0712\n"
     ]
    },
    {
     "name": "stderr",
     "output_type": "stream",
     "text": [
      "\u001b[32m[I 2023-04-13 11:33:36,510]\u001b[0m Trial 315 finished with value: 0.6511821366828551 and parameters: {'solver_penalty': 'liblinear_l1', 'C': 0.014353715632584085, 'l1_ratio': 0.4382776291996038}. Best is trial 23 with value: 0.6511821366828551.\u001b[0m\n"
     ]
    },
    {
     "name": "stdout",
     "output_type": "stream",
     "text": [
      "ROC AUC: 0.7902 +/- 0.0695\n"
     ]
    },
    {
     "name": "stderr",
     "output_type": "stream",
     "text": [
      "\u001b[32m[I 2023-04-13 11:33:36,726]\u001b[0m Trial 316 finished with value: 0.6511821366828551 and parameters: {'solver_penalty': 'saga_l1', 'C': 0.01922570332648687, 'l1_ratio': 0.4031660049713232}. Best is trial 23 with value: 0.6511821366828551.\u001b[0m\n"
     ]
    },
    {
     "name": "stdout",
     "output_type": "stream",
     "text": [
      "ROC AUC: 0.7902 +/- 0.0695\n"
     ]
    },
    {
     "name": "stderr",
     "output_type": "stream",
     "text": [
      "\u001b[32m[I 2023-04-13 11:33:37,068]\u001b[0m Trial 317 finished with value: 0.64289520157143 and parameters: {'solver_penalty': 'newton-cg_none', 'C': 0.07235710729107998, 'l1_ratio': 0.5122963148823422}. Best is trial 23 with value: 0.6511821366828551.\u001b[0m\n"
     ]
    },
    {
     "name": "stdout",
     "output_type": "stream",
     "text": [
      "ROC AUC: 0.7853 +/- 0.0712\n"
     ]
    },
    {
     "name": "stderr",
     "output_type": "stream",
     "text": [
      "\u001b[32m[I 2023-04-13 11:33:37,307]\u001b[0m Trial 318 finished with value: 0.6363064571610274 and parameters: {'solver_penalty': 'newton-cholesky_l2', 'C': 0.025456662749970743, 'l1_ratio': 0.31711062689306624}. Best is trial 23 with value: 0.6511821366828551.\u001b[0m\n"
     ]
    },
    {
     "name": "stdout",
     "output_type": "stream",
     "text": [
      "ROC AUC: 0.7807 +/- 0.0722\n"
     ]
    },
    {
     "name": "stderr",
     "output_type": "stream",
     "text": [
      "\u001b[32m[I 2023-04-13 11:33:37,518]\u001b[0m Trial 319 finished with value: 0.6473373800020761 and parameters: {'solver_penalty': 'saga_elasticnet', 'C': 0.03470588680647506, 'l1_ratio': 0.4901681024271916}. Best is trial 23 with value: 0.6511821366828551.\u001b[0m\n",
      "\u001b[32m[I 2023-04-13 11:33:37,721]\u001b[0m Trial 320 finished with value: 0.6511821366828551 and parameters: {'solver_penalty': 'saga_l1', 'C': 0.026432568293987272, 'l1_ratio': 0.4543904171889056}. Best is trial 23 with value: 0.6511821366828551.\u001b[0m\n"
     ]
    },
    {
     "name": "stdout",
     "output_type": "stream",
     "text": [
      "ROC AUC: 0.7880 +/- 0.0703\n",
      "ROC AUC: 0.7902 +/- 0.0695\n"
     ]
    },
    {
     "name": "stderr",
     "output_type": "stream",
     "text": [
      "\u001b[32m[I 2023-04-13 11:33:37,923]\u001b[0m Trial 321 finished with value: 0.6452167197959828 and parameters: {'solver_penalty': 'saga_elasticnet', 'C': 0.0028827261993655783, 'l1_ratio': 0.14305820747656453}. Best is trial 23 with value: 0.6511821366828551.\u001b[0m\n",
      "\u001b[32m[I 2023-04-13 11:33:38,130]\u001b[0m Trial 322 finished with value: 0.6430244972128745 and parameters: {'solver_penalty': 'saga_l1', 'C': 48.93593641435142, 'l1_ratio': 0.9803184194029637}. Best is trial 23 with value: 0.6511821366828551.\u001b[0m\n"
     ]
    },
    {
     "name": "stdout",
     "output_type": "stream",
     "text": [
      "ROC AUC: 0.7871 +/- 0.0710\n",
      "ROC AUC: 0.7853 +/- 0.0712\n"
     ]
    },
    {
     "name": "stderr",
     "output_type": "stream",
     "text": [
      "\u001b[32m[I 2023-04-13 11:33:38,399]\u001b[0m Trial 323 finished with value: 0.6315842871000705 and parameters: {'solver_penalty': 'newton-cg_l2', 'C': 0.014986312575481527, 'l1_ratio': 0.033311377188415064}. Best is trial 23 with value: 0.6511821366828551.\u001b[0m\n"
     ]
    },
    {
     "name": "stdout",
     "output_type": "stream",
     "text": [
      "ROC AUC: 0.7771 +/- 0.0728\n"
     ]
    },
    {
     "name": "stderr",
     "output_type": "stream",
     "text": [
      "\u001b[32m[I 2023-04-13 11:33:38,621]\u001b[0m Trial 324 finished with value: 0.6453540957140182 and parameters: {'solver_penalty': 'saga_l1', 'C': 0.6278949410430908, 'l1_ratio': 0.3565148848303067}. Best is trial 23 with value: 0.6511821366828551.\u001b[0m\n",
      "\u001b[32m[I 2023-04-13 11:33:38,817]\u001b[0m Trial 325 finished with value: 0.5 and parameters: {'solver_penalty': 'saga_l1', 'C': 0.006471939993606872, 'l1_ratio': 0.8693786240177527}. Best is trial 23 with value: 0.6511821366828551.\u001b[0m\n"
     ]
    },
    {
     "name": "stdout",
     "output_type": "stream",
     "text": [
      "ROC AUC: 0.7865 +/- 0.0706\n",
      "ROC AUC: 0.5000 +/- 0.0000\n"
     ]
    },
    {
     "name": "stderr",
     "output_type": "stream",
     "text": [
      "\u001b[32m[I 2023-04-13 11:33:39,027]\u001b[0m Trial 326 finished with value: 0.6397312880604694 and parameters: {'solver_penalty': 'lbfgs_l2', 'C': 0.06557296648245595, 'l1_ratio': 0.8261495686276595}. Best is trial 23 with value: 0.6511821366828551.\u001b[0m\n",
      "\u001b[32m[I 2023-04-13 11:33:39,207]\u001b[0m Trial 327 finished with value: 0.6511821366828551 and parameters: {'solver_penalty': 'liblinear_l1', 'C': 0.04562378171547306, 'l1_ratio': 0.18276870489559294}. Best is trial 23 with value: 0.6511821366828551.\u001b[0m\n"
     ]
    },
    {
     "name": "stdout",
     "output_type": "stream",
     "text": [
      "ROC AUC: 0.7832 +/- 0.0717\n",
      "ROC AUC: 0.7902 +/- 0.0695\n"
     ]
    },
    {
     "name": "stderr",
     "output_type": "stream",
     "text": [
      "\u001b[32m[I 2023-04-13 11:33:39,411]\u001b[0m Trial 328 finished with value: 0.64289520157143 and parameters: {'solver_penalty': 'saga_elasticnet', 'C': 1126.2465350978841, 'l1_ratio': 0.5396266509959156}. Best is trial 23 with value: 0.6511821366828551.\u001b[0m\n",
      "\u001b[32m[I 2023-04-13 11:33:39,590]\u001b[0m Trial 329 finished with value: 0.6511821366828551 and parameters: {'solver_penalty': 'liblinear_l1', 'C': 0.03823509451462558, 'l1_ratio': 0.20840379310852378}. Best is trial 23 with value: 0.6511821366828551.\u001b[0m\n"
     ]
    },
    {
     "name": "stdout",
     "output_type": "stream",
     "text": [
      "ROC AUC: 0.7853 +/- 0.0712\n",
      "ROC AUC: 0.7902 +/- 0.0695\n"
     ]
    },
    {
     "name": "stderr",
     "output_type": "stream",
     "text": [
      "\u001b[32m[I 2023-04-13 11:33:39,771]\u001b[0m Trial 330 finished with value: 0.6511821366828551 and parameters: {'solver_penalty': 'liblinear_l1', 'C': 0.013643107446536084, 'l1_ratio': 0.2623288599859513}. Best is trial 23 with value: 0.6511821366828551.\u001b[0m\n",
      "\u001b[32m[I 2023-04-13 11:33:39,943]\u001b[0m Trial 331 finished with value: 0.5 and parameters: {'solver_penalty': 'liblinear_l1', 'C': 0.004541117101934009, 'l1_ratio': 0.15301238033117215}. Best is trial 23 with value: 0.6511821366828551.\u001b[0m\n"
     ]
    },
    {
     "name": "stdout",
     "output_type": "stream",
     "text": [
      "ROC AUC: 0.7902 +/- 0.0695\n",
      "ROC AUC: 0.5000 +/- 0.0000\n"
     ]
    },
    {
     "name": "stderr",
     "output_type": "stream",
     "text": [
      "\u001b[32m[I 2023-04-13 11:33:40,129]\u001b[0m Trial 332 finished with value: 0.5 and parameters: {'solver_penalty': 'saga_elasticnet', 'C': 0.007238669069118555, 'l1_ratio': 0.8788808539451203}. Best is trial 23 with value: 0.6511821366828551.\u001b[0m\n",
      "\u001b[32m[I 2023-04-13 11:33:40,330]\u001b[0m Trial 333 finished with value: 0.6119409743478963 and parameters: {'solver_penalty': 'saga_l2', 'C': 0.0031825934997085094, 'l1_ratio': 0.9047627645967661}. Best is trial 23 with value: 0.6511821366828551.\u001b[0m\n"
     ]
    },
    {
     "name": "stdout",
     "output_type": "stream",
     "text": [
      "ROC AUC: 0.5000 +/- 0.0000\n",
      "ROC AUC: 0.7620 +/- 0.0750\n"
     ]
    },
    {
     "name": "stderr",
     "output_type": "stream",
     "text": [
      "\u001b[32m[I 2023-04-13 11:33:40,539]\u001b[0m Trial 334 finished with value: 0.6511821366828551 and parameters: {'solver_penalty': 'saga_l1', 'C': 0.01991469600080518, 'l1_ratio': 0.44119750779949735}. Best is trial 23 with value: 0.6511821366828551.\u001b[0m\n",
      "\u001b[32m[I 2023-04-13 11:33:40,750]\u001b[0m Trial 335 finished with value: 0.6511821366828551 and parameters: {'solver_penalty': 'saga_l1', 'C': 0.028314899970775388, 'l1_ratio': 0.4393516552775649}. Best is trial 23 with value: 0.6511821366828551.\u001b[0m\n"
     ]
    },
    {
     "name": "stdout",
     "output_type": "stream",
     "text": [
      "ROC AUC: 0.7902 +/- 0.0695\n",
      "ROC AUC: 0.7902 +/- 0.0695\n"
     ]
    },
    {
     "name": "stderr",
     "output_type": "stream",
     "text": [
      "\u001b[32m[I 2023-04-13 11:33:40,953]\u001b[0m Trial 336 finished with value: 0.6511821366828551 and parameters: {'solver_penalty': 'saga_l1', 'C': 0.029841000148784765, 'l1_ratio': 0.4442249503733675}. Best is trial 23 with value: 0.6511821366828551.\u001b[0m\n",
      "\u001b[32m[I 2023-04-13 11:33:41,152]\u001b[0m Trial 337 finished with value: 0.6507694521445155 and parameters: {'solver_penalty': 'saga_l1', 'C': 0.08436276158158536, 'l1_ratio': 0.6682426528330674}. Best is trial 23 with value: 0.6511821366828551.\u001b[0m\n"
     ]
    },
    {
     "name": "stdout",
     "output_type": "stream",
     "text": [
      "ROC AUC: 0.7902 +/- 0.0695\n",
      "ROC AUC: 0.7899 +/- 0.0696\n"
     ]
    },
    {
     "name": "stderr",
     "output_type": "stream",
     "text": [
      "\u001b[32m[I 2023-04-13 11:33:41,348]\u001b[0m Trial 338 finished with value: 0.6509620354615258 and parameters: {'solver_penalty': 'saga_l1', 'C': 0.055469699250296045, 'l1_ratio': 0.6247485981931461}. Best is trial 23 with value: 0.6511821366828551.\u001b[0m\n"
     ]
    },
    {
     "name": "stdout",
     "output_type": "stream",
     "text": [
      "ROC AUC: 0.7901 +/- 0.0696\n"
     ]
    },
    {
     "name": "stderr",
     "output_type": "stream",
     "text": [
      "\u001b[32m[I 2023-04-13 11:33:41,582]\u001b[0m Trial 339 finished with value: 0.6511821366828551 and parameters: {'solver_penalty': 'saga_l1', 'C': 0.048562275642184724, 'l1_ratio': 0.7657545559255278}. Best is trial 23 with value: 0.6511821366828551.\u001b[0m\n",
      "\u001b[32m[I 2023-04-13 11:33:41,762]\u001b[0m Trial 340 finished with value: 0.46476643018460273 and parameters: {'solver_penalty': 'liblinear_l1', 'C': 0.009459153372628834, 'l1_ratio': 0.8537413685670614}. Best is trial 23 with value: 0.6511821366828551.\u001b[0m\n"
     ]
    },
    {
     "name": "stdout",
     "output_type": "stream",
     "text": [
      "ROC AUC: 0.7902 +/- 0.0695\n",
      "ROC AUC: 0.7084 +/- 0.1218\n"
     ]
    },
    {
     "name": "stderr",
     "output_type": "stream",
     "text": [
      "\u001b[32m[I 2023-04-13 11:33:42,049]\u001b[0m Trial 341 finished with value: 0.64289520157143 and parameters: {'solver_penalty': 'lbfgs_none', 'C': 0.008022753103706867, 'l1_ratio': 0.7177072221496116}. Best is trial 23 with value: 0.6511821366828551.\u001b[0m\n"
     ]
    },
    {
     "name": "stdout",
     "output_type": "stream",
     "text": [
      "ROC AUC: 0.7853 +/- 0.0712\n"
     ]
    },
    {
     "name": "stderr",
     "output_type": "stream",
     "text": [
      "\u001b[32m[I 2023-04-13 11:33:42,327]\u001b[0m Trial 342 finished with value: 0.6511821366828551 and parameters: {'solver_penalty': 'liblinear_l1', 'C': 0.02004210159244213, 'l1_ratio': 0.888327754489008}. Best is trial 23 with value: 0.6511821366828551.\u001b[0m\n"
     ]
    },
    {
     "name": "stdout",
     "output_type": "stream",
     "text": [
      "ROC AUC: 0.7902 +/- 0.0695\n",
      "ROC AUC: 0.5000 +/- 0.0000\n"
     ]
    },
    {
     "name": "stderr",
     "output_type": "stream",
     "text": [
      "\u001b[32m[I 2023-04-13 11:33:42,518]\u001b[0m Trial 343 finished with value: 0.5 and parameters: {'solver_penalty': 'saga_elasticnet', 'C': 0.0020699221340716068, 'l1_ratio': 0.5721628640632818}. Best is trial 23 with value: 0.6511821366828551.\u001b[0m\n",
      "\u001b[32m[I 2023-04-13 11:33:42,727]\u001b[0m Trial 344 finished with value: 0.6510753091472412 and parameters: {'solver_penalty': 'saga_l1', 'C': 0.05047117889549725, 'l1_ratio': 0.5082011796121185}. Best is trial 23 with value: 0.6511821366828551.\u001b[0m\n",
      "\u001b[32m[I 2023-04-13 11:33:42,928]\u001b[0m Trial 345 finished with value: 0.6506812936189295 and parameters: {'solver_penalty': 'saga_l1', 'C': 0.0923179171553634, 'l1_ratio': 0.4846581278887261}. Best is trial 23 with value: 0.6511821366828551.\u001b[0m\n"
     ]
    },
    {
     "name": "stdout",
     "output_type": "stream",
     "text": [
      "ROC AUC: 0.7902 +/- 0.0695\n",
      "ROC AUC: 0.7899 +/- 0.0696\n"
     ]
    },
    {
     "name": "stderr",
     "output_type": "stream",
     "text": [
      "\u001b[32m[I 2023-04-13 11:33:43,189]\u001b[0m Trial 346 finished with value: 0.6429283933918515 and parameters: {'solver_penalty': 'newton-cholesky_none', 'C': 0.013944524806175074, 'l1_ratio': 0.29453296246594995}. Best is trial 23 with value: 0.6511821366828551.\u001b[0m\n"
     ]
    },
    {
     "name": "stdout",
     "output_type": "stream",
     "text": [
      "ROC AUC: 0.7853 +/- 0.0712\n"
     ]
    },
    {
     "name": "stderr",
     "output_type": "stream",
     "text": [
      "\u001b[32m[I 2023-04-13 11:33:43,430]\u001b[0m Trial 347 finished with value: 0.6511821366828551 and parameters: {'solver_penalty': 'liblinear_l1', 'C': 0.01374492314816107, 'l1_ratio': 0.39081264553224865}. Best is trial 23 with value: 0.6511821366828551.\u001b[0m\n"
     ]
    },
    {
     "name": "stdout",
     "output_type": "stream",
     "text": [
      "ROC AUC: 0.7902 +/- 0.0695\n"
     ]
    },
    {
     "name": "stderr",
     "output_type": "stream",
     "text": [
      "\u001b[32m[I 2023-04-13 11:33:43,663]\u001b[0m Trial 348 finished with value: 0.64289520157143 and parameters: {'solver_penalty': 'saga_none', 'C': 0.005972051979069796, 'l1_ratio': 0.5189728732229677}. Best is trial 23 with value: 0.6511821366828551.\u001b[0m\n"
     ]
    },
    {
     "name": "stdout",
     "output_type": "stream",
     "text": [
      "ROC AUC: 0.7853 +/- 0.0712\n"
     ]
    },
    {
     "name": "stderr",
     "output_type": "stream",
     "text": [
      "\u001b[32m[I 2023-04-13 11:33:43,904]\u001b[0m Trial 349 finished with value: 0.6511821366828551 and parameters: {'solver_penalty': 'liblinear_l1', 'C': 0.030918824609878378, 'l1_ratio': 0.9273631305973785}. Best is trial 23 with value: 0.6511821366828551.\u001b[0m\n"
     ]
    },
    {
     "name": "stdout",
     "output_type": "stream",
     "text": [
      "ROC AUC: 0.7902 +/- 0.0695\n"
     ]
    },
    {
     "name": "stderr",
     "output_type": "stream",
     "text": [
      "\u001b[32m[I 2023-04-13 11:33:44,105]\u001b[0m Trial 350 finished with value: 0.6511821366828551 and parameters: {'solver_penalty': 'saga_l1', 'C': 0.024181470690878188, 'l1_ratio': 0.45416011782959304}. Best is trial 23 with value: 0.6511821366828551.\u001b[0m\n"
     ]
    },
    {
     "name": "stdout",
     "output_type": "stream",
     "text": [
      "ROC AUC: 0.7902 +/- 0.0695\n"
     ]
    },
    {
     "name": "stderr",
     "output_type": "stream",
     "text": [
      "\u001b[32m[I 2023-04-13 11:33:44,304]\u001b[0m Trial 351 finished with value: 0.63430330247108 and parameters: {'solver_penalty': 'liblinear_l2', 'C': 0.02007971679030907, 'l1_ratio': 0.0055615417802599015}. Best is trial 23 with value: 0.6511821366828551.\u001b[0m\n",
      "\u001b[32m[I 2023-04-13 11:33:44,505]\u001b[0m Trial 352 finished with value: 0.6154470721860389 and parameters: {'solver_penalty': 'sag_l2', 'C': 0.0040009994942622005, 'l1_ratio': 0.9563836411936729}. Best is trial 23 with value: 0.6511821366828551.\u001b[0m\n"
     ]
    },
    {
     "name": "stdout",
     "output_type": "stream",
     "text": [
      "ROC AUC: 0.7796 +/- 0.0727\n",
      "ROC AUC: 0.7648 +/- 0.0747\n"
     ]
    },
    {
     "name": "stderr",
     "output_type": "stream",
     "text": [
      "\u001b[32m[I 2023-04-13 11:33:44,710]\u001b[0m Trial 353 finished with value: 0.6347292732066768 and parameters: {'solver_penalty': 'saga_elasticnet', 'C': 0.007088179802912907, 'l1_ratio': 0.112213141010056}. Best is trial 23 with value: 0.6511821366828551.\u001b[0m\n"
     ]
    },
    {
     "name": "stdout",
     "output_type": "stream",
     "text": [
      "ROC AUC: 0.7795 +/- 0.0724\n"
     ]
    },
    {
     "name": "stderr",
     "output_type": "stream",
     "text": [
      "\u001b[32m[I 2023-04-13 11:33:44,959]\u001b[0m Trial 354 finished with value: 0.6428991874622355 and parameters: {'solver_penalty': 'sag_none', 'C': 0.006477099080831294, 'l1_ratio': 0.9507365558134603}. Best is trial 23 with value: 0.6511821366828551.\u001b[0m\n"
     ]
    },
    {
     "name": "stdout",
     "output_type": "stream",
     "text": [
      "ROC AUC: 0.7853 +/- 0.0712\n"
     ]
    },
    {
     "name": "stderr",
     "output_type": "stream",
     "text": [
      "\u001b[32m[I 2023-04-13 11:33:45,198]\u001b[0m Trial 355 finished with value: 0.6511821366828551 and parameters: {'solver_penalty': 'liblinear_l1', 'C': 0.03471007586656614, 'l1_ratio': 0.1587401444664535}. Best is trial 23 with value: 0.6511821366828551.\u001b[0m\n"
     ]
    },
    {
     "name": "stdout",
     "output_type": "stream",
     "text": [
      "ROC AUC: 0.7902 +/- 0.0695\n"
     ]
    },
    {
     "name": "stderr",
     "output_type": "stream",
     "text": [
      "\u001b[32m[I 2023-04-13 11:33:45,411]\u001b[0m Trial 356 finished with value: 0.6511821366828551 and parameters: {'solver_penalty': 'saga_l1', 'C': 0.021798883074482456, 'l1_ratio': 0.29525244999547084}. Best is trial 23 with value: 0.6511821366828551.\u001b[0m\n"
     ]
    },
    {
     "name": "stdout",
     "output_type": "stream",
     "text": [
      "ROC AUC: 0.7902 +/- 0.0695\n"
     ]
    },
    {
     "name": "stderr",
     "output_type": "stream",
     "text": [
      "\u001b[32m[I 2023-04-13 11:33:45,635]\u001b[0m Trial 357 finished with value: 0.6511821366828551 and parameters: {'solver_penalty': 'saga_l1', 'C': 0.032844472639226775, 'l1_ratio': 0.5583590395535872}. Best is trial 23 with value: 0.6511821366828551.\u001b[0m\n"
     ]
    },
    {
     "name": "stdout",
     "output_type": "stream",
     "text": [
      "ROC AUC: 0.7902 +/- 0.0695\n"
     ]
    },
    {
     "name": "stderr",
     "output_type": "stream",
     "text": [
      "\u001b[32m[I 2023-04-13 11:33:45,840]\u001b[0m Trial 358 finished with value: 0.6511821366828551 and parameters: {'solver_penalty': 'saga_l1', 'C': 0.02024405653764297, 'l1_ratio': 0.542970753340522}. Best is trial 23 with value: 0.6511821366828551.\u001b[0m\n"
     ]
    },
    {
     "name": "stdout",
     "output_type": "stream",
     "text": [
      "ROC AUC: 0.7902 +/- 0.0695\n"
     ]
    },
    {
     "name": "stderr",
     "output_type": "stream",
     "text": [
      "\u001b[32m[I 2023-04-13 11:33:46,136]\u001b[0m Trial 359 finished with value: 0.64289520157143 and parameters: {'solver_penalty': 'newton-cg_none', 'C': 0.00465535333229347, 'l1_ratio': 0.5617742389891156}. Best is trial 23 with value: 0.6511821366828551.\u001b[0m\n"
     ]
    },
    {
     "name": "stdout",
     "output_type": "stream",
     "text": [
      "ROC AUC: 0.7853 +/- 0.0712\n"
     ]
    },
    {
     "name": "stderr",
     "output_type": "stream",
     "text": [
      "\u001b[32m[I 2023-04-13 11:33:46,411]\u001b[0m Trial 360 finished with value: 0.6511821366828551 and parameters: {'solver_penalty': 'liblinear_l1', 'C': 0.011278295566338472, 'l1_ratio': 0.869308984519155}. Best is trial 23 with value: 0.6511821366828551.\u001b[0m\n"
     ]
    },
    {
     "name": "stdout",
     "output_type": "stream",
     "text": [
      "ROC AUC: 0.7902 +/- 0.0695\n"
     ]
    },
    {
     "name": "stderr",
     "output_type": "stream",
     "text": [
      "\u001b[32m[I 2023-04-13 11:33:46,696]\u001b[0m Trial 361 finished with value: 0.6370414851534418 and parameters: {'solver_penalty': 'newton-cg_l2', 'C': 0.030858199551167705, 'l1_ratio': 0.5860114492520951}. Best is trial 23 with value: 0.6511821366828551.\u001b[0m\n",
      "\u001b[32m[I 2023-04-13 11:33:46,905]\u001b[0m Trial 362 finished with value: 0.6511821366828551 and parameters: {'solver_penalty': 'saga_elasticnet', 'C': 0.012298126860339572, 'l1_ratio': 0.922707527368519}. Best is trial 23 with value: 0.6511821366828551.\u001b[0m\n"
     ]
    },
    {
     "name": "stdout",
     "output_type": "stream",
     "text": [
      "ROC AUC: 0.7815 +/- 0.0722\n",
      "ROC AUC: 0.7902 +/- 0.0695\n"
     ]
    },
    {
     "name": "stderr",
     "output_type": "stream",
     "text": [
      "\u001b[32m[I 2023-04-13 11:33:47,111]\u001b[0m Trial 363 finished with value: 0.6358863667198852 and parameters: {'solver_penalty': 'newton-cholesky_l2', 'C': 0.024398630521449666, 'l1_ratio': 0.4945067512510858}. Best is trial 23 with value: 0.6511821366828551.\u001b[0m\n"
     ]
    },
    {
     "name": "stdout",
     "output_type": "stream",
     "text": [
      "ROC AUC: 0.7805 +/- 0.0723\n"
     ]
    },
    {
     "name": "stderr",
     "output_type": "stream",
     "text": [
      "\u001b[32m[I 2023-04-13 11:33:47,462]\u001b[0m Trial 364 finished with value: 0.6258218982825366 and parameters: {'solver_penalty': 'saga_elasticnet', 'C': 0.00919060961686325, 'l1_ratio': 0.9272475255093492}. Best is trial 23 with value: 0.6511821366828551.\u001b[0m\n"
     ]
    },
    {
     "name": "stdout",
     "output_type": "stream",
     "text": [
      "ROC AUC: 0.7817 +/- 0.0780\n"
     ]
    },
    {
     "name": "stderr",
     "output_type": "stream",
     "text": [
      "\u001b[32m[I 2023-04-13 11:33:47,683]\u001b[0m Trial 365 finished with value: 0.6323111667409331 and parameters: {'solver_penalty': 'saga_l2', 'C': 0.017041477263358668, 'l1_ratio': 0.37265796855333644}. Best is trial 23 with value: 0.6511821366828551.\u001b[0m\n"
     ]
    },
    {
     "name": "stdout",
     "output_type": "stream",
     "text": [
      "ROC AUC: 0.7781 +/- 0.0729\n"
     ]
    },
    {
     "name": "stderr",
     "output_type": "stream",
     "text": [
      "\u001b[32m[I 2023-04-13 11:33:47,888]\u001b[0m Trial 366 finished with value: 0.6439314532075746 and parameters: {'solver_penalty': 'saga_elasticnet', 'C': 1.179166567587177, 'l1_ratio': 0.4240296546895206}. Best is trial 23 with value: 0.6511821366828551.\u001b[0m\n",
      "\u001b[32m[I 2023-04-13 11:33:48,086]\u001b[0m Trial 367 finished with value: 0.6511821366828551 and parameters: {'solver_penalty': 'saga_l1', 'C': 0.015017190430365833, 'l1_ratio': 0.47194967659428844}. Best is trial 23 with value: 0.6511821366828551.\u001b[0m\n"
     ]
    },
    {
     "name": "stdout",
     "output_type": "stream",
     "text": [
      "ROC AUC: 0.7856 +/- 0.0708\n",
      "ROC AUC: 0.7902 +/- 0.0695\n"
     ]
    },
    {
     "name": "stderr",
     "output_type": "stream",
     "text": [
      "\u001b[32m[I 2023-04-13 11:33:48,292]\u001b[0m Trial 368 finished with value: 0.6276541756319747 and parameters: {'solver_penalty': 'lbfgs_l2', 'C': 0.011523026226235926, 'l1_ratio': 0.4676213450363402}. Best is trial 23 with value: 0.6511821366828551.\u001b[0m\n"
     ]
    },
    {
     "name": "stdout",
     "output_type": "stream",
     "text": [
      "ROC AUC: 0.7749 +/- 0.0736\n"
     ]
    },
    {
     "name": "stderr",
     "output_type": "stream",
     "text": [
      "\u001b[32m[I 2023-04-13 11:33:48,539]\u001b[0m Trial 369 finished with value: 0.64289520157143 and parameters: {'solver_penalty': 'lbfgs_none', 'C': 0.008495152583741564, 'l1_ratio': 0.5117770835296063}. Best is trial 23 with value: 0.6511821366828551.\u001b[0m\n",
      "\u001b[32m[I 2023-04-13 11:33:48,747]\u001b[0m Trial 370 finished with value: 0.6511821366828551 and parameters: {'solver_penalty': 'liblinear_l1', 'C': 0.010356309427645791, 'l1_ratio': 0.8467579294483573}. Best is trial 23 with value: 0.6511821366828551.\u001b[0m\n"
     ]
    },
    {
     "name": "stdout",
     "output_type": "stream",
     "text": [
      "ROC AUC: 0.7853 +/- 0.0712\n",
      "ROC AUC: 0.7902 +/- 0.0695\n"
     ]
    },
    {
     "name": "stderr",
     "output_type": "stream",
     "text": [
      "\u001b[32m[I 2023-04-13 11:33:48,952]\u001b[0m Trial 371 finished with value: 0.6505592804319454 and parameters: {'solver_penalty': 'saga_elasticnet', 'C': 0.010262548279899128, 'l1_ratio': 0.41991744400651615}. Best is trial 23 with value: 0.6511821366828551.\u001b[0m\n"
     ]
    },
    {
     "name": "stdout",
     "output_type": "stream",
     "text": [
      "ROC AUC: 0.7899 +/- 0.0697\n"
     ]
    },
    {
     "name": "stderr",
     "output_type": "stream",
     "text": [
      "\u001b[32m[I 2023-04-13 11:33:49,245]\u001b[0m Trial 372 finished with value: 0.6429283933918515 and parameters: {'solver_penalty': 'newton-cholesky_none', 'C': 5344.643965675335, 'l1_ratio': 0.33343932882458405}. Best is trial 23 with value: 0.6511821366828551.\u001b[0m\n"
     ]
    },
    {
     "name": "stdout",
     "output_type": "stream",
     "text": [
      "ROC AUC: 0.7853 +/- 0.0712\n"
     ]
    },
    {
     "name": "stderr",
     "output_type": "stream",
     "text": [
      "\u001b[32m[I 2023-04-13 11:33:49,488]\u001b[0m Trial 373 finished with value: 0.6511821366828551 and parameters: {'solver_penalty': 'liblinear_l1', 'C': 0.016591761803549623, 'l1_ratio': 0.20620743704260944}. Best is trial 23 with value: 0.6511821366828551.\u001b[0m\n",
      "\u001b[32m[I 2023-04-13 11:33:49,675]\u001b[0m Trial 374 finished with value: 0.6511821366828551 and parameters: {'solver_penalty': 'liblinear_l1', 'C': 0.03797602983731501, 'l1_ratio': 0.2832461283339748}. Best is trial 23 with value: 0.6511821366828551.\u001b[0m\n"
     ]
    },
    {
     "name": "stdout",
     "output_type": "stream",
     "text": [
      "ROC AUC: 0.7902 +/- 0.0695\n",
      "ROC AUC: 0.7902 +/- 0.0695\n"
     ]
    },
    {
     "name": "stderr",
     "output_type": "stream",
     "text": [
      "\u001b[32m[I 2023-04-13 11:33:49,875]\u001b[0m Trial 375 finished with value: 0.6510753091472412 and parameters: {'solver_penalty': 'saga_l1', 'C': 0.05003021773677965, 'l1_ratio': 0.38285128924157}. Best is trial 23 with value: 0.6511821366828551.\u001b[0m\n",
      "\u001b[32m[I 2023-04-13 11:33:50,074]\u001b[0m Trial 376 finished with value: 0.6366824472887553 and parameters: {'solver_penalty': 'sag_l2', 'C': 0.02701251558478223, 'l1_ratio': 0.45719112716345084}. Best is trial 23 with value: 0.6511821366828551.\u001b[0m\n"
     ]
    },
    {
     "name": "stdout",
     "output_type": "stream",
     "text": [
      "ROC AUC: 0.7902 +/- 0.0695\n",
      "ROC AUC: 0.7811 +/- 0.0722\n"
     ]
    },
    {
     "name": "stderr",
     "output_type": "stream",
     "text": [
      "\u001b[32m[I 2023-04-13 11:33:50,285]\u001b[0m Trial 377 finished with value: 0.6509029847331831 and parameters: {'solver_penalty': 'saga_l1', 'C': 0.06124732065641686, 'l1_ratio': 0.06468236412550718}. Best is trial 23 with value: 0.6511821366828551.\u001b[0m\n"
     ]
    },
    {
     "name": "stdout",
     "output_type": "stream",
     "text": [
      "ROC AUC: 0.7901 +/- 0.0696\n"
     ]
    },
    {
     "name": "stderr",
     "output_type": "stream",
     "text": [
      "\u001b[32m[I 2023-04-13 11:33:50,495]\u001b[0m Trial 378 finished with value: 0.6511821366828551 and parameters: {'solver_penalty': 'liblinear_l1', 'C': 0.014652401429096394, 'l1_ratio': 0.4374083376989866}. Best is trial 23 with value: 0.6511821366828551.\u001b[0m\n"
     ]
    },
    {
     "name": "stdout",
     "output_type": "stream",
     "text": [
      "ROC AUC: 0.7902 +/- 0.0695\n"
     ]
    },
    {
     "name": "stderr",
     "output_type": "stream",
     "text": [
      "\u001b[32m[I 2023-04-13 11:33:50,723]\u001b[0m Trial 379 finished with value: 0.6511821366828551 and parameters: {'solver_penalty': 'liblinear_l1', 'C': 0.020384601841213178, 'l1_ratio': 0.27766981464232665}. Best is trial 23 with value: 0.6511821366828551.\u001b[0m\n",
      "\u001b[32m[I 2023-04-13 11:33:50,912]\u001b[0m Trial 380 finished with value: 0.6511821366828551 and parameters: {'solver_penalty': 'liblinear_l1', 'C': 0.01515117600506849, 'l1_ratio': 0.4861205464247491}. Best is trial 23 with value: 0.6511821366828551.\u001b[0m\n"
     ]
    },
    {
     "name": "stdout",
     "output_type": "stream",
     "text": [
      "ROC AUC: 0.7902 +/- 0.0695\n",
      "ROC AUC: 0.7902 +/- 0.0695\n"
     ]
    },
    {
     "name": "stderr",
     "output_type": "stream",
     "text": [
      "\u001b[32m[I 2023-04-13 11:33:51,087]\u001b[0m Trial 381 finished with value: 0.5 and parameters: {'solver_penalty': 'liblinear_l1', 'C': 0.00412603688117929, 'l1_ratio': 0.09378879877786822}. Best is trial 23 with value: 0.6511821366828551.\u001b[0m\n",
      "\u001b[32m[I 2023-04-13 11:33:51,287]\u001b[0m Trial 382 finished with value: 0.6511821366828551 and parameters: {'solver_penalty': 'saga_l1', 'C': 0.021084790480548548, 'l1_ratio': 0.5284031795897813}. Best is trial 23 with value: 0.6511821366828551.\u001b[0m\n"
     ]
    },
    {
     "name": "stdout",
     "output_type": "stream",
     "text": [
      "ROC AUC: 0.5000 +/- 0.0000\n",
      "ROC AUC: 0.7902 +/- 0.0695\n"
     ]
    },
    {
     "name": "stderr",
     "output_type": "stream",
     "text": [
      "\u001b[32m[I 2023-04-13 11:33:51,469]\u001b[0m Trial 383 finished with value: 0.6369510995223595 and parameters: {'solver_penalty': 'liblinear_l2', 'C': 0.027049074708615225, 'l1_ratio': 0.2382473323230429}. Best is trial 23 with value: 0.6511821366828551.\u001b[0m\n",
      "\u001b[32m[I 2023-04-13 11:33:51,650]\u001b[0m Trial 384 finished with value: 0.5 and parameters: {'solver_penalty': 'saga_elasticnet', 'C': 0.0003443726536163336, 'l1_ratio': 0.5250427994842697}. Best is trial 23 with value: 0.6511821366828551.\u001b[0m\n"
     ]
    },
    {
     "name": "stdout",
     "output_type": "stream",
     "text": [
      "ROC AUC: 0.7812 +/- 0.0721\n",
      "ROC AUC: 0.5000 +/- 0.0000\n"
     ]
    },
    {
     "name": "stderr",
     "output_type": "stream",
     "text": [
      "\u001b[32m[I 2023-04-13 11:33:51,851]\u001b[0m Trial 385 finished with value: 0.6511821366828551 and parameters: {'solver_penalty': 'saga_l1', 'C': 0.03630036897581034, 'l1_ratio': 0.547072064745791}. Best is trial 23 with value: 0.6511821366828551.\u001b[0m\n",
      "\u001b[32m[I 2023-04-13 11:33:52,055]\u001b[0m Trial 386 finished with value: 0.6511821366828551 and parameters: {'solver_penalty': 'saga_l1', 'C': 0.016961904191938916, 'l1_ratio': 0.4748567520498823}. Best is trial 23 with value: 0.6511821366828551.\u001b[0m\n"
     ]
    },
    {
     "name": "stdout",
     "output_type": "stream",
     "text": [
      "ROC AUC: 0.7902 +/- 0.0695\n",
      "ROC AUC: 0.7902 +/- 0.0695\n"
     ]
    },
    {
     "name": "stderr",
     "output_type": "stream",
     "text": [
      "\u001b[32m[I 2023-04-13 11:33:52,233]\u001b[0m Trial 387 finished with value: 0.5 and parameters: {'solver_penalty': 'liblinear_l1', 'C': 0.005803370399435428, 'l1_ratio': 0.33560670197707504}. Best is trial 23 with value: 0.6511821366828551.\u001b[0m\n",
      "\u001b[32m[I 2023-04-13 11:33:52,409]\u001b[0m Trial 388 finished with value: 0.6511821366828551 and parameters: {'solver_penalty': 'liblinear_l1', 'C': 0.04240069069916002, 'l1_ratio': 0.9707648160278292}. Best is trial 23 with value: 0.6511821366828551.\u001b[0m\n"
     ]
    },
    {
     "name": "stdout",
     "output_type": "stream",
     "text": [
      "ROC AUC: 0.5000 +/- 0.0000\n",
      "ROC AUC: 0.7902 +/- 0.0695\n"
     ]
    },
    {
     "name": "stderr",
     "output_type": "stream",
     "text": [
      "\u001b[32m[I 2023-04-13 11:33:52,616]\u001b[0m Trial 389 finished with value: 0.6511821366828551 and parameters: {'solver_penalty': 'saga_l1', 'C': 0.031546997022742586, 'l1_ratio': 0.27559592179712505}. Best is trial 23 with value: 0.6511821366828551.\u001b[0m\n",
      "\u001b[32m[I 2023-04-13 11:33:52,802]\u001b[0m Trial 390 finished with value: 0.6511821366828551 and parameters: {'solver_penalty': 'liblinear_l1', 'C': 0.043394303831391756, 'l1_ratio': 0.9681467989890512}. Best is trial 23 with value: 0.6511821366828551.\u001b[0m\n"
     ]
    },
    {
     "name": "stdout",
     "output_type": "stream",
     "text": [
      "ROC AUC: 0.7902 +/- 0.0695\n",
      "ROC AUC: 0.7902 +/- 0.0695\n"
     ]
    },
    {
     "name": "stderr",
     "output_type": "stream",
     "text": [
      "\u001b[32m[I 2023-04-13 11:33:53,001]\u001b[0m Trial 391 finished with value: 0.6511821366828551 and parameters: {'solver_penalty': 'saga_l1', 'C': 0.024278820713331768, 'l1_ratio': 0.2806117177908559}. Best is trial 23 with value: 0.6511821366828551.\u001b[0m\n",
      "\u001b[32m[I 2023-04-13 11:33:53,179]\u001b[0m Trial 392 finished with value: 0.6511821366828551 and parameters: {'solver_penalty': 'liblinear_l1', 'C': 0.021881504409803545, 'l1_ratio': 0.23438290050623306}. Best is trial 23 with value: 0.6511821366828551.\u001b[0m\n"
     ]
    },
    {
     "name": "stdout",
     "output_type": "stream",
     "text": [
      "ROC AUC: 0.7902 +/- 0.0695\n",
      "ROC AUC: 0.7902 +/- 0.0695\n"
     ]
    },
    {
     "name": "stderr",
     "output_type": "stream",
     "text": [
      "\u001b[32m[I 2023-04-13 11:33:53,380]\u001b[0m Trial 393 finished with value: 0.6507990452548229 and parameters: {'solver_penalty': 'saga_elasticnet', 'C': 0.007858715206118078, 'l1_ratio': 0.36618677111843373}. Best is trial 23 with value: 0.6511821366828551.\u001b[0m\n",
      "\u001b[32m[I 2023-04-13 11:33:53,559]\u001b[0m Trial 394 finished with value: 0.6511821366828551 and parameters: {'solver_penalty': 'liblinear_l1', 'C': 0.012251729302735442, 'l1_ratio': 0.9922394234634137}. Best is trial 23 with value: 0.6511821366828551.\u001b[0m\n"
     ]
    },
    {
     "name": "stdout",
     "output_type": "stream",
     "text": [
      "ROC AUC: 0.7901 +/- 0.0696\n",
      "ROC AUC: 0.7902 +/- 0.0695\n"
     ]
    },
    {
     "name": "stderr",
     "output_type": "stream",
     "text": [
      "\u001b[32m[I 2023-04-13 11:33:53,791]\u001b[0m Trial 395 finished with value: 0.64289520157143 and parameters: {'solver_penalty': 'saga_none', 'C': 0.009308709595844669, 'l1_ratio': 0.9928842736261199}. Best is trial 23 with value: 0.6511821366828551.\u001b[0m\n"
     ]
    },
    {
     "name": "stdout",
     "output_type": "stream",
     "text": [
      "ROC AUC: 0.7853 +/- 0.0712\n"
     ]
    },
    {
     "name": "stderr",
     "output_type": "stream",
     "text": [
      "\u001b[32m[I 2023-04-13 11:33:54,112]\u001b[0m Trial 396 finished with value: 0.6399504349403645 and parameters: {'solver_penalty': 'newton-cg_l2', 'C': 0.0684784428668305, 'l1_ratio': 0.14155185564414485}. Best is trial 23 with value: 0.6511821366828551.\u001b[0m\n",
      "\u001b[32m[I 2023-04-13 11:33:54,304]\u001b[0m Trial 397 finished with value: 0.5 and parameters: {'solver_penalty': 'saga_elasticnet', 'C': 0.0034717873235001542, 'l1_ratio': 0.7510996558494959}. Best is trial 23 with value: 0.6511821366828551.\u001b[0m\n"
     ]
    },
    {
     "name": "stdout",
     "output_type": "stream",
     "text": [
      "ROC AUC: 0.7834 +/- 0.0717\n",
      "ROC AUC: 0.5000 +/- 0.0000\n"
     ]
    },
    {
     "name": "stderr",
     "output_type": "stream",
     "text": [
      "\u001b[32m[I 2023-04-13 11:33:54,543]\u001b[0m Trial 398 finished with value: 0.6428991874622355 and parameters: {'solver_penalty': 'sag_none', 'C': 0.01311619945446823, 'l1_ratio': 0.1752638507349644}. Best is trial 23 with value: 0.6511821366828551.\u001b[0m\n",
      "\u001b[32m[I 2023-04-13 11:33:54,740]\u001b[0m Trial 399 finished with value: 0.6511821366828551 and parameters: {'solver_penalty': 'liblinear_l1', 'C': 0.011630447602028481, 'l1_ratio': 0.09849517632022359}. Best is trial 23 with value: 0.6511821366828551.\u001b[0m\n"
     ]
    },
    {
     "name": "stdout",
     "output_type": "stream",
     "text": [
      "ROC AUC: 0.7853 +/- 0.0712\n",
      "ROC AUC: 0.7902 +/- 0.0695\n"
     ]
    },
    {
     "name": "stderr",
     "output_type": "stream",
     "text": [
      "\u001b[32m[I 2023-04-13 11:33:54,930]\u001b[0m Trial 400 finished with value: 0.6511821366828551 and parameters: {'solver_penalty': 'liblinear_l1', 'C': 0.017810697174653268, 'l1_ratio': 0.19485457051924732}. Best is trial 23 with value: 0.6511821366828551.\u001b[0m\n",
      "\u001b[32m[I 2023-04-13 11:33:55,121]\u001b[0m Trial 401 finished with value: 0.6511821366828551 and parameters: {'solver_penalty': 'liblinear_l1', 'C': 0.020514413748651424, 'l1_ratio': 0.25926704001559875}. Best is trial 23 with value: 0.6511821366828551.\u001b[0m\n"
     ]
    },
    {
     "name": "stdout",
     "output_type": "stream",
     "text": [
      "ROC AUC: 0.7902 +/- 0.0695\n",
      "ROC AUC: 0.7902 +/- 0.0695\n"
     ]
    },
    {
     "name": "stderr",
     "output_type": "stream",
     "text": [
      "\u001b[32m[I 2023-04-13 11:33:55,305]\u001b[0m Trial 402 finished with value: 0.6511821366828551 and parameters: {'solver_penalty': 'liblinear_l1', 'C': 0.025598172787240907, 'l1_ratio': 0.19455506208504403}. Best is trial 23 with value: 0.6511821366828551.\u001b[0m\n",
      "\u001b[32m[I 2023-04-13 11:33:55,521]\u001b[0m Trial 403 finished with value: 0.6511821366828551 and parameters: {'solver_penalty': 'liblinear_l1', 'C': 0.014649914561280885, 'l1_ratio': 0.16871131778473278}. Best is trial 23 with value: 0.6511821366828551.\u001b[0m\n"
     ]
    },
    {
     "name": "stdout",
     "output_type": "stream",
     "text": [
      "ROC AUC: 0.7902 +/- 0.0695\n",
      "ROC AUC: 0.7902 +/- 0.0695\n"
     ]
    },
    {
     "name": "stderr",
     "output_type": "stream",
     "text": [
      "\u001b[32m[I 2023-04-13 11:33:55,713]\u001b[0m Trial 404 finished with value: 0.6511821366828551 and parameters: {'solver_penalty': 'liblinear_l1', 'C': 0.011135357466313056, 'l1_ratio': 0.16142431518234251}. Best is trial 23 with value: 0.6511821366828551.\u001b[0m\n",
      "\u001b[32m[I 2023-04-13 11:33:55,890]\u001b[0m Trial 405 finished with value: 0.6511821366828551 and parameters: {'solver_penalty': 'liblinear_l1', 'C': 0.016329524618724445, 'l1_ratio': 0.1859925370601087}. Best is trial 23 with value: 0.6511821366828551.\u001b[0m\n"
     ]
    },
    {
     "name": "stdout",
     "output_type": "stream",
     "text": [
      "ROC AUC: 0.7902 +/- 0.0695\n",
      "ROC AUC: 0.7902 +/- 0.0695\n"
     ]
    },
    {
     "name": "stderr",
     "output_type": "stream",
     "text": [
      "\u001b[32m[I 2023-04-13 11:33:56,091]\u001b[0m Trial 406 finished with value: 0.6511821366828551 and parameters: {'solver_penalty': 'liblinear_l1', 'C': 0.014900173178536228, 'l1_ratio': 0.24366566999352635}. Best is trial 23 with value: 0.6511821366828551.\u001b[0m\n"
     ]
    },
    {
     "name": "stdout",
     "output_type": "stream",
     "text": [
      "ROC AUC: 0.7902 +/- 0.0695\n"
     ]
    },
    {
     "name": "stderr",
     "output_type": "stream",
     "text": [
      "\u001b[32m[I 2023-04-13 11:33:56,301]\u001b[0m Trial 407 finished with value: 0.6511821366828551 and parameters: {'solver_penalty': 'liblinear_l1', 'C': 0.014647758221300008, 'l1_ratio': 0.18553179358121435}. Best is trial 23 with value: 0.6511821366828551.\u001b[0m\n"
     ]
    },
    {
     "name": "stdout",
     "output_type": "stream",
     "text": [
      "ROC AUC: 0.7902 +/- 0.0695\n"
     ]
    },
    {
     "name": "stderr",
     "output_type": "stream",
     "text": [
      "\u001b[32m[I 2023-04-13 11:33:56,534]\u001b[0m Trial 408 finished with value: 0.6511821366828551 and parameters: {'solver_penalty': 'liblinear_l1', 'C': 0.013640615297071305, 'l1_ratio': 0.24167660001239516}. Best is trial 23 with value: 0.6511821366828551.\u001b[0m\n"
     ]
    },
    {
     "name": "stdout",
     "output_type": "stream",
     "text": [
      "ROC AUC: 0.7902 +/- 0.0695\n"
     ]
    },
    {
     "name": "stderr",
     "output_type": "stream",
     "text": [
      "\u001b[32m[I 2023-04-13 11:33:56,763]\u001b[0m Trial 409 finished with value: 0.643726750226545 and parameters: {'solver_penalty': 'liblinear_l1', 'C': 3.356159523820596, 'l1_ratio': 0.15621577363137956}. Best is trial 23 with value: 0.6511821366828551.\u001b[0m\n"
     ]
    },
    {
     "name": "stdout",
     "output_type": "stream",
     "text": [
      "ROC AUC: 0.7856 +/- 0.0710\n"
     ]
    },
    {
     "name": "stderr",
     "output_type": "stream",
     "text": [
      "\u001b[32m[I 2023-04-13 11:33:57,018]\u001b[0m Trial 410 finished with value: 0.46795027020005325 and parameters: {'solver_penalty': 'saga_l1', 'C': 0.009475597053575785, 'l1_ratio': 0.3936156083859063}. Best is trial 23 with value: 0.6511821366828551.\u001b[0m\n"
     ]
    },
    {
     "name": "stdout",
     "output_type": "stream",
     "text": [
      "ROC AUC: 0.7098 +/- 0.1209\n"
     ]
    },
    {
     "name": "stderr",
     "output_type": "stream",
     "text": [
      "\u001b[32m[I 2023-04-13 11:33:57,367]\u001b[0m Trial 411 finished with value: 0.64289520157143 and parameters: {'solver_penalty': 'newton-cg_none', 'C': 0.004866216474958809, 'l1_ratio': 0.9417163486614649}. Best is trial 23 with value: 0.6511821366828551.\u001b[0m\n"
     ]
    },
    {
     "name": "stdout",
     "output_type": "stream",
     "text": [
      "ROC AUC: 0.7853 +/- 0.0712\n"
     ]
    },
    {
     "name": "stderr",
     "output_type": "stream",
     "text": [
      "\u001b[32m[I 2023-04-13 11:33:57,646]\u001b[0m Trial 412 finished with value: 0.5 and parameters: {'solver_penalty': 'saga_elasticnet', 'C': 0.002974597850170537, 'l1_ratio': 0.6476614614890542}. Best is trial 23 with value: 0.6511821366828551.\u001b[0m\n"
     ]
    },
    {
     "name": "stdout",
     "output_type": "stream",
     "text": [
      "ROC AUC: 0.5000 +/- 0.0000\n"
     ]
    },
    {
     "name": "stderr",
     "output_type": "stream",
     "text": [
      "\u001b[32m[I 2023-04-13 11:33:57,918]\u001b[0m Trial 413 finished with value: 0.6245425390673112 and parameters: {'solver_penalty': 'saga_l2', 'C': 0.007857845718334467, 'l1_ratio': 0.03622011724048714}. Best is trial 23 with value: 0.6511821366828551.\u001b[0m\n"
     ]
    },
    {
     "name": "stdout",
     "output_type": "stream",
     "text": [
      "ROC AUC: 0.7716 +/- 0.0736\n"
     ]
    },
    {
     "name": "stderr",
     "output_type": "stream",
     "text": [
      "\u001b[32m[I 2023-04-13 11:33:58,174]\u001b[0m Trial 414 finished with value: 0.6228822531230609 and parameters: {'solver_penalty': 'newton-cholesky_l2', 'C': 0.006682306936586944, 'l1_ratio': 0.2979588676391382}. Best is trial 23 with value: 0.6511821366828551.\u001b[0m\n"
     ]
    },
    {
     "name": "stdout",
     "output_type": "stream",
     "text": [
      "ROC AUC: 0.7699 +/- 0.0735\n"
     ]
    },
    {
     "name": "stderr",
     "output_type": "stream",
     "text": [
      "\u001b[32m[I 2023-04-13 11:33:58,458]\u001b[0m Trial 415 finished with value: 0.6380803087351381 and parameters: {'solver_penalty': 'lbfgs_l2', 'C': 0.03612544793764853, 'l1_ratio': 0.5096978616728725}. Best is trial 23 with value: 0.6511821366828551.\u001b[0m\n"
     ]
    },
    {
     "name": "stdout",
     "output_type": "stream",
     "text": [
      "ROC AUC: 0.7819 +/- 0.0719\n"
     ]
    },
    {
     "name": "stderr",
     "output_type": "stream",
     "text": [
      "\u001b[32m[I 2023-04-13 11:33:58,727]\u001b[0m Trial 416 finished with value: 0.6511821366828551 and parameters: {'solver_penalty': 'saga_l1', 'C': 0.029516271327279693, 'l1_ratio': 0.5707883680654311}. Best is trial 23 with value: 0.6511821366828551.\u001b[0m\n"
     ]
    },
    {
     "name": "stdout",
     "output_type": "stream",
     "text": [
      "ROC AUC: 0.7902 +/- 0.0695\n"
     ]
    },
    {
     "name": "stderr",
     "output_type": "stream",
     "text": [
      "\u001b[32m[I 2023-04-13 11:33:58,982]\u001b[0m Trial 417 finished with value: 0.650175343135436 and parameters: {'solver_penalty': 'liblinear_l1', 'C': 0.10518444252868568, 'l1_ratio': 0.11796363452082796}. Best is trial 23 with value: 0.6511821366828551.\u001b[0m\n"
     ]
    },
    {
     "name": "stdout",
     "output_type": "stream",
     "text": [
      "ROC AUC: 0.7896 +/- 0.0697\n"
     ]
    },
    {
     "name": "stderr",
     "output_type": "stream",
     "text": [
      "\u001b[32m[I 2023-04-13 11:33:59,228]\u001b[0m Trial 418 finished with value: 0.6511821366828551 and parameters: {'solver_penalty': 'liblinear_l1', 'C': 0.04509827379028799, 'l1_ratio': 0.21759824476866027}. Best is trial 23 with value: 0.6511821366828551.\u001b[0m\n"
     ]
    },
    {
     "name": "stdout",
     "output_type": "stream",
     "text": [
      "ROC AUC: 0.7902 +/- 0.0695\n"
     ]
    },
    {
     "name": "stderr",
     "output_type": "stream",
     "text": [
      "\u001b[32m[I 2023-04-13 11:33:59,452]\u001b[0m Trial 419 finished with value: 0.6511821366828551 and parameters: {'solver_penalty': 'liblinear_l1', 'C': 0.012481308272653683, 'l1_ratio': 0.14114367950862447}. Best is trial 23 with value: 0.6511821366828551.\u001b[0m\n"
     ]
    },
    {
     "name": "stdout",
     "output_type": "stream",
     "text": [
      "ROC AUC: 0.7902 +/- 0.0695\n"
     ]
    },
    {
     "name": "stderr",
     "output_type": "stream",
     "text": [
      "\u001b[32m[I 2023-04-13 11:33:59,675]\u001b[0m Trial 420 finished with value: 0.6511821366828551 and parameters: {'solver_penalty': 'liblinear_l1', 'C': 0.021941094319890588, 'l1_ratio': 0.21750966085743176}. Best is trial 23 with value: 0.6511821366828551.\u001b[0m\n"
     ]
    },
    {
     "name": "stdout",
     "output_type": "stream",
     "text": [
      "ROC AUC: 0.7902 +/- 0.0695\n"
     ]
    },
    {
     "name": "stderr",
     "output_type": "stream",
     "text": [
      "\u001b[32m[I 2023-04-13 11:33:59,968]\u001b[0m Trial 421 finished with value: 0.64289520157143 and parameters: {'solver_penalty': 'lbfgs_none', 'C': 0.022294263837390485, 'l1_ratio': 0.2707293709169682}. Best is trial 23 with value: 0.6511821366828551.\u001b[0m\n"
     ]
    },
    {
     "name": "stdout",
     "output_type": "stream",
     "text": [
      "ROC AUC: 0.7853 +/- 0.0712\n"
     ]
    },
    {
     "name": "stderr",
     "output_type": "stream",
     "text": [
      "\u001b[32m[I 2023-04-13 11:34:00,276]\u001b[0m Trial 422 finished with value: 0.6511821366828551 and parameters: {'solver_penalty': 'saga_l1', 'C': 0.021387210180893342, 'l1_ratio': 0.4860118003895662}. Best is trial 23 with value: 0.6511821366828551.\u001b[0m\n"
     ]
    },
    {
     "name": "stdout",
     "output_type": "stream",
     "text": [
      "ROC AUC: 0.7902 +/- 0.0695\n"
     ]
    },
    {
     "name": "stderr",
     "output_type": "stream",
     "text": [
      "\u001b[32m[I 2023-04-13 11:34:00,519]\u001b[0m Trial 423 finished with value: 0.6511821366828551 and parameters: {'solver_penalty': 'liblinear_l1', 'C': 0.01066062591276454, 'l1_ratio': 0.13138288141668084}. Best is trial 23 with value: 0.6511821366828551.\u001b[0m\n"
     ]
    },
    {
     "name": "stdout",
     "output_type": "stream",
     "text": [
      "ROC AUC: 0.7902 +/- 0.0695\n"
     ]
    },
    {
     "name": "stderr",
     "output_type": "stream",
     "text": [
      "\u001b[32m[I 2023-04-13 11:34:00,759]\u001b[0m Trial 424 finished with value: 0.6511821366828551 and parameters: {'solver_penalty': 'liblinear_l1', 'C': 0.017207190135478636, 'l1_ratio': 0.15097615821613136}. Best is trial 23 with value: 0.6511821366828551.\u001b[0m\n"
     ]
    },
    {
     "name": "stdout",
     "output_type": "stream",
     "text": [
      "ROC AUC: 0.7902 +/- 0.0695\n"
     ]
    },
    {
     "name": "stderr",
     "output_type": "stream",
     "text": [
      "\u001b[32m[I 2023-04-13 11:34:01,150]\u001b[0m Trial 425 finished with value: 0.6429283933918515 and parameters: {'solver_penalty': 'newton-cholesky_none', 'C': 210.95962268111057, 'l1_ratio': 0.07247786846058273}. Best is trial 23 with value: 0.6511821366828551.\u001b[0m\n"
     ]
    },
    {
     "name": "stdout",
     "output_type": "stream",
     "text": [
      "ROC AUC: 0.7853 +/- 0.0712\n"
     ]
    },
    {
     "name": "stderr",
     "output_type": "stream",
     "text": [
      "\u001b[32m[I 2023-04-13 11:34:01,453]\u001b[0m Trial 426 finished with value: 0.6079405990204887 and parameters: {'solver_penalty': 'sag_l2', 'C': 0.0023467189261451894, 'l1_ratio': 0.7954913204467363}. Best is trial 23 with value: 0.6511821366828551.\u001b[0m\n"
     ]
    },
    {
     "name": "stdout",
     "output_type": "stream",
     "text": [
      "ROC AUC: 0.7588 +/- 0.0754\n"
     ]
    },
    {
     "name": "stderr",
     "output_type": "stream",
     "text": [
      "\u001b[32m[I 2023-04-13 11:34:01,756]\u001b[0m Trial 427 finished with value: 0.6511821366828551 and parameters: {'solver_penalty': 'saga_l1', 'C': 0.018035057018503515, 'l1_ratio': 0.061042078499114125}. Best is trial 23 with value: 0.6511821366828551.\u001b[0m\n"
     ]
    },
    {
     "name": "stdout",
     "output_type": "stream",
     "text": [
      "ROC AUC: 0.7902 +/- 0.0695\n"
     ]
    },
    {
     "name": "stderr",
     "output_type": "stream",
     "text": [
      "\u001b[32m[I 2023-04-13 11:34:02,039]\u001b[0m Trial 428 finished with value: 0.6511821366828551 and parameters: {'solver_penalty': 'liblinear_l1', 'C': 0.010091609273065912, 'l1_ratio': 0.02796440804189344}. Best is trial 23 with value: 0.6511821366828551.\u001b[0m\n"
     ]
    },
    {
     "name": "stdout",
     "output_type": "stream",
     "text": [
      "ROC AUC: 0.7902 +/- 0.0695\n"
     ]
    },
    {
     "name": "stderr",
     "output_type": "stream",
     "text": [
      "\u001b[32m[I 2023-04-13 11:34:02,305]\u001b[0m Trial 429 finished with value: 0.6511821366828551 and parameters: {'solver_penalty': 'saga_elasticnet', 'C': 0.005058208170865124, 'l1_ratio': 0.434013312332864}. Best is trial 23 with value: 0.6511821366828551.\u001b[0m\n"
     ]
    },
    {
     "name": "stdout",
     "output_type": "stream",
     "text": [
      "ROC AUC: 0.7902 +/- 0.0695\n"
     ]
    },
    {
     "name": "stderr",
     "output_type": "stream",
     "text": [
      "\u001b[32m[I 2023-04-13 11:34:02,608]\u001b[0m Trial 430 finished with value: 0.6511821366828551 and parameters: {'solver_penalty': 'saga_elasticnet', 'C': 0.004898447538721193, 'l1_ratio': 0.42881926709358603}. Best is trial 23 with value: 0.6511821366828551.\u001b[0m\n"
     ]
    },
    {
     "name": "stdout",
     "output_type": "stream",
     "text": [
      "ROC AUC: 0.7902 +/- 0.0695\n"
     ]
    },
    {
     "name": "stderr",
     "output_type": "stream",
     "text": [
      "\u001b[32m[I 2023-04-13 11:34:02,869]\u001b[0m Trial 431 finished with value: 0.6511821366828551 and parameters: {'solver_penalty': 'liblinear_l1', 'C': 0.02930314938302672, 'l1_ratio': 0.913690549698167}. Best is trial 23 with value: 0.6511821366828551.\u001b[0m\n"
     ]
    },
    {
     "name": "stdout",
     "output_type": "stream",
     "text": [
      "ROC AUC: 0.7902 +/- 0.0695\n"
     ]
    },
    {
     "name": "stderr",
     "output_type": "stream",
     "text": [
      "\u001b[32m[I 2023-04-13 11:34:03,126]\u001b[0m Trial 432 finished with value: 0.6511821366828551 and parameters: {'solver_penalty': 'liblinear_l1', 'C': 0.027305342843058883, 'l1_ratio': 0.2405823533849312}. Best is trial 23 with value: 0.6511821366828551.\u001b[0m\n"
     ]
    },
    {
     "name": "stdout",
     "output_type": "stream",
     "text": [
      "ROC AUC: 0.7902 +/- 0.0695\n"
     ]
    },
    {
     "name": "stderr",
     "output_type": "stream",
     "text": [
      "\u001b[32m[I 2023-04-13 11:34:03,367]\u001b[0m Trial 433 finished with value: 0.6511821366828551 and parameters: {'solver_penalty': 'liblinear_l1', 'C': 0.014728554850293467, 'l1_ratio': 0.2363701332637795}. Best is trial 23 with value: 0.6511821366828551.\u001b[0m\n"
     ]
    },
    {
     "name": "stdout",
     "output_type": "stream",
     "text": [
      "ROC AUC: 0.7902 +/- 0.0695\n"
     ]
    },
    {
     "name": "stderr",
     "output_type": "stream",
     "text": [
      "\u001b[32m[I 2023-04-13 11:34:03,614]\u001b[0m Trial 434 finished with value: 0.6511821366828551 and parameters: {'solver_penalty': 'liblinear_l1', 'C': 0.014780380845729742, 'l1_ratio': 0.2456138767420008}. Best is trial 23 with value: 0.6511821366828551.\u001b[0m\n"
     ]
    },
    {
     "name": "stdout",
     "output_type": "stream",
     "text": [
      "ROC AUC: 0.7902 +/- 0.0695\n"
     ]
    },
    {
     "name": "stderr",
     "output_type": "stream",
     "text": [
      "\u001b[32m[I 2023-04-13 11:34:03,851]\u001b[0m Trial 435 finished with value: 0.6508852658026049 and parameters: {'solver_penalty': 'liblinear_l1', 'C': 0.06205561125775312, 'l1_ratio': 0.8993316556577867}. Best is trial 23 with value: 0.6511821366828551.\u001b[0m\n"
     ]
    },
    {
     "name": "stdout",
     "output_type": "stream",
     "text": [
      "ROC AUC: 0.7901 +/- 0.0696\n"
     ]
    },
    {
     "name": "stderr",
     "output_type": "stream",
     "text": [
      "\u001b[32m[I 2023-04-13 11:34:04,082]\u001b[0m Trial 436 finished with value: 0.6383058647713251 and parameters: {'solver_penalty': 'liblinear_l2', 'C': 0.03671219523499273, 'l1_ratio': 0.907879032240679}. Best is trial 23 with value: 0.6511821366828551.\u001b[0m\n"
     ]
    },
    {
     "name": "stdout",
     "output_type": "stream",
     "text": [
      "ROC AUC: 0.7820 +/- 0.0718\n"
     ]
    },
    {
     "name": "stderr",
     "output_type": "stream",
     "text": [
      "\u001b[32m[I 2023-04-13 11:34:04,361]\u001b[0m Trial 437 finished with value: 0.6511821366828551 and parameters: {'solver_penalty': 'saga_l1', 'C': 0.03846586289727611, 'l1_ratio': 0.538762225216263}. Best is trial 23 with value: 0.6511821366828551.\u001b[0m\n"
     ]
    },
    {
     "name": "stdout",
     "output_type": "stream",
     "text": [
      "ROC AUC: 0.7902 +/- 0.0695\n"
     ]
    },
    {
     "name": "stderr",
     "output_type": "stream",
     "text": [
      "\u001b[32m[I 2023-04-13 11:34:04,595]\u001b[0m Trial 438 finished with value: 0.6511821366828551 and parameters: {'solver_penalty': 'liblinear_l1', 'C': 0.048148854266002766, 'l1_ratio': 0.11531391825321301}. Best is trial 23 with value: 0.6511821366828551.\u001b[0m\n"
     ]
    },
    {
     "name": "stdout",
     "output_type": "stream",
     "text": [
      "ROC AUC: 0.7902 +/- 0.0695\n"
     ]
    },
    {
     "name": "stderr",
     "output_type": "stream",
     "text": [
      "\u001b[32m[I 2023-04-13 11:34:04,828]\u001b[0m Trial 439 finished with value: 0.6507432422860506 and parameters: {'solver_penalty': 'liblinear_l1', 'C': 0.08718205410307002, 'l1_ratio': 0.07623515413777127}. Best is trial 23 with value: 0.6511821366828551.\u001b[0m\n"
     ]
    },
    {
     "name": "stdout",
     "output_type": "stream",
     "text": [
      "ROC AUC: 0.7899 +/- 0.0696\n"
     ]
    },
    {
     "name": "stderr",
     "output_type": "stream",
     "text": [
      "\u001b[32m[I 2023-04-13 11:34:05,164]\u001b[0m Trial 440 finished with value: 0.64289520157143 and parameters: {'solver_penalty': 'saga_none', 'C': 0.007448868824202802, 'l1_ratio': 0.8232754050345311}. Best is trial 23 with value: 0.6511821366828551.\u001b[0m\n"
     ]
    },
    {
     "name": "stdout",
     "output_type": "stream",
     "text": [
      "ROC AUC: 0.7853 +/- 0.0712\n"
     ]
    },
    {
     "name": "stderr",
     "output_type": "stream",
     "text": [
      "\u001b[32m[I 2023-04-13 11:34:05,549]\u001b[0m Trial 441 finished with value: 0.5 and parameters: {'solver_penalty': 'saga_l1', 'C': 0.0015062409740050247, 'l1_ratio': 0.9277017357991535}. Best is trial 23 with value: 0.6511821366828551.\u001b[0m\n"
     ]
    },
    {
     "name": "stdout",
     "output_type": "stream",
     "text": [
      "ROC AUC: 0.5000 +/- 0.0000\n"
     ]
    },
    {
     "name": "stderr",
     "output_type": "stream",
     "text": [
      "\u001b[32m[I 2023-04-13 11:34:05,817]\u001b[0m Trial 442 finished with value: 0.6511821366828551 and parameters: {'solver_penalty': 'liblinear_l1', 'C': 0.012427969103562647, 'l1_ratio': 0.21223467528526263}. Best is trial 23 with value: 0.6511821366828551.\u001b[0m\n"
     ]
    },
    {
     "name": "stdout",
     "output_type": "stream",
     "text": [
      "ROC AUC: 0.7902 +/- 0.0695\n"
     ]
    },
    {
     "name": "stderr",
     "output_type": "stream",
     "text": [
      "\u001b[32m[I 2023-04-13 11:34:06,075]\u001b[0m Trial 443 finished with value: 0.6511821366828551 and parameters: {'solver_penalty': 'liblinear_l1', 'C': 0.022133636831198657, 'l1_ratio': 0.16882697935578242}. Best is trial 23 with value: 0.6511821366828551.\u001b[0m\n"
     ]
    },
    {
     "name": "stdout",
     "output_type": "stream",
     "text": [
      "ROC AUC: 0.7902 +/- 0.0695\n"
     ]
    },
    {
     "name": "stderr",
     "output_type": "stream",
     "text": [
      "\u001b[32m[I 2023-04-13 11:34:06,336]\u001b[0m Trial 444 finished with value: 0.6511821366828551 and parameters: {'solver_penalty': 'liblinear_l1', 'C': 0.018938371135716746, 'l1_ratio': 0.2086718947854277}. Best is trial 23 with value: 0.6511821366828551.\u001b[0m\n"
     ]
    },
    {
     "name": "stdout",
     "output_type": "stream",
     "text": [
      "ROC AUC: 0.7902 +/- 0.0695\n"
     ]
    },
    {
     "name": "stderr",
     "output_type": "stream",
     "text": [
      "\u001b[32m[I 2023-04-13 11:34:06,635]\u001b[0m Trial 445 finished with value: 0.6511821366828551 and parameters: {'solver_penalty': 'liblinear_l1', 'C': 0.020988675536223383, 'l1_ratio': 0.8862594251374697}. Best is trial 23 with value: 0.6511821366828551.\u001b[0m\n"
     ]
    },
    {
     "name": "stdout",
     "output_type": "stream",
     "text": [
      "ROC AUC: 0.7902 +/- 0.0695\n"
     ]
    },
    {
     "name": "stderr",
     "output_type": "stream",
     "text": [
      "\u001b[32m[I 2023-04-13 11:34:06,929]\u001b[0m Trial 446 finished with value: 0.6511821366828551 and parameters: {'solver_penalty': 'saga_l1', 'C': 0.03668644405311817, 'l1_ratio': 0.5423857998034128}. Best is trial 23 with value: 0.6511821366828551.\u001b[0m\n"
     ]
    },
    {
     "name": "stdout",
     "output_type": "stream",
     "text": [
      "ROC AUC: 0.7902 +/- 0.0695\n"
     ]
    },
    {
     "name": "stderr",
     "output_type": "stream",
     "text": [
      "\u001b[32m[I 2023-04-13 11:34:07,209]\u001b[0m Trial 447 finished with value: 0.6509327111055813 and parameters: {'solver_penalty': 'liblinear_l1', 'C': 0.06034069807712128, 'l1_ratio': 0.9477494863834471}. Best is trial 23 with value: 0.6511821366828551.\u001b[0m\n"
     ]
    },
    {
     "name": "stdout",
     "output_type": "stream",
     "text": [
      "ROC AUC: 0.7901 +/- 0.0696\n"
     ]
    },
    {
     "name": "stderr",
     "output_type": "stream",
     "text": [
      "\u001b[32m[I 2023-04-13 11:34:07,464]\u001b[0m Trial 448 finished with value: 0.6456928341412383 and parameters: {'solver_penalty': 'liblinear_l1', 'C': 0.3798622686299838, 'l1_ratio': 0.905593575701103}. Best is trial 23 with value: 0.6511821366828551.\u001b[0m\n"
     ]
    },
    {
     "name": "stdout",
     "output_type": "stream",
     "text": [
      "ROC AUC: 0.7869 +/- 0.0706\n"
     ]
    },
    {
     "name": "stderr",
     "output_type": "stream",
     "text": [
      "\u001b[32m[I 2023-04-13 11:34:07,770]\u001b[0m Trial 449 finished with value: 0.6428991874622355 and parameters: {'solver_penalty': 'sag_none', 'C': 0.1578548155834592, 'l1_ratio': 0.8724017320447331}. Best is trial 23 with value: 0.6511821366828551.\u001b[0m\n"
     ]
    },
    {
     "name": "stdout",
     "output_type": "stream",
     "text": [
      "ROC AUC: 0.7853 +/- 0.0712\n"
     ]
    },
    {
     "name": "stderr",
     "output_type": "stream",
     "text": [
      "\u001b[32m[I 2023-04-13 11:34:08,031]\u001b[0m Trial 450 finished with value: 0.5 and parameters: {'solver_penalty': 'saga_elasticnet', 'C': 0.006774712231352851, 'l1_ratio': 0.8810065324638714}. Best is trial 23 with value: 0.6511821366828551.\u001b[0m\n"
     ]
    },
    {
     "name": "stdout",
     "output_type": "stream",
     "text": [
      "ROC AUC: 0.5000 +/- 0.0000\n"
     ]
    },
    {
     "name": "stderr",
     "output_type": "stream",
     "text": [
      "\u001b[32m[I 2023-04-13 11:34:08,341]\u001b[0m Trial 451 finished with value: 0.6511821366828551 and parameters: {'solver_penalty': 'saga_l1', 'C': 0.015246146862035815, 'l1_ratio': 0.05105648515586901}. Best is trial 23 with value: 0.6511821366828551.\u001b[0m\n"
     ]
    },
    {
     "name": "stdout",
     "output_type": "stream",
     "text": [
      "ROC AUC: 0.7902 +/- 0.0695\n"
     ]
    },
    {
     "name": "stderr",
     "output_type": "stream",
     "text": [
      "\u001b[32m[I 2023-04-13 11:34:08,583]\u001b[0m Trial 452 finished with value: 0.6511821366828551 and parameters: {'solver_penalty': 'liblinear_l1', 'C': 0.01093069427685265, 'l1_ratio': 0.19269548179837498}. Best is trial 23 with value: 0.6511821366828551.\u001b[0m\n"
     ]
    },
    {
     "name": "stdout",
     "output_type": "stream",
     "text": [
      "ROC AUC: 0.7902 +/- 0.0695\n"
     ]
    },
    {
     "name": "stderr",
     "output_type": "stream",
     "text": [
      "\u001b[32m[I 2023-04-13 11:34:08,813]\u001b[0m Trial 453 finished with value: 0.46234379225384614 and parameters: {'solver_penalty': 'liblinear_l1', 'C': 0.009448386152018868, 'l1_ratio': 0.1648074902626869}. Best is trial 23 with value: 0.6511821366828551.\u001b[0m\n"
     ]
    },
    {
     "name": "stdout",
     "output_type": "stream",
     "text": [
      "ROC AUC: 0.7065 +/- 0.1221\n"
     ]
    },
    {
     "name": "stderr",
     "output_type": "stream",
     "text": [
      "\u001b[32m[I 2023-04-13 11:34:09,052]\u001b[0m Trial 454 finished with value: 0.6511821366828551 and parameters: {'solver_penalty': 'liblinear_l1', 'C': 0.026726454609494018, 'l1_ratio': 0.01800987988011662}. Best is trial 23 with value: 0.6511821366828551.\u001b[0m\n"
     ]
    },
    {
     "name": "stdout",
     "output_type": "stream",
     "text": [
      "ROC AUC: 0.7902 +/- 0.0695\n"
     ]
    },
    {
     "name": "stderr",
     "output_type": "stream",
     "text": [
      "\u001b[32m[I 2023-04-13 11:34:09,282]\u001b[0m Trial 455 finished with value: 0.6511821366828551 and parameters: {'solver_penalty': 'liblinear_l1', 'C': 0.029084091933775685, 'l1_ratio': 0.9004773517440825}. Best is trial 23 with value: 0.6511821366828551.\u001b[0m\n"
     ]
    },
    {
     "name": "stdout",
     "output_type": "stream",
     "text": [
      "ROC AUC: 0.7902 +/- 0.0695\n"
     ]
    },
    {
     "name": "stderr",
     "output_type": "stream",
     "text": [
      "\u001b[32m[I 2023-04-13 11:34:09,555]\u001b[0m Trial 456 finished with value: 0.6511821366828551 and parameters: {'solver_penalty': 'liblinear_l1', 'C': 0.030412919789728893, 'l1_ratio': 0.8981461964726931}. Best is trial 23 with value: 0.6511821366828551.\u001b[0m\n"
     ]
    },
    {
     "name": "stdout",
     "output_type": "stream",
     "text": [
      "ROC AUC: 0.7902 +/- 0.0695\n"
     ]
    },
    {
     "name": "stderr",
     "output_type": "stream",
     "text": [
      "\u001b[32m[I 2023-04-13 11:34:09,798]\u001b[0m Trial 457 finished with value: 0.6511821366828551 and parameters: {'solver_penalty': 'liblinear_l1', 'C': 0.028058208429626946, 'l1_ratio': 0.9105506147110936}. Best is trial 23 with value: 0.6511821366828551.\u001b[0m\n"
     ]
    },
    {
     "name": "stdout",
     "output_type": "stream",
     "text": [
      "ROC AUC: 0.7902 +/- 0.0695\n"
     ]
    },
    {
     "name": "stderr",
     "output_type": "stream",
     "text": [
      "\u001b[32m[I 2023-04-13 11:34:10,048]\u001b[0m Trial 458 finished with value: 0.6511821366828551 and parameters: {'solver_penalty': 'saga_l1', 'C': 0.031122438169091424, 'l1_ratio': 0.9333795035226625}. Best is trial 23 with value: 0.6511821366828551.\u001b[0m\n"
     ]
    },
    {
     "name": "stdout",
     "output_type": "stream",
     "text": [
      "ROC AUC: 0.7902 +/- 0.0695\n"
     ]
    },
    {
     "name": "stderr",
     "output_type": "stream",
     "text": [
      "\u001b[32m[I 2023-04-13 11:34:10,398]\u001b[0m Trial 459 finished with value: 0.64289520157143 and parameters: {'solver_penalty': 'newton-cg_none', 'C': 0.021666849854874114, 'l1_ratio': 0.2142980183618815}. Best is trial 23 with value: 0.6511821366828551.\u001b[0m\n"
     ]
    },
    {
     "name": "stdout",
     "output_type": "stream",
     "text": [
      "ROC AUC: 0.7853 +/- 0.0712\n"
     ]
    },
    {
     "name": "stderr",
     "output_type": "stream",
     "text": [
      "\u001b[32m[I 2023-04-13 11:34:10,699]\u001b[0m Trial 460 finished with value: 0.6329555074675294 and parameters: {'solver_penalty': 'newton-cholesky_l2', 'C': 0.01890408464237034, 'l1_ratio': 0.4787503215474589}. Best is trial 23 with value: 0.6511821366828551.\u001b[0m\n"
     ]
    },
    {
     "name": "stdout",
     "output_type": "stream",
     "text": [
      "ROC AUC: 0.7789 +/- 0.0730\n"
     ]
    },
    {
     "name": "stderr",
     "output_type": "stream",
     "text": [
      "\u001b[32m[I 2023-04-13 11:34:11,027]\u001b[0m Trial 461 finished with value: 0.6385041407535454 and parameters: {'solver_penalty': 'newton-cg_l2', 'C': 0.03781158687388888, 'l1_ratio': 0.2821896127667495}. Best is trial 23 with value: 0.6511821366828551.\u001b[0m\n"
     ]
    },
    {
     "name": "stdout",
     "output_type": "stream",
     "text": [
      "ROC AUC: 0.7821 +/- 0.0718\n"
     ]
    },
    {
     "name": "stderr",
     "output_type": "stream",
     "text": [
      "\u001b[32m[I 2023-04-13 11:34:11,254]\u001b[0m Trial 462 finished with value: 0.4131723795265517 and parameters: {'solver_penalty': 'liblinear_l1', 'C': 0.00893564822648924, 'l1_ratio': 0.11317879467017769}. Best is trial 23 with value: 0.6511821366828551.\u001b[0m\n"
     ]
    },
    {
     "name": "stdout",
     "output_type": "stream",
     "text": [
      "ROC AUC: 0.5160 +/- 0.0514\n"
     ]
    },
    {
     "name": "stderr",
     "output_type": "stream",
     "text": [
      "\u001b[32m[I 2023-04-13 11:34:11,485]\u001b[0m Trial 463 finished with value: 0.6511821366828551 and parameters: {'solver_penalty': 'liblinear_l1', 'C': 0.024097249967621723, 'l1_ratio': 0.25528383042585473}. Best is trial 23 with value: 0.6511821366828551.\u001b[0m\n"
     ]
    },
    {
     "name": "stdout",
     "output_type": "stream",
     "text": [
      "ROC AUC: 0.7902 +/- 0.0695\n"
     ]
    },
    {
     "name": "stderr",
     "output_type": "stream",
     "text": [
      "\u001b[32m[I 2023-04-13 11:34:11,722]\u001b[0m Trial 464 finished with value: 0.6511821366828551 and parameters: {'solver_penalty': 'liblinear_l1', 'C': 0.022342938854205994, 'l1_ratio': 0.05721971767455212}. Best is trial 23 with value: 0.6511821366828551.\u001b[0m\n"
     ]
    },
    {
     "name": "stdout",
     "output_type": "stream",
     "text": [
      "ROC AUC: 0.7902 +/- 0.0695\n"
     ]
    },
    {
     "name": "stderr",
     "output_type": "stream",
     "text": [
      "\u001b[32m[I 2023-04-13 11:34:12,015]\u001b[0m Trial 465 finished with value: 0.6510753091472412 and parameters: {'solver_penalty': 'saga_l1', 'C': 0.05144099195824544, 'l1_ratio': 0.2266660961597699}. Best is trial 23 with value: 0.6511821366828551.\u001b[0m\n"
     ]
    },
    {
     "name": "stdout",
     "output_type": "stream",
     "text": [
      "ROC AUC: 0.7902 +/- 0.0695\n"
     ]
    },
    {
     "name": "stderr",
     "output_type": "stream",
     "text": [
      "\u001b[32m[I 2023-04-13 11:34:12,271]\u001b[0m Trial 466 finished with value: 0.6511821366828551 and parameters: {'solver_penalty': 'liblinear_l1', 'C': 0.01048083460565202, 'l1_ratio': 0.09705700649578103}. Best is trial 23 with value: 0.6511821366828551.\u001b[0m\n"
     ]
    },
    {
     "name": "stdout",
     "output_type": "stream",
     "text": [
      "ROC AUC: 0.7902 +/- 0.0695\n"
     ]
    },
    {
     "name": "stderr",
     "output_type": "stream",
     "text": [
      "\u001b[32m[I 2023-04-13 11:34:12,495]\u001b[0m Trial 467 finished with value: 0.6511821366828551 and parameters: {'solver_penalty': 'liblinear_l1', 'C': 0.01537398020858373, 'l1_ratio': 0.1520290096582977}. Best is trial 23 with value: 0.6511821366828551.\u001b[0m\n"
     ]
    },
    {
     "name": "stdout",
     "output_type": "stream",
     "text": [
      "ROC AUC: 0.7902 +/- 0.0695\n"
     ]
    },
    {
     "name": "stderr",
     "output_type": "stream",
     "text": [
      "\u001b[32m[I 2023-04-13 11:34:12,724]\u001b[0m Trial 468 finished with value: 0.6511821366828551 and parameters: {'solver_penalty': 'liblinear_l1', 'C': 0.04857684423053456, 'l1_ratio': 0.46594220326883284}. Best is trial 23 with value: 0.6511821366828551.\u001b[0m\n"
     ]
    },
    {
     "name": "stdout",
     "output_type": "stream",
     "text": [
      "ROC AUC: 0.7902 +/- 0.0695\n"
     ]
    },
    {
     "name": "stderr",
     "output_type": "stream",
     "text": [
      "\u001b[32m[I 2023-04-13 11:34:12,954]\u001b[0m Trial 469 finished with value: 0.6511821366828551 and parameters: {'solver_penalty': 'liblinear_l1', 'C': 0.015629484826934645, 'l1_ratio': 0.1305522242275823}. Best is trial 23 with value: 0.6511821366828551.\u001b[0m\n"
     ]
    },
    {
     "name": "stdout",
     "output_type": "stream",
     "text": [
      "ROC AUC: 0.7902 +/- 0.0695\n"
     ]
    },
    {
     "name": "stderr",
     "output_type": "stream",
     "text": [
      "\u001b[32m[I 2023-04-13 11:34:13,175]\u001b[0m Trial 470 finished with value: 0.6511821366828551 and parameters: {'solver_penalty': 'liblinear_l1', 'C': 0.01915105858952476, 'l1_ratio': 0.9554568363657913}. Best is trial 23 with value: 0.6511821366828551.\u001b[0m\n"
     ]
    },
    {
     "name": "stdout",
     "output_type": "stream",
     "text": [
      "ROC AUC: 0.7902 +/- 0.0695\n"
     ]
    },
    {
     "name": "stderr",
     "output_type": "stream",
     "text": [
      "\u001b[32m[I 2023-04-13 11:34:13,415]\u001b[0m Trial 471 finished with value: 0.6511821366828551 and parameters: {'solver_penalty': 'liblinear_l1', 'C': 0.04375761656403196, 'l1_ratio': 0.9478126254037557}. Best is trial 23 with value: 0.6511821366828551.\u001b[0m\n"
     ]
    },
    {
     "name": "stdout",
     "output_type": "stream",
     "text": [
      "ROC AUC: 0.7902 +/- 0.0695\n"
     ]
    },
    {
     "name": "stderr",
     "output_type": "stream",
     "text": [
      "\u001b[32m[I 2023-04-13 11:34:13,652]\u001b[0m Trial 472 finished with value: 0.650729375648371 and parameters: {'solver_penalty': 'liblinear_l1', 'C': 0.07192289661293257, 'l1_ratio': 0.40084165082578316}. Best is trial 23 with value: 0.6511821366828551.\u001b[0m\n"
     ]
    },
    {
     "name": "stdout",
     "output_type": "stream",
     "text": [
      "ROC AUC: 0.7900 +/- 0.0696\n"
     ]
    },
    {
     "name": "stderr",
     "output_type": "stream",
     "text": [
      "\u001b[32m[I 2023-04-13 11:34:13,910]\u001b[0m Trial 473 finished with value: 0.6405018949470627 and parameters: {'solver_penalty': 'saga_l2', 'C': 0.07689049135434634, 'l1_ratio': 0.8595513244149613}. Best is trial 23 with value: 0.6511821366828551.\u001b[0m\n"
     ]
    },
    {
     "name": "stdout",
     "output_type": "stream",
     "text": [
      "ROC AUC: 0.7838 +/- 0.0717\n"
     ]
    },
    {
     "name": "stderr",
     "output_type": "stream",
     "text": [
      "\u001b[32m[I 2023-04-13 11:34:14,138]\u001b[0m Trial 474 finished with value: 0.6374726183507942 and parameters: {'solver_penalty': 'liblinear_l2', 'C': 0.029506494290501135, 'l1_ratio': 0.2326369447955872}. Best is trial 23 with value: 0.6511821366828551.\u001b[0m\n"
     ]
    },
    {
     "name": "stdout",
     "output_type": "stream",
     "text": [
      "ROC AUC: 0.7815 +/- 0.0720\n"
     ]
    },
    {
     "name": "stderr",
     "output_type": "stream",
     "text": [
      "\u001b[32m[I 2023-04-13 11:34:14,383]\u001b[0m Trial 475 finished with value: 0.5 and parameters: {'solver_penalty': 'saga_elasticnet', 'C': 0.000907150710086756, 'l1_ratio': 0.8321867989113073}. Best is trial 23 with value: 0.6511821366828551.\u001b[0m\n"
     ]
    },
    {
     "name": "stdout",
     "output_type": "stream",
     "text": [
      "ROC AUC: 0.5000 +/- 0.0000\n"
     ]
    },
    {
     "name": "stderr",
     "output_type": "stream",
     "text": [
      "\u001b[32m[I 2023-04-13 11:34:14,718]\u001b[0m Trial 476 finished with value: 0.64289520157143 and parameters: {'solver_penalty': 'lbfgs_none', 'C': 0.006307131344907065, 'l1_ratio': 0.783257242631014}. Best is trial 23 with value: 0.6511821366828551.\u001b[0m\n"
     ]
    },
    {
     "name": "stdout",
     "output_type": "stream",
     "text": [
      "ROC AUC: 0.7853 +/- 0.0712\n"
     ]
    },
    {
     "name": "stderr",
     "output_type": "stream",
     "text": [
      "\u001b[32m[I 2023-04-13 11:34:15,029]\u001b[0m Trial 477 finished with value: 0.6511821366828551 and parameters: {'solver_penalty': 'saga_l1', 'C': 0.04175713372988774, 'l1_ratio': 0.9827266399672248}. Best is trial 23 with value: 0.6511821366828551.\u001b[0m\n"
     ]
    },
    {
     "name": "stdout",
     "output_type": "stream",
     "text": [
      "ROC AUC: 0.7902 +/- 0.0695\n"
     ]
    },
    {
     "name": "stderr",
     "output_type": "stream",
     "text": [
      "\u001b[32m[I 2023-04-13 11:34:15,266]\u001b[0m Trial 478 finished with value: 0.6511821366828551 and parameters: {'solver_penalty': 'liblinear_l1', 'C': 0.038218943268852855, 'l1_ratio': 0.17045653099453942}. Best is trial 23 with value: 0.6511821366828551.\u001b[0m\n"
     ]
    },
    {
     "name": "stdout",
     "output_type": "stream",
     "text": [
      "ROC AUC: 0.7902 +/- 0.0695\n"
     ]
    },
    {
     "name": "stderr",
     "output_type": "stream",
     "text": [
      "\u001b[32m[I 2023-04-13 11:34:15,533]\u001b[0m Trial 479 finished with value: 0.6450514546391147 and parameters: {'solver_penalty': 'saga_elasticnet', 'C': 0.21115227825767197, 'l1_ratio': 0.7455837546051218}. Best is trial 23 with value: 0.6511821366828551.\u001b[0m\n"
     ]
    },
    {
     "name": "stdout",
     "output_type": "stream",
     "text": [
      "ROC AUC: 0.7869 +/- 0.0709\n"
     ]
    },
    {
     "name": "stderr",
     "output_type": "stream",
     "text": [
      "\u001b[32m[I 2023-04-13 11:34:15,792]\u001b[0m Trial 480 finished with value: 0.627233024872193 and parameters: {'solver_penalty': 'lbfgs_l2', 'C': 0.010926057679438817, 'l1_ratio': 0.17898445738338867}. Best is trial 23 with value: 0.6511821366828551.\u001b[0m\n"
     ]
    },
    {
     "name": "stdout",
     "output_type": "stream",
     "text": [
      "ROC AUC: 0.7745 +/- 0.0736\n"
     ]
    },
    {
     "name": "stderr",
     "output_type": "stream",
     "text": [
      "\u001b[32m[I 2023-04-13 11:34:16,067]\u001b[0m Trial 481 finished with value: 0.6511821366828551 and parameters: {'solver_penalty': 'liblinear_l1', 'C': 0.013246986331785244, 'l1_ratio': 0.19146358409233374}. Best is trial 23 with value: 0.6511821366828551.\u001b[0m\n"
     ]
    },
    {
     "name": "stdout",
     "output_type": "stream",
     "text": [
      "ROC AUC: 0.7902 +/- 0.0695\n"
     ]
    },
    {
     "name": "stderr",
     "output_type": "stream",
     "text": [
      "\u001b[32m[I 2023-04-13 11:34:16,357]\u001b[0m Trial 482 finished with value: 0.6511821366828551 and parameters: {'solver_penalty': 'liblinear_l1', 'C': 0.014657602169429221, 'l1_ratio': 0.19113542443111192}. Best is trial 23 with value: 0.6511821366828551.\u001b[0m\n"
     ]
    },
    {
     "name": "stdout",
     "output_type": "stream",
     "text": [
      "ROC AUC: 0.7902 +/- 0.0695\n"
     ]
    },
    {
     "name": "stderr",
     "output_type": "stream",
     "text": [
      "\u001b[32m[I 2023-04-13 11:34:16,632]\u001b[0m Trial 483 finished with value: 0.6511821366828551 and parameters: {'solver_penalty': 'liblinear_l1', 'C': 0.01878558871349606, 'l1_ratio': 0.15953036413686178}. Best is trial 23 with value: 0.6511821366828551.\u001b[0m\n"
     ]
    },
    {
     "name": "stdout",
     "output_type": "stream",
     "text": [
      "ROC AUC: 0.7902 +/- 0.0695\n"
     ]
    },
    {
     "name": "stderr",
     "output_type": "stream",
     "text": [
      "\u001b[32m[I 2023-04-13 11:34:16,889]\u001b[0m Trial 484 finished with value: 0.6510475946354082 and parameters: {'solver_penalty': 'liblinear_l1', 'C': 0.054016654458320254, 'l1_ratio': 0.1380030688703509}. Best is trial 23 with value: 0.6511821366828551.\u001b[0m\n"
     ]
    },
    {
     "name": "stdout",
     "output_type": "stream",
     "text": [
      "ROC AUC: 0.7902 +/- 0.0696\n"
     ]
    },
    {
     "name": "stderr",
     "output_type": "stream",
     "text": [
      "\u001b[32m[I 2023-04-13 11:34:17,156]\u001b[0m Trial 485 finished with value: 0.6500908802648753 and parameters: {'solver_penalty': 'liblinear_l1', 'C': 0.10993423164839773, 'l1_ratio': 0.10827127052748992}. Best is trial 23 with value: 0.6511821366828551.\u001b[0m\n"
     ]
    },
    {
     "name": "stdout",
     "output_type": "stream",
     "text": [
      "ROC AUC: 0.7895 +/- 0.0697\n"
     ]
    },
    {
     "name": "stderr",
     "output_type": "stream",
     "text": [
      "\u001b[32m[I 2023-04-13 11:34:17,655]\u001b[0m Trial 486 finished with value: 0.6429283933918515 and parameters: {'solver_penalty': 'newton-cholesky_none', 'C': 0.004322143838262198, 'l1_ratio': 0.003086933118891924}. Best is trial 23 with value: 0.6511821366828551.\u001b[0m\n"
     ]
    },
    {
     "name": "stdout",
     "output_type": "stream",
     "text": [
      "ROC AUC: 0.7853 +/- 0.0712\n"
     ]
    },
    {
     "name": "stderr",
     "output_type": "stream",
     "text": [
      "\u001b[32m[I 2023-04-13 11:34:17,935]\u001b[0m Trial 487 finished with value: 0.5 and parameters: {'solver_penalty': 'saga_elasticnet', 'C': 0.0032826018148591368, 'l1_ratio': 0.41785209174453464}. Best is trial 23 with value: 0.6511821366828551.\u001b[0m\n"
     ]
    },
    {
     "name": "stdout",
     "output_type": "stream",
     "text": [
      "ROC AUC: 0.5000 +/- 0.0000\n"
     ]
    },
    {
     "name": "stderr",
     "output_type": "stream",
     "text": [
      "\u001b[32m[I 2023-04-13 11:34:18,185]\u001b[0m Trial 488 finished with value: 0.6511821366828551 and parameters: {'solver_penalty': 'liblinear_l1', 'C': 0.019569020592302713, 'l1_ratio': 0.14123077900181197}. Best is trial 23 with value: 0.6511821366828551.\u001b[0m\n"
     ]
    },
    {
     "name": "stdout",
     "output_type": "stream",
     "text": [
      "ROC AUC: 0.7902 +/- 0.0695\n"
     ]
    },
    {
     "name": "stderr",
     "output_type": "stream",
     "text": [
      "\u001b[32m[I 2023-04-13 11:34:18,420]\u001b[0m Trial 489 finished with value: 0.6511821366828551 and parameters: {'solver_penalty': 'liblinear_l1', 'C': 0.03461417213027806, 'l1_ratio': 0.1768245759024208}. Best is trial 23 with value: 0.6511821366828551.\u001b[0m\n"
     ]
    },
    {
     "name": "stdout",
     "output_type": "stream",
     "text": [
      "ROC AUC: 0.7902 +/- 0.0695\n"
     ]
    },
    {
     "name": "stderr",
     "output_type": "stream",
     "text": [
      "\u001b[32m[I 2023-04-13 11:34:18,670]\u001b[0m Trial 490 finished with value: 0.6509327111055813 and parameters: {'solver_penalty': 'liblinear_l1', 'C': 0.05974607918236464, 'l1_ratio': 0.15274363408170955}. Best is trial 23 with value: 0.6511821366828551.\u001b[0m\n"
     ]
    },
    {
     "name": "stdout",
     "output_type": "stream",
     "text": [
      "ROC AUC: 0.7901 +/- 0.0696\n"
     ]
    },
    {
     "name": "stderr",
     "output_type": "stream",
     "text": [
      "\u001b[32m[I 2023-04-13 11:34:18,920]\u001b[0m Trial 491 finished with value: 0.629759586223209 and parameters: {'solver_penalty': 'sag_l2', 'C': 0.01334299229147673, 'l1_ratio': 0.8332936564158182}. Best is trial 23 with value: 0.6511821366828551.\u001b[0m\n"
     ]
    },
    {
     "name": "stdout",
     "output_type": "stream",
     "text": [
      "ROC AUC: 0.7762 +/- 0.0732\n"
     ]
    },
    {
     "name": "stderr",
     "output_type": "stream",
     "text": [
      "\u001b[32m[I 2023-04-13 11:34:19,394]\u001b[0m Trial 492 finished with value: 0.64289520157143 and parameters: {'solver_penalty': 'saga_none', 'C': 0.019998235090156788, 'l1_ratio': 0.2542311792639202}. Best is trial 23 with value: 0.6511821366828551.\u001b[0m\n"
     ]
    },
    {
     "name": "stdout",
     "output_type": "stream",
     "text": [
      "ROC AUC: 0.7853 +/- 0.0712\n"
     ]
    },
    {
     "name": "stderr",
     "output_type": "stream",
     "text": [
      "\u001b[32m[I 2023-04-13 11:34:19,689]\u001b[0m Trial 493 finished with value: 0.6507430935083818 and parameters: {'solver_penalty': 'saga_l1', 'C': 0.07705486129236469, 'l1_ratio': 0.10820730277347385}. Best is trial 23 with value: 0.6511821366828551.\u001b[0m\n"
     ]
    },
    {
     "name": "stdout",
     "output_type": "stream",
     "text": [
      "ROC AUC: 0.7900 +/- 0.0696\n"
     ]
    },
    {
     "name": "stderr",
     "output_type": "stream",
     "text": [
      "\u001b[32m[I 2023-04-13 11:34:20,011]\u001b[0m Trial 494 finished with value: 0.6388576034304683 and parameters: {'solver_penalty': 'newton-cg_l2', 'C': 0.04741789761521228, 'l1_ratio': 0.4444127800239001}. Best is trial 23 with value: 0.6511821366828551.\u001b[0m\n"
     ]
    },
    {
     "name": "stdout",
     "output_type": "stream",
     "text": [
      "ROC AUC: 0.7826 +/- 0.0718\n"
     ]
    },
    {
     "name": "stderr",
     "output_type": "stream",
     "text": [
      "\u001b[32m[I 2023-04-13 11:34:20,389]\u001b[0m Trial 495 finished with value: 0.64289520157143 and parameters: {'solver_penalty': 'newton-cg_none', 'C': 0.008084439574157509, 'l1_ratio': 0.03523723611280905}. Best is trial 23 with value: 0.6511821366828551.\u001b[0m\n"
     ]
    },
    {
     "name": "stdout",
     "output_type": "stream",
     "text": [
      "ROC AUC: 0.7853 +/- 0.0712\n"
     ]
    },
    {
     "name": "stderr",
     "output_type": "stream",
     "text": [
      "\u001b[32m[I 2023-04-13 11:34:20,717]\u001b[0m Trial 496 finished with value: 0.6322574982132965 and parameters: {'solver_penalty': 'lbfgs_l2', 'C': 0.01666029440151984, 'l1_ratio': 0.19523456891632826}. Best is trial 23 with value: 0.6511821366828551.\u001b[0m\n"
     ]
    },
    {
     "name": "stdout",
     "output_type": "stream",
     "text": [
      "ROC AUC: 0.7778 +/- 0.0728\n"
     ]
    },
    {
     "name": "stderr",
     "output_type": "stream",
     "text": [
      "\u001b[32m[I 2023-04-13 11:34:20,966]\u001b[0m Trial 497 finished with value: 0.6511821366828551 and parameters: {'solver_penalty': 'liblinear_l1', 'C': 0.034191265951619844, 'l1_ratio': 0.8838484748732492}. Best is trial 23 with value: 0.6511821366828551.\u001b[0m\n"
     ]
    },
    {
     "name": "stdout",
     "output_type": "stream",
     "text": [
      "ROC AUC: 0.7902 +/- 0.0695\n"
     ]
    },
    {
     "name": "stderr",
     "output_type": "stream",
     "text": [
      "\u001b[32m[I 2023-04-13 11:34:21,195]\u001b[0m Trial 498 finished with value: 0.6511821366828551 and parameters: {'solver_penalty': 'liblinear_l1', 'C': 0.027707181737206717, 'l1_ratio': 0.130098374830769}. Best is trial 23 with value: 0.6511821366828551.\u001b[0m\n"
     ]
    },
    {
     "name": "stdout",
     "output_type": "stream",
     "text": [
      "ROC AUC: 0.7902 +/- 0.0695\n"
     ]
    },
    {
     "name": "stderr",
     "output_type": "stream",
     "text": [
      "\u001b[32m[I 2023-04-13 11:34:21,440]\u001b[0m Trial 499 finished with value: 0.3878333612163146 and parameters: {'solver_penalty': 'liblinear_l1', 'C': 0.009290207971706634, 'l1_ratio': 0.13024482717012467}. Best is trial 23 with value: 0.6511821366828551.\u001b[0m\n"
     ]
    },
    {
     "name": "stdout",
     "output_type": "stream",
     "text": [
      "ROC AUC: 0.6428 +/- 0.1275\n"
     ]
    },
    {
     "data": {
      "text/plain": [
       "{'solver_penalty': 'saga_l1',\n",
       " 'C': 0.04349403065199462,\n",
       " 'l1_ratio': 0.569760298788535}"
      ]
     },
     "metadata": {},
     "output_type": "display_data"
    }
   ],
   "source": [
    "import optuna\n",
    "X = X_train.copy()\n",
    "# X = PolynomialFeatures(degree=2, include_bias=False).fit_transform(X)\n",
    "X = PowerTransformer().fit_transform(X)\n",
    "cv = RepeatedStratifiedKFold(n_repeats=20, n_splits=10, random_state=SEED)\n",
    "def objective(trial):\n",
    "\n",
    "    solver_penalty = trial.suggest_categorical(\"solver_penalty\", ['liblinear_l1', 'liblinear_l2', \n",
    "                                                                  'saga_l1', 'saga_l2', 'saga_elasticnet', 'saga_none',\n",
    "                                                                  'newton-cg_l2', 'newton-cg_none',\n",
    "                                                                  'lbfgs_l2', 'lbfgs_none',\n",
    "                                                                  'sag_l2', 'sag_none',\n",
    "                                                                  'newton-cholesky_l2', 'newton-cholesky_none'])                                                        \n",
    "    \n",
    "    params = {\n",
    "        'solver': solver_penalty.split('_')[0], # default=lbfgs\n",
    "        'penalty': solver_penalty.split('_')[1], # default=l2\n",
    "        'C': trial.suggest_float(\"C\", 1e-4, 1e4, log=True), # default=1.0\n",
    "        # 'max_iter': trial.suggest_int(\"max_iter\", 100, 1000), # default=100\n",
    "        'random_state': SEED,\n",
    "        'l1_ratio': trial.suggest_float(\"l1_ratio\", 0, 1), # default=None\n",
    "        # 'n_jobs' : -1,\n",
    "        }\n",
    "\n",
    "    if params['penalty'] != 'elasticnet':\n",
    "        params['l1_ratio'] = None\n",
    "\n",
    "    model = LogisticRegression(**params)\n",
    "    score = cross_val_score(model, X, y_train, cv=cv, scoring='roc_auc', n_jobs=-1)\n",
    "    print(f'ROC AUC: {score.mean():.4f} +/- {score.std():.4f}')\n",
    "    return score.mean() - 2 * score.std()\n",
    "\n",
    "optuna.logging.set_verbosity(optuna.logging.INFO)\n",
    "study = optuna.create_study(direction=\"maximize\")\n",
    "study.optimize(objective, n_trials=500)\n",
    "\n",
    "df_study = study.trials_dataframe()\n",
    "df_study.to_excel('study_LR.xlsx')\n",
    "\n",
    "LGBM_params = study.best_params\n",
    "LGBM_params"
   ]
  },
  {
   "cell_type": "markdown",
   "id": "74503fc3-82e9-42ca-9724-2ca1035d046d",
   "metadata": {
    "tags": []
   },
   "source": [
    "# Plot"
   ]
  },
  {
   "cell_type": "code",
   "execution_count": null,
   "id": "110670eb",
   "metadata": {},
   "outputs": [],
   "source": [
    "optuna.visualization.plot_optimization_history(study)"
   ]
  },
  {
   "cell_type": "code",
   "execution_count": null,
   "id": "31f88669",
   "metadata": {},
   "outputs": [],
   "source": [
    "optuna.visualization.plot_param_importances(study)"
   ]
  },
  {
   "cell_type": "code",
   "execution_count": null,
   "id": "823a591a",
   "metadata": {},
   "outputs": [],
   "source": [
    "optuna.visualization.plot_param_importances(\n",
    "    study, target=lambda t: t.duration.total_seconds(), target_name=\"duration\"\n",
    ")"
   ]
  },
  {
   "cell_type": "code",
   "execution_count": null,
   "id": "d85fd55c",
   "metadata": {},
   "outputs": [],
   "source": [
    "optuna.visualization.plot_slice(study)"
   ]
  }
 ],
 "metadata": {
  "kernelspec": {
   "display_name": "MainEnv",
   "language": "python",
   "name": "mainenv"
  },
  "language_info": {
   "codemirror_mode": {
    "name": "ipython",
    "version": 3
   },
   "file_extension": ".py",
   "mimetype": "text/x-python",
   "name": "python",
   "nbconvert_exporter": "python",
   "pygments_lexer": "ipython3",
   "version": "3.9.16"
  }
 },
 "nbformat": 4,
 "nbformat_minor": 5
}
