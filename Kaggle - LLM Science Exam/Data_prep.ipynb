{
 "cells": [
  {
   "cell_type": "code",
   "execution_count": 14,
   "metadata": {},
   "outputs": [],
   "source": [
    "import numpy as np\n",
    "import pandas as pd"
   ]
  },
  {
   "cell_type": "code",
   "execution_count": 15,
   "metadata": {},
   "outputs": [],
   "source": [
    "NUM_MMLU_TRAIN_SAMPLES = 2_048"
   ]
  },
  {
   "cell_type": "markdown",
   "metadata": {},
   "source": [
    "# Load Train Data - My New 40k Dataset!\n",
    "For train data, we will load my new 40k dataset and perform some filtering and preprocess. \n",
    "* ScienceQA - We will only use questions without images and questions with 3 or 4 choices\n",
    "* OpenBook - We will only use questions written as questions (not \"continue the statement\" questions)\n",
    "* MMLU - We will only use questions written as questions. And will only use 2k samples to balance with other datasets.\n",
    "\n",
    "Note that we can use more of the 40k dataset, but we will need to do some analysis to decide what additional questions are good to preprocess and use. Furthermore there are many \"question\" which are written as \"continue the statement\". To use these we need to be more creative."
   ]
  },
  {
   "cell_type": "code",
   "execution_count": 16,
   "metadata": {},
   "outputs": [],
   "source": [
    "# FUNCTIONS TO ADD A NEW RANDOM WRONG CHOICE\n",
    "def make_random_4_from_3(row):\n",
    "    wrong = [x for x in ['A','B','C'] if x != row.answer]\n",
    "    right = [row.answer]\n",
    "    move = np.random.choice(wrong*3 + right*2)\n",
    "    row['D'] = row[move]\n",
    "    duplicate = np.random.choice(wrong)\n",
    "    row[move] = row[duplicate]\n",
    "    if move==row.answer:\n",
    "        row.answer = 'D'\n",
    "    return row\n",
    "\n",
    "def make_random_5_from_4(row):\n",
    "    wrong = [x for x in ['A','B','C','D'] if x != row.answer]\n",
    "    right = [row.answer]\n",
    "    move = np.random.choice(wrong*4 + right*3)\n",
    "    row['E'] = row[move]\n",
    "    duplicate = np.random.choice(wrong)\n",
    "    row[move] = row[duplicate]\n",
    "    if move==row.answer:\n",
    "        row.answer = 'E'\n",
    "    return row"
   ]
  },
  {
   "cell_type": "code",
   "execution_count": 17,
   "metadata": {},
   "outputs": [
    {
     "name": "stdout",
     "output_type": "stream",
     "text": [
      "MMLU shape (2048, 8)\n",
      "ScienceQA_3 shape (2142, 19)\n",
      "ScienceQA_4 shape (1149, 20)\n",
      "OpenBook shape (1770, 9)\n"
     ]
    }
   ],
   "source": [
    "\n",
    "# LOAD 3 DATASETS AND FILTER\n",
    "MMLU = pd.read_csv('dataset/MMLU_17k_with_context2.csv')\n",
    "#MMLU['is_question'] = MMLU.prompt.str.contains('\\?')\n",
    "MMLU = MMLU.loc[MMLU.is_question].sample(NUM_MMLU_TRAIN_SAMPLES, random_state=42)\n",
    "print('MMLU shape',MMLU.shape)\n",
    "\n",
    "ScienceQA = pd.read_csv('dataset/ScienceQA_with_context2.csv')\n",
    "ScienceQA_3 = ScienceQA.loc[ScienceQA.image.isna() & (ScienceQA.ct==3)].drop(columns=['D','E'])\n",
    "ScienceQA_4 = ScienceQA.loc[ScienceQA.image.isna() & (ScienceQA.ct==4)].drop(columns=['E'])\n",
    "print('ScienceQA_3 shape',ScienceQA_3.shape)\n",
    "print('ScienceQA_4 shape',ScienceQA_4.shape)\n",
    "\n",
    "OpenBook = pd.read_csv('dataset/OpenBook_with_context2.csv')\n",
    "OpenBook = OpenBook.loc[OpenBook.is_question]\n",
    "print('OpenBook shape',OpenBook.shape)"
   ]
  },
  {
   "cell_type": "code",
   "execution_count": 18,
   "metadata": {},
   "outputs": [
    {
     "name": "stdout",
     "output_type": "stream",
     "text": [
      "Train shape (7109, 8)\n"
     ]
    },
    {
     "data": {
      "text/html": [
       "<div>\n",
       "<style scoped>\n",
       "    .dataframe tbody tr th:only-of-type {\n",
       "        vertical-align: middle;\n",
       "    }\n",
       "\n",
       "    .dataframe tbody tr th {\n",
       "        vertical-align: top;\n",
       "    }\n",
       "\n",
       "    .dataframe thead th {\n",
       "        text-align: right;\n",
       "    }\n",
       "</style>\n",
       "<table border=\"1\" class=\"dataframe\">\n",
       "  <thead>\n",
       "    <tr style=\"text-align: right;\">\n",
       "      <th></th>\n",
       "      <th>prompt</th>\n",
       "      <th>context</th>\n",
       "      <th>A</th>\n",
       "      <th>B</th>\n",
       "      <th>C</th>\n",
       "      <th>D</th>\n",
       "      <th>E</th>\n",
       "      <th>answer</th>\n",
       "    </tr>\n",
       "  </thead>\n",
       "  <tbody>\n",
       "    <tr>\n",
       "      <th>0</th>\n",
       "      <td>How long is a potato?</td>\n",
       "      <td>Home gardeners often plant a piece of potato w...</td>\n",
       "      <td>7 yards</td>\n",
       "      <td>7 inches</td>\n",
       "      <td>7 feet</td>\n",
       "      <td>7 miles</td>\n",
       "      <td>7 feet</td>\n",
       "      <td>B</td>\n",
       "    </tr>\n",
       "    <tr>\n",
       "      <th>1</th>\n",
       "      <td>Using only these supplies, which question can ...</td>\n",
       "      <td>While dry labs are a huge problem today and ca...</td>\n",
       "      <td>Do round rocks or flat rocks skip more times w...</td>\n",
       "      <td>Do small rocks or large rocks skip more times ...</td>\n",
       "      <td>Do rocks skip more times when thrown across a ...</td>\n",
       "      <td>Do rocks skip more times when thrown across a ...</td>\n",
       "      <td>Do round rocks or flat rocks skip more times w...</td>\n",
       "      <td>B</td>\n",
       "    </tr>\n",
       "    <tr>\n",
       "      <th>2</th>\n",
       "      <td>What is the basic unit of life?</td>\n",
       "      <td>The cell is the basic structural and functiona...</td>\n",
       "      <td>atom</td>\n",
       "      <td>cell</td>\n",
       "      <td>element</td>\n",
       "      <td>atom</td>\n",
       "      <td>nucleus</td>\n",
       "      <td>B</td>\n",
       "    </tr>\n",
       "    <tr>\n",
       "      <th>3</th>\n",
       "      <td>Complete the statement. Assume that the motorc...</td>\n",
       "      <td>The internal forces are caused by the rider an...</td>\n",
       "      <td>decreased</td>\n",
       "      <td>stayed the same</td>\n",
       "      <td>stayed the same</td>\n",
       "      <td>stayed the same</td>\n",
       "      <td>increased</td>\n",
       "      <td>E</td>\n",
       "    </tr>\n",
       "    <tr>\n",
       "      <th>4</th>\n",
       "      <td>Which is competition?</td>\n",
       "      <td>Contest competition has been observed in a var...</td>\n",
       "      <td>a bear takes a salmon from the stream</td>\n",
       "      <td>a bear takes a salmon from the stream</td>\n",
       "      <td>a shark eats a tuna that an orca was hunting</td>\n",
       "      <td>a slug eats a blade of grass</td>\n",
       "      <td>a giraffe eats the highest leaves</td>\n",
       "      <td>C</td>\n",
       "    </tr>\n",
       "  </tbody>\n",
       "</table>\n",
       "</div>"
      ],
      "text/plain": [
       "                                              prompt  \\\n",
       "0                              How long is a potato?   \n",
       "1  Using only these supplies, which question can ...   \n",
       "2                    What is the basic unit of life?   \n",
       "3  Complete the statement. Assume that the motorc...   \n",
       "4                              Which is competition?   \n",
       "\n",
       "                                             context  \\\n",
       "0  Home gardeners often plant a piece of potato w...   \n",
       "1  While dry labs are a huge problem today and ca...   \n",
       "2  The cell is the basic structural and functiona...   \n",
       "3  The internal forces are caused by the rider an...   \n",
       "4  Contest competition has been observed in a var...   \n",
       "\n",
       "                                                   A  \\\n",
       "0                                            7 yards   \n",
       "1  Do round rocks or flat rocks skip more times w...   \n",
       "2                                               atom   \n",
       "3                                          decreased   \n",
       "4              a bear takes a salmon from the stream   \n",
       "\n",
       "                                                   B  \\\n",
       "0                                           7 inches   \n",
       "1  Do small rocks or large rocks skip more times ...   \n",
       "2                                               cell   \n",
       "3                                    stayed the same   \n",
       "4              a bear takes a salmon from the stream   \n",
       "\n",
       "                                                   C  \\\n",
       "0                                             7 feet   \n",
       "1  Do rocks skip more times when thrown across a ...   \n",
       "2                                            element   \n",
       "3                                    stayed the same   \n",
       "4       a shark eats a tuna that an orca was hunting   \n",
       "\n",
       "                                                   D  \\\n",
       "0                                            7 miles   \n",
       "1  Do rocks skip more times when thrown across a ...   \n",
       "2                                               atom   \n",
       "3                                    stayed the same   \n",
       "4                       a slug eats a blade of grass   \n",
       "\n",
       "                                                   E answer  \n",
       "0                                             7 feet      B  \n",
       "1  Do round rocks or flat rocks skip more times w...      B  \n",
       "2                                            nucleus      B  \n",
       "3                                          increased      E  \n",
       "4                  a giraffe eats the highest leaves      C  "
      ]
     },
     "execution_count": 18,
     "metadata": {},
     "output_type": "execute_result"
    }
   ],
   "source": [
    "\n",
    "# PREPROCESS AND CONCATENATE 3 DATASETS\n",
    "COLS = [c for c in MMLU.columns if c != 'is_question']\n",
    "ScienceQA_3 = ScienceQA_3.apply(make_random_4_from_3,axis=1)\n",
    "ScienceQA_3= ScienceQA_3[COLS]\n",
    "ScienceQA_4= ScienceQA_4[COLS]\n",
    "OpenBook = OpenBook[COLS]\n",
    "df_train = pd.concat([MMLU,ScienceQA_3,ScienceQA_4,OpenBook],axis=0,ignore_index=True)\n",
    "df_train = df_train.apply(make_random_5_from_4,axis=1)\n",
    "df_train = df_train.sample(frac=1).reset_index(drop=True)\n",
    "df_train = df_train[['prompt','context','A','B','C','D','E','answer']]\n",
    "df_train = df_train.fillna('')\n",
    "print('Train shape', df_train.shape)\n",
    "    \n",
    "df_train.head()"
   ]
  },
  {
   "cell_type": "code",
   "execution_count": 19,
   "metadata": {},
   "outputs": [],
   "source": [
    "df_train.to_csv('dataset/train_cdeotte.csv',index=False)"
   ]
  }
 ],
 "metadata": {
  "kernelspec": {
   "display_name": "cuda2",
   "language": "python",
   "name": "python3"
  },
  "language_info": {
   "codemirror_mode": {
    "name": "ipython",
    "version": 3
   },
   "file_extension": ".py",
   "mimetype": "text/x-python",
   "name": "python",
   "nbconvert_exporter": "python",
   "pygments_lexer": "ipython3",
   "version": "3.8.18"
  }
 },
 "nbformat": 4,
 "nbformat_minor": 2
}
